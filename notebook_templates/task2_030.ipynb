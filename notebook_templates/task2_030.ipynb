{
 "cells": [
  {
   "cell_type": "markdown",
   "metadata": {
    "id": "S8tinZOUlDER"
   },
   "source": [
    "<div class=\"alert alert-block alert-danger\">\n",
    "\n",
    "# FIT5196 Task 1 in Assessment 1\n",
    "#### Student Name: Michael Xie, Weiliang Huang\n",
    "#### Student ID: 31482919, 34370862\n",
    "\n",
    "Date: 8/24/2024\n",
    "\n",
    "\n",
    "Environment: Python 3.11.9\n",
    "\n",
    "Libraries used:\n",
    "* os (for interacting with the operating system, included in Python xxxx) \n",
    "* pandas 1.1.0 (for dataframe, installed and imported) \n",
    "* multiprocessing (for performing processes on multi cores, included in Python 3.6.9 package) \n",
    "* itertools (for performing operations on iterables)\n",
    "* nltk 3.5 (Natural Language Toolkit, installed and imported)\n",
    "* nltk.tokenize (for tokenization, installed and imported)\n",
    "* nltk.stem (for stemming the tokens, installed and imported)\n",
    "\n",
    "    </div>"
   ]
  },
  {
   "cell_type": "markdown",
   "metadata": {
    "id": "xnnLnFnLlDEU"
   },
   "source": [
    "<div class=\"alert alert-block alert-info\">\n",
    "    \n",
    "## Table of Contents\n",
    "\n",
    "</div>\n",
    "\n",
    "[1. Introduction](#Intro) <br>\n",
    "[2. Importing Libraries](#libs) <br>\n",
    "[3. Examining Input File](#examine) <br>\n",
    "[4. Loading and Parsing Files](#load) <br>\n",
    "$\\;\\;\\;\\;$[4.1. Tokenization](#tokenize) <br>\n",
    "$\\;\\;\\;\\;$[4.2. Whatever else](#whetev) <br>\n",
    "$\\;\\;\\;\\;$[4.3. Genegrate numerical representation](#whetev1) <br>\n",
    "[5. Writing Output Files](#write) <br>\n",
    "$\\;\\;\\;\\;$[5.1. Vocabulary List](#write-vocab) <br>\n",
    "$\\;\\;\\;\\;$[5.2. Sparse Matrix](#write-sparseMat) <br>\n",
    "[6. Summary](#summary) <br>\n",
    "[7. References](#Ref) <br>"
   ]
  },
  {
   "cell_type": "markdown",
   "metadata": {
    "id": "z8mo6PPRlDEU"
   },
   "source": [
    "<div class=\"alert alert-block alert-success\">\n",
    "    \n",
    "## 1.  Introduction  <a class=\"anchor\" name=\"Intro\"></a>"
   ]
  },
  {
   "cell_type": "markdown",
   "metadata": {
    "id": "ewZrff73lDEV"
   },
   "source": [
    "This script tokenizes the review text extracted from task1 and generates two output files: a vocabulary dictionary of the tokens in a text format and a count vector text file that lists the token indices and their frequencies for each gmap_id."
   ]
  },
  {
   "cell_type": "markdown",
   "metadata": {
    "id": "bSr_kwKclDEV"
   },
   "source": [
    "<div class=\"alert alert-block alert-success\">\n",
    "    \n",
    "## 2.  Importing Libraries  <a class=\"anchor\" name=\"libs\"></a>"
   ]
  },
  {
   "cell_type": "markdown",
   "metadata": {
    "id": "acwZw2NklDEW"
   },
   "source": [
    "In this assessment, any python packages is permitted to be used. The following packages were used to accomplish the related tasks:\n",
    "\n",
    "* **os:** to interact with the operating system, e.g. navigate through folders to read files\n",
    "* **re:** to define and use regular expressions\n",
    "* **pandas:** to work with dataframes\n",
    "* **multiprocessing:** to perform processes on multi cores for fast performance \n",
    "* ..."
   ]
  },
  {
   "cell_type": "code",
   "execution_count": 1,
   "metadata": {
    "id": "qgmGWs8HlDEW"
   },
   "outputs": [],
   "source": [
    "import os\n",
    "import re\n",
    "import langid\n",
    "import pandas as pd\n",
    "import multiprocessing\n",
    "from itertools import chain\n",
    "import nltk\n",
    "from nltk.probability import *\n",
    "from nltk.tokenize import RegexpTokenizer\n",
    "from nltk.tokenize import MWETokenizer\n",
    "from nltk.stem import PorterStemmer\n",
    "from nltk.util import ngrams\n",
    "from sklearn.feature_extraction.text import CountVectorizer"
   ]
  },
  {
   "cell_type": "markdown",
   "metadata": {
    "id": "lwNp0KnWlDEX"
   },
   "source": [
    "-------------------------------------"
   ]
  },
  {
   "cell_type": "markdown",
   "metadata": {
    "collapsed": true,
    "id": "SA7fSJiRlDEY"
   },
   "source": [
    "<div class=\"alert alert-block alert-success\">\n",
    "    \n",
    "## 3.  Examining Input File <a class=\"anchor\" name=\"examine\"></a>"
   ]
  },
  {
   "cell_type": "code",
   "execution_count": 2,
   "metadata": {
    "id": "bPCuEl8smTHW"
   },
   "outputs": [
    {
     "name": "stdout",
     "output_type": "stream",
     "text": [
      "                                  gmap_id  \\\n",
      "0   0x5490148aca2c3e9d:0xf5573bee4e65e43c   \n",
      "1   0x54d067024d499153:0x5957bba66f2cf917   \n",
      "2   0x54d15a8c9fadd0c5:0x6f3dabf2061ca13f   \n",
      "3   0x80803548ec1ed4e7:0x82301f8f5a243561   \n",
      "4   0x80843588fed19c55:0xeaed4339ca3a5967   \n",
      "5   0x80843810081ce52d:0xed9e63802f656fe7   \n",
      "6   0x808447fe73cd23ab:0x9a8fd8436f9d84d5   \n",
      "7   0x808449d77b0212b5:0x8f32f8ff844d7e15   \n",
      "8   0x8085060f89b7ac43:0xb0db1097221c151e   \n",
      "9   0x808517fb689abafd:0xd662d905045592e0   \n",
      "10  0x808529739eb69bdd:0x174d073b048699d0   \n",
      "11  0x80855e53a323f00f:0xdbd68e939269806f   \n",
      "12  0x808572d5961d0141:0x104fb9da48fc825e   \n",
      "13  0x808577829c93b681:0x41940bcc76235129   \n",
      "14  0x808577a5ebed2af3:0x9880cc61319ef89a   \n",
      "15  0x808577b5770fa1c3:0xf2777e033abcfb2e   \n",
      "16  0x80857e798a45fe1d:0x3cc6b3be2874dea2   \n",
      "17  0x80857e82c27f75c9:0x3b3b5cd77d6f371f   \n",
      "18  0x80857ea1c8988d17:0xece1a0dfa7274ed3   \n",
      "19  0x808580a2741aa893:0x4d9d188582960372   \n",
      "\n",
      "                                              reviews             earliest  \\\n",
      "0   [{'user_id': '116224981347936201404', 'time': ...  2015-02-18 04:11:32   \n",
      "1   [{'user_id': '101841141703065914959', 'time': ...  2019-09-10 04:30:03   \n",
      "2   [{'user_id': '117474486532753329289', 'time': ...  2011-02-04 10:15:09   \n",
      "3   [{'user_id': '114379335207252591536', 'time': ...  2012-10-19 07:46:12   \n",
      "4   [{'user_id': '105759461613667378610', 'time': ...  2020-02-22 15:41:31   \n",
      "5   [{'user_id': '115950312026745775978', 'time': ...  2016-06-02 01:48:07   \n",
      "6   [{'user_id': '106049530697733367125', 'time': ...  2006-03-13 11:00:00   \n",
      "7   [{'user_id': '113820792697653426348', 'time': ...  2013-07-04 05:49:23   \n",
      "8   [{'user_id': '110528677426487009216', 'time': ...  2013-06-03 12:37:09   \n",
      "9   [{'user_id': '111430634690906206153', 'time': ...  2016-05-03 08:01:25   \n",
      "10  [{'user_id': '115793666861842870537', 'time': ...  2011-08-08 03:39:39   \n",
      "11  [{'user_id': '100639117044621331178', 'time': ...  2013-01-01 03:14:50   \n",
      "12  [{'user_id': '101601337128256211149', 'time': ...  2009-08-25 13:37:08   \n",
      "13  [{'user_id': '101894575712333651498', 'time': ...  2011-11-25 06:04:58   \n",
      "14  [{'user_id': '106794826795284769843', 'time': ...  2015-04-10 08:12:03   \n",
      "15  [{'user_id': '112980794138024577481', 'time': ...  2013-07-04 10:20:11   \n",
      "16  [{'user_id': '104816159864697130516', 'time': ...  2012-09-01 08:39:23   \n",
      "17  [{'user_id': '114389874870768911919', 'time': ...  2012-07-03 10:43:39   \n",
      "18  [{'user_id': '110046042217494345687', 'time': ...  2010-08-31 11:25:00   \n",
      "19  [{'user_id': '106881324057594095098', 'time': ...  2013-07-26 01:58:25   \n",
      "\n",
      "                 latest  \n",
      "0   2021-05-16 13:40:40  \n",
      "1   2021-06-22 03:11:41  \n",
      "2   2021-05-13 07:26:56  \n",
      "3   2020-10-02 10:11:20  \n",
      "4   2021-06-12 13:36:21  \n",
      "5   2021-06-01 10:54:07  \n",
      "6   2018-03-26 01:40:43  \n",
      "7   2021-05-27 05:13:07  \n",
      "8   2021-05-24 11:43:17  \n",
      "9   2020-08-04 12:20:07  \n",
      "10  2021-05-23 08:24:05  \n",
      "11  2021-05-10 15:56:11  \n",
      "12  2019-05-12 16:19:04  \n",
      "13  2021-07-16 05:49:27  \n",
      "14  2021-04-30 11:35:39  \n",
      "15  2021-06-12 03:07:15  \n",
      "16  2021-06-02 10:25:56  \n",
      "17  2021-05-22 00:18:33  \n",
      "18  2021-04-14 10:59:43  \n",
      "19  2020-11-01 06:42:14  \n"
     ]
    }
   ],
   "source": [
    "df = pd.read_json(\"task1_030.json\")\n",
    "df = df.T.reset_index() # Transpose the DataFrame and reset the index to convert JSON keys to columns\n",
    "df.columns = ['gmap_id', 'reviews', 'earliest', 'latest'] # Rename columns for clarity\n",
    "print(df.head(20))\n",
    "# Iterate over each row in the DataFrame\n",
    "for index, row in df.iterrows():\n",
    "    # Filter out reviews where 'review_text' is \"None\"\n",
    "    filtered_reviews = [review for review in row[\"reviews\"] if review.get(\"review_text\") != \"None\"]\n",
    "    df.at[index, \"reviews\"] = filtered_reviews"
   ]
  },
  {
   "cell_type": "markdown",
   "metadata": {},
   "source": [
    "Justification: After reading the json file into a pandas dataframe. I found that the column and rows need to be transposed. Hence I used .T to ahieve that. Only the review contains more than 70 texts review is needed. So I used a list comprehension first to drop the review that is \"None\"."
   ]
  },
  {
   "cell_type": "markdown",
   "metadata": {
    "collapsed": true,
    "id": "ENnHWjoXlDEc"
   },
   "source": [
    "<div class=\"alert alert-block alert-success\">\n",
    "    \n",
    "## 4.  Loading and Parsing File <a class=\"anchor\" name=\"load\"></a>"
   ]
  },
  {
   "cell_type": "markdown",
   "metadata": {
    "id": "N9esGMx8lDEc"
   },
   "source": [
    "In this section, ...."
   ]
  },
  {
   "cell_type": "code",
   "execution_count": 3,
   "metadata": {
    "id": "YsnRR2c4lDEc"
   },
   "outputs": [
    {
     "name": "stdout",
     "output_type": "stream",
     "text": [
      "(176, 4)\n",
      "(78, 5)\n"
     ]
    }
   ],
   "source": [
    "print(df.shape)\n",
    "def extract_reviews(df):\n",
    "    # Filter out rows where the 'reviews' list has fewer than 70 entries and reset the index\n",
    "    df = df[df['reviews'].apply(len) >= 70].reset_index(drop=True)\n",
    "    df['review_text'] = '' # Initialize a new column 'review_text' to store combined review text\n",
    "    for index, row in df.iterrows():\n",
    "        review_texts = [] # Initialize a list to store review texts for the current row\n",
    "         # Iterate over each review in the 'reviews' list of the current row\n",
    "        for review in row['reviews']:\n",
    "            text = review.get('review_text', '').lower()\n",
    "            text = re.sub(r'[^\\x00-\\x7F]+', '', text) # Remove non-ASCII characters\n",
    "            review_texts.append(text)\n",
    "        df.at[index, 'review_text'] = ' '.join(review_texts)\n",
    "    print(df.shape)\n",
    "    return df\n",
    "\n",
    "df_review = extract_reviews(df)"
   ]
  },
  {
   "cell_type": "markdown",
   "metadata": {
    "id": "-uh9oUXAlDEd"
   },
   "source": [
    "After dropping all the review_text which is \"None\", I filtered the review by whose \"reviews\" list has more than 70 elements by applying len() method. After filtering the reviews, I created a new dataframe to store them. After that, a for loop is used to iterate through each row of the new data frame to store the review text to a new column \"review_text\". And then, join the review_text list to a string for further tokenization."
   ]
  },
  {
   "cell_type": "markdown",
   "metadata": {
    "collapsed": true,
    "id": "VIfQCD1VlDEe"
   },
   "source": [
    "<div class=\"alert alert-block alert-warning\">\n",
    "    \n",
    "### 4.1. Tokenization <a class=\"anchor\" name=\"tokenize\"></a>"
   ]
  },
  {
   "cell_type": "markdown",
   "metadata": {
    "id": "gchByyjolDEf"
   },
   "source": [
    "Tokenization is a principal step in text processing and producing unigrams. In this section, ...."
   ]
  },
  {
   "cell_type": "code",
   "execution_count": 4,
   "metadata": {},
   "outputs": [],
   "source": [
    "#Correct version\n",
    "stopwords_list = []\n",
    "with open(r'Student Data/stopwords_en.txt', 'r') as file:\n",
    "    for line in file:\n",
    "        stopwords_list.append(line.strip()) # Read each line, strip whitespace, and add to the stopwords list\n",
    "df_review[\"tokennized_review\"] = None # Initialize a new column 'tokennized_review' with None values to store tokenized and processed reviews\n",
    "\n",
    "for index,row in df_review.iterrows():\n",
    "    # Tokenization\n",
    "    review_text = row[\"review_text\"]\n",
    "    tokenizer = RegexpTokenizer(r\"[a-zA-Z]+\")\n",
    "    unigram_tokens = tokenizer.tokenize(review_text) # Tokenize the review text into words\n",
    "\n",
    "    # Remove tokens less than three\n",
    "    unigram_tokens = [token for token in unigram_tokens if len(token) >= 3]\n",
    "\n",
    "    # Remove independent stop words\n",
    "    stopped_tokens = [w for w in unigram_tokens if w not in stopwords_list]\n",
    "    #Stemming: Reduce tokens to their root form using the Porter stemmer\n",
    "    stemmer = PorterStemmer()\n",
    "    stemed_tokens = [stemmer.stem(token) for token in stopped_tokens]\n",
    "    # Store the processed tokens in the 'tokennized_review' column of the DataFrame\n",
    "    df_review.at[index, \"tokennized_review\"] = stemed_tokens\n",
    "    # print(mwe_tokens)"
   ]
  },
  {
   "cell_type": "markdown",
   "metadata": {
    "id": "ZqZos1q6lDEf"
   },
   "source": [
    "1. Read the stopwords txt and append them to a list called stopwords_lis\n",
    "2. Iterate through the rows of df_reviews\n",
    "3. Task a finished: Tokenize the review_text of each row by RegexpTokenizer\n",
    "- **Justification**: To perform further processing like remove stop words, Stemmentization etc, Words need to be tokenized first.\n",
    "4. Task e finished: Used list comprehension to  filter out the tokens to be length longer than3\n",
    "- **Justification**: Words's Lenth less than 3 are always meanningless words. Remove than at the beginning can help improve efficency of data processing.\n",
    "5. Task b1 finishied: Used list comprehension to filter the unigram_tokens by word not in the stop_word list.\n",
    "- **Justification**: Stop words are considered noise that needs to be removed. Remove them before stemmatization, because if the stopwords are stemmed first, the words would be transformed that not being able to match the stopword list.\n",
    "6. Stemming the remaining tokens to their root forms using the Porter Stemmer.\n",
    "- **Justification**: To identify context dependent stopwords, words need to be stemmed before removing them"
   ]
  },
  {
   "cell_type": "code",
   "execution_count": 5,
   "metadata": {
    "id": "OPBNTTq6lDEg"
   },
   "outputs": [],
   "source": [
    "# Remove context-dependent stopwords\n",
    "word_in_business = {}  # Initialize a dictionary to track the set of businesses in which each word appears\n",
    "total_businesses = df_review.shape[0]  # Get the total number of businesses (documents) in the DataFrame\n",
    "\n",
    "for index, row in df_review.iterrows():\n",
    "    gmap_id = row['gmap_id']  \n",
    "    unique_words = set(row['tokennized_review'])  # Convert the tokenized review into a set of unique words\n",
    "\n",
    "    # Update the dictionary with each word and the set of businesses where it appears\n",
    "    for word in unique_words:\n",
    "        if word not in word_in_business:\n",
    "            word_in_business[word] = set()  # Initialize an empty set for the word if it does not exist in the dictionary\n",
    "        word_in_business[word].add(gmap_id)  # Add the current business ID to the set for the word\n",
    "\n",
    "# Identify context-dependent stopwords that appear in more than 95% of businesses\n",
    "context_dependent_stopwords = [word for word, business_set in word_in_business.items()\n",
    "                                if len(business_set) / total_businesses > 0.95]\n",
    "\n",
    "for index, row in df_review.iterrows():\n",
    "    stopped_tokens = [w for w in row['tokennized_review'] if w not in context_dependent_stopwords]\n",
    "    df_review.at[index, \"tokennized_review\"] = stopped_tokens\n"
   ]
  },
  {
   "cell_type": "markdown",
   "metadata": {},
   "source": [
    "1.Identifying and removing context-dependent stopwords, which are words that appear in more than 95% of businesses.\n",
    "- **Justification**: For example: \"The words \"restaurant\" and \"restaurants\" are treated separately. \"Restaurant\" might appear in 80% of reviews, and \"restaurants\" in 20%. Individually, neither might exceed a frequency threshold (like 95%). Thus, neither is removed as a context-dependent stopword."
   ]
  },
  {
   "cell_type": "code",
   "execution_count": 6,
   "metadata": {},
   "outputs": [],
   "source": [
    "# Remove rare words\n",
    "word_in_business = {}\n",
    "total_businesses = df_review.shape[0]\n",
    "\n",
    "for index, row in df_review.iterrows():\n",
    "    gmap_id = row['gmap_id']\n",
    "    unique_words = set(row['tokennized_review'])\n",
    "\n",
    "    # Update the dictionary with each word and its associated businesses\n",
    "    for word in unique_words:\n",
    "        if word not in word_in_business:\n",
    "            word_in_business[word] = set()\n",
    "        word_in_business[word].add(gmap_id)\n",
    "\n",
    "rare_words = [word for word, business_set in word_in_business.items()\n",
    "                                if len(business_set) / total_businesses < 0.05]\n",
    "\n",
    "# Iterate over each row again to remove rare words from tokenized reviews\n",
    "for index,row in df_review.iterrows():\n",
    "    rared_tokens = [w for w in row['tokennized_review'] if w not in rare_words]\n",
    "    df_review.at[index, \"tokennized_review\"] = rared_tokens\n"
   ]
  },
  {
   "cell_type": "markdown",
   "metadata": {},
   "source": [
    "1. The purpose of this code is to remove rare words from the tokenized reviews. Rare words are defined as those that appear in less than 5% of the businesses in the dataset.\n",
    "- **Justification**: This step should be done after stemmatization. For example,\"running,\" \"ran,\" and \"runs\" all stem to \"run.\" If rare word removal were done before stemming, each form would be treated as a separate entity, potentially missing the fact that collectively they might not be rare."
   ]
  },
  {
   "cell_type": "code",
   "execution_count": 7,
   "metadata": {},
   "outputs": [],
   "source": [
    "# Bigram words\n",
    "# Combine all tokenized reviews into a single list of words\n",
    "all_tokens = sum(df_review[\"tokennized_review\"], [])\n",
    "\n",
    "# Set up bigram association measures and finder\n",
    "bigram_measures = nltk.collocations.BigramAssocMeasures()\n",
    "finder = nltk.collocations.BigramCollocationFinder.from_words(all_tokens)\n",
    "\n",
    "# Select the top 200 bigrams using Pointwise Mutual Information (PMI) as the scoring measure\n",
    "bigram_token = finder.nbest(bigram_measures.pmi, 200) \n",
    "\n",
    "# Initialize a Multi-Word Expression (MWE) tokenizer with the identified bigrams\n",
    "tokenizer = MWETokenizer(bigram_token)\n",
    "\n",
    "for index, row in df_review.iterrows():\n",
    "    # Tokenize the review using the MWE tokenizer to combine bigrams into single tokens\n",
    "    mwe_tokens = tokenizer.tokenize(row[\"tokennized_review\"])\n",
    "    # Update the 'tokennized_review' column with the new tokens including bigrams\n",
    "    df_review.at[index, \"tokennized_review\"] = mwe_tokens  "
   ]
  },
  {
   "cell_type": "markdown",
   "metadata": {},
   "source": [
    "1. Used MWETokenizer with pmi to find the first 200 bigrams and iterate through each row to identify the bigram and add bigram to it.\n",
    "\n",
    "- **Justification**: The Pointwise Mutual Information (PMI) measure used to identify meaningful bigrams relies on the frequency and co-occurrence of words within a text. By removing unimportant or noisy words first, the PMI calculation becomes more accurate and reflective of meaningful word associations. If bigrams were generated earlier, PMI scores could be skewed by the presence of irrelevant or overly common tokens, leading to less meaningful bigrams."
   ]
  },
  {
   "cell_type": "code",
   "execution_count": 8,
   "metadata": {},
   "outputs": [],
   "source": [
    "# Export word count txt file\n",
    "all_tokens_per_doc = [token for token in df_review[\"tokennized_review\"]]"
   ]
  },
  {
   "cell_type": "markdown",
   "metadata": {},
   "source": [
    "1. Sorted the cleaned tokens and write them to test_vocab.txt by desired format."
   ]
  },
  {
   "cell_type": "markdown",
   "metadata": {
    "id": "mVqFfwwMlDEg"
   },
   "source": [
    "At this stage, all reviews for each PID are tokenized and are stored as a value in the new dictionary (separetely for each day).\n",
    "\n",
    "-------------------------------------"
   ]
  },
  {
   "cell_type": "markdown",
   "metadata": {
    "collapsed": true,
    "id": "Ve6IZ2I-lDEg"
   },
   "source": [
    "<div class=\"alert alert-block alert-warning\">\n",
    "    \n",
    "### 4.2. Generate numerical representation<a class=\"anchor\" name=\"bigrams\"></a>"
   ]
  },
  {
   "cell_type": "markdown",
   "metadata": {
    "id": "erGhUY2UlDEg"
   },
   "source": [
    "One of the tasks is to generate the numerical representation for all tokens in abstract.  ....."
   ]
  },
  {
   "cell_type": "code",
   "execution_count": 9,
   "metadata": {
    "id": "sgFFtm6qlDEg"
   },
   "outputs": [
    {
     "name": "stdout",
     "output_type": "stream",
     "text": [
      "{'abil': 0, 'absolut': 1, 'absurd': 2, 'accept': 3, 'access': 4, 'accessori': 5, 'accid': 6, 'accident': 7, 'accommod': 8, 'accompani': 9, 'accomplish': 10, 'account': 11, 'accur': 12, 'ace': 13, 'ace_hardwar': 14, 'ace_truth': 15, 'achiev': 16, 'achiev_youth': 17, 'acknowledg': 18, 'acquaint': 19, 'act': 20, 'action': 21, 'activ': 22, 'actual': 23, 'ad': 24, 'adapt': 25, 'adapt_indoor': 26, 'add': 27, 'addict': 28, 'addit': 29, 'address': 30, 'adequ': 31, 'adjac': 32, 'adjust': 33, 'admir': 34, 'admit': 35, 'adopt': 36, 'ador': 37, 'adult': 38, 'advanc': 39, 'advantag': 40, 'adventur': 41, 'advertis': 42, 'advic': 43, 'advis': 44, 'advisor': 45, 'advisor_supris': 46, 'aesthet': 47, 'aesthet_idk': 48, 'affect': 49, 'afford': 50, 'afraid': 51, 'afternoon': 52, 'age': 53, 'agenc': 54, 'agent': 55, 'aggress': 56, 'ago': 57, 'agre': 58, 'ahead': 59, 'ain': 60, 'air': 61, 'alcohol': 62, 'alert': 63, 'alex': 64, 'alik': 65, 'alik_ador': 66, 'alittl': 67, 'allerg': 68, 'allergi': 69, 'allergi_rid': 70, 'allow': 71, 'almond': 72, 'alot': 73, 'alright': 74, 'altern': 75, 'alway': 76, 'amaz': 77, 'amazingli': 78, 'amazon': 79, 'amazon_hub': 80, 'amber': 81, 'ambianc': 82, 'ambienc': 83, 'amd': 84, 'amen': 85, 'america': 86, 'american': 87, 'amiabl': 88, 'amiabl_eventu': 89, 'amount': 90, 'ampl': 91, 'andrew': 92, 'angel': 93, 'angl': 94, 'angri': 95, 'angri_inch': 96, 'anim': 97, 'annoy': 98, 'annual': 99, 'answer': 100, 'anthoni': 101, 'anticip': 102, 'anxieti': 103, 'anxiou': 104, 'anymor': 105, 'anytim': 106, 'apart': 107, 'apolog': 108, 'apologet': 109, 'apologet_flag': 110, 'app': 111, 'appar': 112, 'appeal': 113, 'appear': 114, 'appet': 115, 'appetit': 116, 'appetit_foodi': 117, 'appl': 118, 'appli': 119, 'applianc': 120, 'applic': 121, 'appoint': 122, 'appreci': 123, 'apprehens': 124, 'approach': 125, 'approv': 126, 'appt': 127, 'april': 128, 'apt': 129, 'apt_permiss': 130, 'architectur': 131, 'area': 132, 'aren': 133, 'argu': 134, 'argument': 135, 'aris': 136, 'arm': 137, 'arm_leg': 138, 'arm_twist': 139, 'arrang': 140, 'arriv': 141, 'art': 142, 'asada': 143, 'asap': 144, 'asian': 145, 'ask': 146, 'aspect': 147, 'ass': 148, 'assembl': 149, 'assess': 150, 'asset': 151, 'assist': 152, 'associ': 153, 'assort': 154, 'assum': 155, 'assur': 156, 'ate': 157, 'atmospher': 158, 'attach': 159, 'attempt': 160, 'attend': 161, 'attent': 162, 'attitud': 163, 'attract': 164, 'august': 165, 'authent': 166, 'author': 167, 'author_clariti': 168, 'auto': 169, 'autom': 170, 'automat': 171, 'automat_reward': 172, 'avail': 173, 'ave': 174, 'avenu': 175, 'averag': 176, 'avocado': 177, 'avoid': 178, 'aw': 179, 'awar': 180, 'award': 181, 'award_winner': 182, 'awhil': 183, 'awkward': 184, 'awsom': 185, 'babi': 186, 'back': 187, 'bacon': 188, 'bad': 189, 'badli': 190, 'bag': 191, 'bait_switch': 192, 'bait_tactic': 193, 'bake': 194, 'bakeri': 195, 'balanc': 196, 'ball': 197, 'banana': 198, 'band': 199, 'bang': 200, 'bang_buck': 201, 'bank': 202, 'bar': 203, 'barbecu': 204, 'bare': 205, 'bargain': 206, 'bark': 207, 'bartend': 208, 'base': 209, 'basi': 210, 'basic': 211, 'basil': 212, 'basket': 213, 'bath': 214, 'bathroom': 215, 'bathtub': 216, 'batter': 217, 'batteri': 218, 'bay': 219, 'bbq': 220, 'beach': 221, 'bean': 222, 'bear': 223, 'beat': 224, 'beaten': 225, 'beauti': 226, 'bed': 227, 'beef': 228, 'beer': 229, 'beg': 230, 'began': 231, 'begin': 232, 'behavior': 233, 'believ': 234, 'bell': 235, 'belong': 236, 'bench': 237, 'benefit': 238, 'bent': 239, 'bent_fool': 240, 'bent_sheet': 241, 'bent_slide': 242, 'berkeley': 243, 'berri': 244, 'bet': 245, 'beverag': 246, 'bewar': 247, 'big': 248, 'bigger': 249, 'biggest': 250, 'bike': 251, 'bill': 252, 'bind': 253, 'bird': 254, 'bird_ghost': 255, 'birthday': 256, 'bit': 257, 'bite': 258, 'bitter': 259, 'black': 260, 'blame': 261, 'bland': 262, 'blanket': 263, 'blast': 264, 'bldg': 265, 'blend': 266, 'bless': 267, 'blew': 268, 'blind': 269, 'blink': 270, 'block': 271, 'blood': 272, 'blow': 273, 'blown': 274, 'blue': 275, 'blvd': 276, 'bmw': 277, 'board': 278, 'bodi': 279, 'boil': 280, 'bolt': 281, 'bomb': 282, 'bone': 283, 'bonu': 284, 'book': 285, 'boom': 286, 'boot': 287, 'booth': 288, 'border': 289, 'bore': 290, 'born': 291, 'boss': 292, 'bother': 293, 'bottl': 294, 'bottom': 295, 'bought': 296, 'bound': 297, 'bowl': 298, 'box': 299, 'boy': 300, 'boyfriend': 301, 'brace': 302, 'brake': 303, 'branch': 304, 'brand': 305, 'bravo': 306, 'bread': 307, 'break': 308, 'breakdown': 309, 'breakfast': 310, 'breath': 311, 'breez': 312, 'brian': 313, 'brick': 314, 'bridg': 315, 'bridg_bone': 316, 'bridg_law': 317, 'bright': 318, 'brilliant': 319, 'bring': 320, 'bro': 321, 'broccoli': 322, 'broke': 323, 'broken': 324, 'broker': 325, 'brother': 326, 'brought': 327, 'brown': 328, 'brunch': 329, 'brush': 330, 'bryan': 331, 'btw': 332, 'bu': 333, 'bubbl': 334, 'buck': 335, 'bud': 336, 'buddi': 337, 'budget': 338, 'bug': 339, 'build': 340, 'built': 341, 'bulli': 342, 'bum': 343, 'bum_ador': 344, 'bump': 345, 'bun': 346, 'bunch': 347, 'burger': 348, 'burn': 349, 'burnt': 350, 'burrito': 351, 'busi': 352, 'busier': 353, 'busiest': 354, 'bust': 355, 'butter': 356, 'butteri': 357, 'button': 358, 'buy': 359, 'buyer': 360, 'cabl': 361, 'cafe': 362, 'cake': 363, 'cal': 364, 'cali': 365, 'california': 366, 'call': 367, 'calm': 368, 'camera': 369, 'camp': 370, 'camri': 371, 'canada': 372, 'cancel': 373, 'cancer': 374, 'candi': 375, 'cap': 376, 'capabl': 377, 'car': 378, 'carbon': 379, 'carbon_carnita': 380, 'card': 381, 'care': 382, 'carlo': 383, 'carmel': 384, 'carn_asada': 385, 'carnita': 386, 'carol': 387, 'carpet': 388, 'carpet_kit': 389, 'carri': 390, 'cart': 391, 'case': 392, 'cash': 393, 'cashier': 394, 'casual': 395, 'cat': 396, 'catch': 397, 'categori': 398, 'cater': 399, 'caught': 400, 'caus': 401, 'cautiou': 402, 'caviti': 403, 'ceil': 404, 'celebr': 405, 'cell': 406, 'cent': 407, 'center': 408, 'central': 409, 'certifi': 410, 'chain': 411, 'chair': 412, 'challeng': 413, 'chanc': 414, 'chang': 415, 'charact': 416, 'charg': 417, 'charger': 418, 'charm': 419, 'chase': 420, 'chat': 421, 'cheap': 422, 'cheaper': 423, 'cheapest': 424, 'cheat': 425, 'check': 426, 'checkout': 427, 'cheer': 428, 'chees': 429, 'cheeseburg': 430, 'chef': 431, 'cherri': 432, 'cherri_burnt': 433, 'chevi': 434, 'chicago': 435, 'chicken': 436, 'child': 437, 'childhood': 438, 'childhood_donut': 439, 'children': 440, 'chile': 441, 'chili': 442, 'chill': 443, 'chilli': 444, 'chines': 445, 'chip': 446, 'chocol': 447, 'choic': 448, 'choos': 449, 'chop': 450, 'chorizo': 451, 'chose': 452, 'chosen': 453, 'chow': 454, 'chri': 455, 'christian': 456, 'christma': 457, 'cigarett': 458, 'cigarett_smoke': 459, 'circl': 460, 'citi': 461, 'citizen': 462, 'claim': 463, 'clam': 464, 'clam_holi': 465, 'clariti': 466, 'class': 467, 'classic': 468, 'clean': 469, 'cleaner': 470, 'cleanest': 471, 'cleanli': 472, 'cleanup': 473, 'clear': 474, 'clerk': 475, 'click': 476, 'client': 477, 'clinic': 478, 'clock': 479, 'clock_warehous': 480, 'clog': 481, 'close': 482, 'closer': 483, 'closest': 484, 'closet': 485, 'cloth': 486, 'club': 487, 'coast': 488, 'coat': 489, 'cockroach': 490, 'cocktail': 491, 'coconut': 492, 'code': 493, 'coffe': 494, 'coke': 495, 'cold': 496, 'collabor': 497, 'colleagu': 498, 'collect': 499, 'colleg': 500, 'color': 501, 'combin': 502, 'combo': 503, 'come': 504, 'comfi': 505, 'comfort': 506, 'commend': 507, 'comment': 508, 'commerci': 509, 'commit': 510, 'common': 511, 'commun': 512, 'commut': 513, 'compani': 514, 'compar': 515, 'comparison': 516, 'comparison_starter': 517, 'compass': 518, 'compassion': 519, 'compet': 520, 'competit': 521, 'competitor': 522, 'complain': 523, 'complaint': 524, 'complement': 525, 'complet': 526, 'complex': 527, 'complic': 528, 'compliment': 529, 'complimentari': 530, 'comprehens': 531, 'comput': 532, 'con': 533, 'concept': 534, 'concern': 535, 'concis': 536, 'conclus': 537, 'concret': 538, 'condens': 539, 'condit': 540, 'condo': 541, 'condo_bldg': 542, 'condo_reloc': 543, 'conduct': 544, 'cone': 545, 'confer': 546, 'confid': 547, 'confirm': 548, 'confus': 549, 'connect': 550, 'conscienti': 551, 'consid': 552, 'consider': 553, 'consist': 554, 'constant': 555, 'constantli': 556, 'construct': 557, 'consult': 558, 'consum': 559, 'contact': 560, 'contain': 561, 'continu': 562, 'contract': 563, 'contractor': 564, 'contribut': 565, 'control': 566, 'conveni': 567, 'convers': 568, 'convert': 569, 'convinc': 570, 'cook': 571, 'cooki': 572, 'cool': 573, 'coolest': 574, 'cooper': 575, 'coordin': 576, 'copi': 577, 'cordial': 578, 'corn': 579, 'corner': 580, 'corona': 581, 'coronaviru': 582, 'corpor': 583, 'correct': 584, 'correctli': 585, 'cosi': 586, 'cost': 587, 'costco': 588, 'costli': 589, 'costum': 590, 'couch': 591, 'couldn': 592, 'couldnt': 593, 'count': 594, 'counter': 595, 'counti': 596, 'countless': 597, 'countri': 598, 'coupl': 599, 'coupon': 600, 'court': 601, 'courteou': 602, 'courtesi': 603, 'cousin': 604, 'cover': 605, 'coverag': 606, 'covid': 607, 'cowork': 608, 'cozi': 609, 'crab': 610, 'crack': 611, 'craft': 612, 'cramp': 613, 'crave': 614, 'crawl': 615, 'crazi': 616, 'cream': 617, 'creami': 618, 'creat': 619, 'creativ': 620, 'credit': 621, 'crew': 622, 'cri': 623, 'crisi': 624, 'crisp': 625, 'crispi': 626, 'critic': 627, 'cross': 628, 'crowd': 629, 'crown': 630, 'crucial': 631, 'crunch': 632, 'crunchi': 633, 'cruz': 634, 'cube': 635, 'cuisin': 636, 'cultur': 637, 'cup': 638, 'curiou': 639, 'curiou_dare': 640, 'current': 641, 'curri': 642, 'curtiou': 643, 'custom': 644, 'cut': 645, 'cute': 646, 'cuz': 647, 'dad': 648, 'daddi': 649, 'daili': 650, 'dairi': 651, 'dairi_queen': 652, 'damag': 653, 'damn': 654, 'danc': 655, 'danger': 656, 'daniel': 657, 'dare': 658, 'dark': 659, 'date': 660, 'daughter': 661, 'day': 662, 'dead': 663, 'deal': 664, 'dealer': 665, 'dealership': 666, 'dealt': 667, 'dear': 668, 'dear_acknowledg': 669, 'death': 670, 'debat': 671, 'debat_uber': 672, 'debit': 673, 'debt': 674, 'decad': 675, 'decemb': 676, 'decemb_tow': 677, 'decent': 678, 'decid': 679, 'decis': 680, 'declin': 681, 'decor': 682, 'dedic': 683, 'deep': 684, 'def': 685, 'defiantli': 686, 'defin': 687, 'definit': 688, 'degre': 689, 'delay': 690, 'delect': 691, 'deli': 692, 'delic': 693, 'delic_batter': 694, 'delici': 695, 'delight': 696, 'delish': 697, 'deliv': 698, 'deliveri': 699, 'demand': 700, 'demeanor': 701, 'demonstr': 702, 'dental': 703, 'dentist': 704, 'dentistri': 705, 'depart': 706, 'depend': 707, 'deposit': 708, 'describ': 709, 'descript': 710, 'desert': 711, 'deserv': 712, 'design': 713, 'desir': 714, 'desk': 715, 'desper': 716, 'dessert': 717, 'destin': 718, 'detail': 719, 'determin': 720, 'devic': 721, 'diabet': 722, 'diabet_essenti': 723, 'diagnos': 724, 'diagnosi': 725, 'diagnost': 726, 'dian': 727, 'didn': 728, 'didnt': 729, 'die': 730, 'diego': 731, 'diet': 732, 'dietari': 733, 'differ': 734, 'difficult': 735, 'difficulti': 736, 'dig': 737, 'digest': 738, 'dilig': 739, 'dim': 740, 'din': 741, 'dine': 742, 'diner': 743, 'dinner': 744, 'dip': 745, 'direct': 746, 'directli': 747, 'dirt': 748, 'dirt_dust': 749, 'dirti': 750, 'disabl': 751, 'disabl_mobil': 752, 'disappear': 753, 'disappear_unexpectedli': 754, 'disappoint': 755, 'disclos': 756, 'discount': 757, 'discov': 758, 'discuss': 759, 'diseas': 760, 'disgust': 761, 'dish': 762, 'disinfect': 763, 'dismiss': 764, 'disorgan': 765, 'dispens': 766, 'display': 767, 'displeasur': 768, 'disrespect': 769, 'dissatisfi': 770, 'distanc': 771, 'distract': 772, 'district': 773, 'disturb': 774, 'dive': 775, 'divers': 776, 'dmv': 777, 'doc': 778, 'doctor': 779, 'document': 780, 'doesn': 781, 'doesnt': 782, 'dog': 783, 'doggi': 784, 'dollar': 785, 'don': 786, 'dont': 787, 'donut': 788, 'door': 789, 'dope': 790, 'doubl': 791, 'doubt': 792, 'dough': 793, 'dough_spoil': 794, 'downhil': 795, 'downsid': 796, 'downstair': 797, 'downtown': 798, 'dozen': 799, 'drag': 800, 'drag_queen': 801, 'drag_recreat': 802, 'drain': 803, 'dread': 804, 'dream': 805, 'dress': 806, 'dri': 807, 'drill': 808, 'drink': 809, 'drip': 810, 'drive': 811, 'driver': 812, 'driveway': 813, 'driveway_conclus': 814, 'drop': 815, 'drove': 816, 'drug': 817, 'drunk': 818, 'dryer': 819, 'duck': 820, 'dude': 821, 'due': 822, 'dug': 823, 'dumb': 824, 'dump': 825, 'dumpl': 826, 'dust': 827, 'duti': 828, 'eager': 829, 'ear': 830, 'earli': 831, 'earlier': 832, 'earn': 833, 'earth': 834, 'eas': 835, 'easi': 836, 'easier': 837, 'easiest': 838, 'easili': 839, 'east': 840, 'eat': 841, 'eaten': 842, 'eater': 843, 'eater_alik': 844, 'eateri': 845, 'econom': 846, 'edg': 847, 'edit': 848, 'educ': 849, 'effect': 850, 'effici': 851, 'effort': 852, 'effortless': 853, 'egg': 854, 'eggplant': 855, 'elbow': 856, 'elderli': 857, 'electr': 858, 'eleg': 859, 'element': 860, 'elimin': 861, 'elimin_smelli': 862, 'email': 863, 'emerg': 864, 'emili': 865, 'emot': 866, 'empathi': 867, 'employ': 868, 'employe': 869, 'empti': 870, 'encount': 871, 'encourag': 872, 'end': 873, 'endless': 874, 'enemi': 875, 'energet': 876, 'energi': 877, 'enforc': 878, 'engag': 879, 'engin': 880, 'english': 881, 'enjoy': 882, 'enorm': 883, 'ensur': 884, 'enter': 885, 'entertain': 886, 'enthusiast': 887, 'entir': 888, 'entranc': 889, 'entre': 890, 'entri': 891, 'environ': 892, 'epitom': 893, 'equal': 894, 'equip': 895, 'era': 896, 'era_fixtur': 897, 'eric': 898, 'error': 899, 'escort': 900, 'essenti': 901, 'establish': 902, 'estim': 903, 'ethic': 904, 'evalu': 905, 'evan': 906, 'even': 907, 'event': 908, 'eventu': 909, 'everyday': 910, 'everytim': 911, 'evid': 912, 'evid_pride': 913, 'exact': 914, 'exagger': 915, 'exam': 916, 'examin': 917, 'exampl': 918, 'exampl_architectur': 919, 'exceed': 920, 'excel': 921, 'except': 922, 'excess': 923, 'exchang': 924, 'excit': 925, 'exclus': 926, 'excus': 927, 'execut': 928, 'exel': 929, 'exel_helpful': 930, 'exemplari': 931, 'exercis': 932, 'exist': 933, 'exit': 934, 'exot': 935, 'expand': 936, 'expect': 937, 'expedi': 938, 'expedit': 939, 'expens': 940, 'experi': 941, 'experienc': 942, 'expert': 943, 'expertis': 944, 'expir': 945, 'explain': 946, 'explan': 947, 'explor': 948, 'expos': 949, 'express': 950, 'exquisit': 951, 'extend': 952, 'extens': 953, 'exterior': 954, 'extra': 955, 'extract': 956, 'extraordinari': 957, 'extrem': 958, 'eye': 959, 'fab': 960, 'fabul': 961, 'face': 962, 'facil': 963, 'facilit': 964, 'fact': 965, 'factor': 966, 'factori': 967, 'factori_reset': 968, 'fade': 969, 'fail': 970, 'failur': 971, 'fair': 972, 'fairli': 973, 'fake': 974, 'fall': 975, 'fals': 976, 'famili': 977, 'familiar': 978, 'famou': 979, 'fan': 980, 'fanci': 981, 'fantast': 982, 'fare': 983, 'fashion': 984, 'fast': 985, 'faster': 986, 'fastest': 987, 'fat': 988, 'fat_lean': 989, 'father': 990, 'fault': 991, 'faulti': 992, 'fav': 993, 'fave': 994, 'favor': 995, 'favorit': 996, 'favourit': 997, 'fear': 998, 'feast': 999, 'featur': 1000, 'februari': 1001, 'fee': 1002, 'feed': 1003, 'feedback': 1004, 'feel': 1005, 'feet': 1006, 'fell': 1007, 'felt': 1008, 'femal': 1009, 'fenc': 1010, 'fianc': 1011, 'field': 1012, 'fight': 1013, 'figur': 1014, 'file': 1015, 'fill': 1016, 'film': 1017, 'filter': 1018, 'filthi': 1019, 'final': 1020, 'financ': 1021, 'financi': 1022, 'find': 1023, 'fine': 1024, 'finger': 1025, 'finish': 1026, 'fire': 1027, 'fireplac': 1028, 'firm': 1029, 'fish': 1030, 'fit': 1031, 'fix': 1032, 'fixtur': 1033, 'flag': 1034, 'flash': 1035, 'flat': 1036, 'flavor': 1037, 'flavour': 1038, 'flawless': 1039, 'flexibl': 1040, 'fli': 1041, 'flip': 1042, 'flip_dough': 1043, 'flood': 1044, 'floor': 1045, 'flour': 1046, 'flow': 1047, 'flower': 1048, 'fluffi': 1049, 'focu': 1050, 'focus': 1051, 'folk': 1052, 'follow': 1053, 'fond': 1054, 'food': 1055, 'foodi': 1056, 'fool': 1057, 'foot': 1058, 'footbal': 1059, 'footbal_soccer': 1060, 'forc': 1061, 'forev': 1062, 'forget': 1063, 'forgiv': 1064, 'forgiv_pray': 1065, 'forgot': 1066, 'forgotten': 1067, 'fork': 1068, 'fork_lift': 1069, 'form': 1070, 'formal': 1071, 'formal_settl': 1072, 'fortun': 1073, 'forward': 1074, 'found': 1075, 'fountain': 1076, 'fox': 1077, 'fox_dear': 1078, 'fox_lodg': 1079, 'frame': 1080, 'franchis': 1081, 'francisco': 1082, 'freak': 1083, 'free': 1084, 'freeway': 1085, 'freez': 1086, 'freindli': 1087, 'french': 1088, 'frequent': 1089, 'fresh': 1090, 'freshli': 1091, 'fresno': 1092, 'fri': 1093, 'friday': 1094, 'friend': 1095, 'friendlier': 1096, 'friendliest': 1097, 'front': 1098, 'frozen': 1099, 'fruit': 1100, 'frustrat': 1101, 'fulfil': 1102, 'full': 1103, 'fulli': 1104, 'fun': 1105, 'function': 1106, 'fund': 1107, 'funki': 1108, 'funni': 1109, 'fuss': 1110, 'futur': 1111, 'fyi': 1112, 'ga': 1113, 'gain': 1114, 'gal': 1115, 'galor': 1116, 'game': 1117, 'gap': 1118, 'garag': 1119, 'garbag': 1120, 'garden': 1121, 'garlic': 1122, 'gate': 1123, 'gather': 1124, 'gave': 1125, 'gear': 1126, 'gem': 1127, 'gener': 1128, 'gentl': 1129, 'gentleman': 1130, 'gentlemen': 1131, 'genuin': 1132, 'georg': 1133, 'german': 1134, 'gestur': 1135, 'ghost': 1136, 'ghost_spirit': 1137, 'giant': 1138, 'gift': 1139, 'gimmick': 1140, 'gimmick_whatsoev': 1141, 'girl': 1142, 'girlfriend': 1143, 'give': 1144, 'glad': 1145, 'gladli': 1146, 'glass': 1147, 'glitch': 1148, 'glove': 1149, 'gluten': 1150, 'goal': 1151, 'goat': 1152, 'god': 1153, 'gold': 1154, 'golden': 1155, 'gonna': 1156, 'goodi': 1157, 'googl': 1158, 'gorgeou': 1159, 'gotta': 1160, 'goug': 1161, 'gourmet': 1162, 'grab': 1163, 'graciou': 1164, 'grade': 1165, 'graduat': 1166, 'grand': 1167, 'granddaught': 1168, 'grandma': 1169, 'grandson': 1170, 'grant': 1171, 'grass': 1172, 'grate': 1173, 'greas': 1174, 'greasi': 1175, 'greater': 1176, 'greatest': 1177, 'greatli': 1178, 'green': 1179, 'greet': 1180, 'greg': 1181, 'grew': 1182, 'grill': 1183, 'groceri': 1184, 'gross': 1185, 'ground': 1186, 'group': 1187, 'grove': 1188, 'grow': 1189, 'guarante': 1190, 'guard': 1191, 'guess': 1192, 'guest': 1193, 'guid': 1194, 'guidanc': 1195, 'guidelin': 1196, 'guy': 1197, 'gym': 1198, 'habit': 1199, 'habit_harder': 1200, 'hadn': 1201, 'hadnt': 1202, 'haha': 1203, 'hair': 1204, 'half': 1205, 'hall': 1206, 'hamburg': 1207, 'hand': 1208, 'handl': 1209, 'hang': 1210, 'hangout': 1211, 'happen': 1212, 'happi': 1213, 'happier': 1214, 'happili': 1215, 'harass': 1216, 'hard': 1217, 'harder': 1218, 'hardwar': 1219, 'hardwork': 1220, 'hasn': 1221, 'hassl': 1222, 'hat': 1223, 'hate': 1224, 'haven': 1225, 'havent': 1226, 'hazard': 1227, 'he': 1228, 'head': 1229, 'headach': 1230, 'health': 1231, 'healthi': 1232, 'hear': 1233, 'heard': 1234, 'heart': 1235, 'heat': 1236, 'heater': 1237, 'heaven': 1238, 'heavenli': 1239, 'heavi': 1240, 'hectic': 1241, 'held': 1242, 'hell': 1243, 'hella': 1244, 'help': 1245, 'helpful': 1246, 'hesit': 1247, 'hey': 1248, 'hidden': 1249, 'hide': 1250, 'high': 1251, 'higher': 1252, 'highest': 1253, 'highli': 1254, 'highlight': 1255, 'highway': 1256, 'hike': 1257, 'hilari': 1258, 'hill': 1259, 'hint': 1260, 'hint_crisp': 1261, 'hip': 1262, 'hip_trendi': 1263, 'hire': 1264, 'histor': 1265, 'histori': 1266, 'hit': 1267, 'hold': 1268, 'holder': 1269, 'hole': 1270, 'holi': 1271, 'holiday': 1272, 'hollywood': 1273, 'home': 1274, 'homeless': 1275, 'homemad': 1276, 'homeown': 1277, 'homey': 1278, 'honest': 1279, 'honesti': 1280, 'honestli': 1281, 'honor': 1282, 'hood': 1283, 'hook': 1284, 'hop': 1285, 'hop_bu': 1286, 'hope': 1287, 'horribl': 1288, 'hospit': 1289, 'host': 1290, 'hostess': 1291, 'hot': 1292, 'hotel': 1293, 'hour': 1294, 'hous': 1295, 'hr': 1296, 'hub': 1297, 'hub_crab': 1298, 'hubbi': 1299, 'huge': 1300, 'human': 1301, 'humbl': 1302, 'humor': 1303, 'hundr': 1304, 'hung': 1305, 'hung_monitor': 1306, 'hungri': 1307, 'hunt': 1308, 'hunt_stew': 1309, 'hurri': 1310, 'hurt': 1311, 'husband': 1312, 'hygien': 1313, 'hype': 1314, 'ice': 1315, 'icon': 1316, 'icon_queen': 1317, 'icon_web': 1318, 'idea': 1319, 'ideal': 1320, 'identifi': 1321, 'idiot': 1322, 'idk': 1323, 'idk_obviou': 1324, 'ignor': 1325, 'ill': 1326, 'imag': 1327, 'imagin': 1328, 'immacul': 1329, 'immedi': 1330, 'impati': 1331, 'impecc': 1332, 'implement': 1333, 'import': 1334, 'importantli': 1335, 'imposs': 1336, 'impress': 1337, 'improv': 1338, 'in': 1339, 'in_out': 1340, 'inch': 1341, 'includ': 1342, 'incom': 1343, 'inconveni': 1344, 'incorrect': 1345, 'increas': 1346, 'incred': 1347, 'indic': 1348, 'indic_bug': 1349, 'individu': 1350, 'indoor': 1351, 'industri': 1352, 'ineffici': 1353, 'ineffici_imposs': 1354, 'inexpens': 1355, 'infect': 1356, 'info': 1357, 'inform': 1358, 'ingredi': 1359, 'initi': 1360, 'injuri': 1361, 'input': 1362, 'inquir': 1363, 'inquiri': 1364, 'insan': 1365, 'insid': 1366, 'insight': 1367, 'insist': 1368, 'inspect': 1369, 'inspector': 1370, 'inspir': 1371, 'instal': 1372, 'instanc': 1373, 'instantli': 1374, 'instruct': 1375, 'instructor': 1376, 'insult': 1377, 'insult_injuri': 1378, 'insur': 1379, 'integr': 1380, 'intellig': 1381, 'intend': 1382, 'intend_gladli': 1383, 'intent': 1384, 'interact': 1385, 'interest': 1386, 'interior': 1387, 'intern': 1388, 'internet': 1389, 'intim': 1390, 'intimid': 1391, 'introduc': 1392, 'inventori': 1393, 'invest': 1394, 'invit': 1395, 'involv': 1396, 'iron': 1397, 'isn': 1398, 'isnt': 1399, 'issu': 1400, 'italian': 1401, 'item': 1402, 'ive': 1403, 'jack': 1404, 'jam': 1405, 'jam_dust': 1406, 'jame': 1407, 'januari': 1408, 'japanes': 1409, 'jasmin': 1410, 'jason': 1411, 'jay': 1412, 'jazz': 1413, 'jazz_adventur': 1414, 'jennif': 1415, 'jesu': 1416, 'jo': 1417, 'job': 1418, 'joe': 1419, 'john': 1420, 'join': 1421, 'joint': 1422, 'joke': 1423, 'jon': 1424, 'jordan': 1425, 'jose': 1426, 'journey': 1427, 'joy': 1428, 'judg': 1429, 'judg_commut': 1430, 'judgement': 1431, 'juic': 1432, 'juici': 1433, 'juli': 1434, 'jump': 1435, 'june': 1436, 'keep': 1437, 'key': 1438, 'kick': 1439, 'kid': 1440, 'kiddo': 1441, 'kill': 1442, 'killer': 1443, 'kind': 1444, 'kinda': 1445, 'kindli': 1446, 'king': 1447, 'kit': 1448, 'kitchen': 1449, 'knew': 1450, 'knock': 1451, 'know': 1452, 'knowledg': 1453, 'kudo': 1454, 'la': 1455, 'la_vega': 1456, 'label': 1457, 'labor': 1458, 'lack': 1459, 'ladi': 1460, 'laid': 1461, 'lake': 1462, 'lamb': 1463, 'lamp': 1464, 'land': 1465, 'landscap': 1466, 'lane': 1467, 'languag': 1468, 'larg': 1469, 'larger': 1470, 'last': 1471, 'last_excess': 1472, 'late': 1473, 'latest': 1474, 'latest_technolog': 1475, 'latin': 1476, 'latin_twist': 1477, 'laugh': 1478, 'laundri': 1479, 'law': 1480, 'lay': 1481, 'layer': 1482, 'layout': 1483, 'lazi': 1484, 'lead': 1485, 'leak': 1486, 'lean': 1487, 'learn': 1488, 'leas': 1489, 'leav': 1490, 'led': 1491, 'left': 1492, 'leftov': 1493, 'leg': 1494, 'legal': 1495, 'legit': 1496, 'lemon': 1497, 'lemonad': 1498, 'length': 1499, 'lesson': 1500, 'let': 1501, 'letter': 1502, 'lettuc': 1503, 'level': 1504, 'lexu': 1505, 'liar': 1506, 'liar_scam': 1507, 'licens': 1508, 'lie': 1509, 'life': 1510, 'lifestyl': 1511, 'lifetim': 1512, 'lift': 1513, 'light': 1514, 'lighter': 1515, 'lighter_eater': 1516, 'like': 1517, 'lil': 1518, 'limit': 1519, 'line': 1520, 'link': 1521, 'liquid': 1522, 'liquor': 1523, 'list': 1524, 'listen': 1525, 'lit': 1526, 'liter': 1527, 'litter': 1528, 'live': 1529, 'lo': 1530, 'load': 1531, 'loan': 1532, 'lobbi': 1533, 'local': 1534, 'locat': 1535, 'lock': 1536, 'lodg': 1537, 'lol': 1538, 'long': 1539, 'longer': 1540, 'look': 1541, 'loop': 1542, 'loop_dip': 1543, 'loos': 1544, 'lose': 1545, 'loss': 1546, 'lost': 1547, 'lot': 1548, 'loud': 1549, 'loung': 1550, 'lover': 1551, 'low': 1552, 'lower': 1553, 'lowest': 1554, 'loyal': 1555, 'luck': 1556, 'lucki': 1557, 'luckili': 1558, 'lunch': 1559, 'luv': 1560, 'luxuri': 1561, 'machin': 1562, 'mad': 1563, 'made': 1564, 'magic': 1565, 'magnific': 1566, 'mail': 1567, 'main': 1568, 'maintain': 1569, 'mainten': 1570, 'major': 1571, 'maker': 1572, 'male': 1573, 'mall': 1574, 'man': 1575, 'manag': 1576, 'manger': 1577, 'manger_rudest': 1578, 'mango': 1579, 'manner': 1580, 'manufactur': 1581, 'map': 1582, 'march': 1583, 'marcu': 1584, 'mari': 1585, 'maria': 1586, 'marin': 1587, 'marin_cherri': 1588, 'marin_veteran': 1589, 'mark': 1590, 'market': 1591, 'marvel': 1592, 'mask': 1593, 'massiv': 1594, 'massiv_arm': 1595, 'massiv_steel': 1596, 'master': 1597, 'master_bath': 1598, 'match': 1599, 'mate': 1600, 'materi': 1601, 'matt': 1602, 'matter': 1603, 'max': 1604, 'max_temp': 1605, 'mcdonald': 1606, 'meal': 1607, 'mean': 1608, 'meant': 1609, 'measur': 1610, 'meat': 1611, 'mechan': 1612, 'med': 1613, 'medic': 1614, 'mediocr': 1615, 'medium': 1616, 'meet': 1617, 'meh': 1618, 'melt': 1619, 'member': 1620, 'membership': 1621, 'memor': 1622, 'memori': 1623, 'men': 1624, 'mental': 1625, 'mention': 1626, 'menu': 1627, 'merced': 1628, 'mess': 1629, 'messag': 1630, 'messi': 1631, 'met': 1632, 'metal': 1633, 'meter': 1634, 'method': 1635, 'meticul': 1636, 'mexican': 1637, 'michael': 1638, 'michel': 1639, 'mid': 1640, 'middl': 1641, 'midnight': 1642, 'mike': 1643, 'mild': 1644, 'mile': 1645, 'militari': 1646, 'milk': 1647, 'million': 1648, 'min': 1649, 'mind': 1650, 'mine': 1651, 'mini': 1652, 'mini_split': 1653, 'minim': 1654, 'minimum': 1655, 'minor': 1656, 'mint': 1657, 'minut': 1658, 'miracl': 1659, 'miracl_maker': 1660, 'mirror': 1661, 'miss': 1662, 'mission': 1663, 'mission_district': 1664, 'mistak': 1665, 'mix': 1666, 'mobil': 1667, 'model': 1668, 'moder': 1669, 'modern': 1670, 'modifi': 1671, 'moist': 1672, 'mom': 1673, 'moment': 1674, 'monday': 1675, 'money': 1676, 'monitor': 1677, 'monitor_supervis': 1678, 'month': 1679, 'monthli': 1680, 'mood': 1681, 'morn': 1682, 'mortgag': 1683, 'mother': 1684, 'motiv': 1685, 'motor': 1686, 'mountain': 1687, 'mouth': 1688, 'move': 1689, 'movi': 1690, 'mozzarella': 1691, 'mozzarella_stick': 1692, 'mr': 1693, 'multi': 1694, 'multi_stage': 1695, 'multipl': 1696, 'mushroom': 1697, 'music': 1698, 'mustard': 1699, 'mustard_italian': 1700, 'muy': 1701, 'muy_la': 1702, 'nacho': 1703, 'nail': 1704, 'name': 1705, 'nanci': 1706, 'nap': 1707, 'napkin': 1708, 'narrow': 1709, 'nasti': 1710, 'nation': 1711, 'nativ': 1712, 'natur': 1713, 'navig': 1714, 'nearbi': 1715, 'neat': 1716, 'neatli': 1717, 'necessarili': 1718, 'need': 1719, 'needl': 1720, 'needless': 1721, 'neg': 1722, 'negoti': 1723, 'neighbor': 1724, 'neighborhood': 1725, 'neighbourhood': 1726, 'nephew': 1727, 'nerv': 1728, 'nervou': 1729, 'net': 1730, 'network': 1731, 'newer': 1732, 'newer_cleaner': 1733, 'newli': 1734, 'news': 1735, 'nicer': 1736, 'nicest': 1737, 'nick': 1738, 'night': 1739, 'nightmar': 1740, 'nite': 1741, 'nois': 1742, 'noisi': 1743, 'nonetheless': 1744, 'nonsens': 1745, 'noodl': 1746, 'noon': 1747, 'nope': 1748, 'norm': 1749, 'normal': 1750, 'north': 1751, 'nose': 1752, 'notch': 1753, 'note': 1754, 'notic': 1755, 'notifi': 1756, 'novemb': 1757, 'nowaday': 1758, 'numb': 1759, 'number': 1760, 'numer': 1761, 'nurs': 1762, 'nut': 1763, 'oat': 1764, 'observ': 1765, 'observ_judgement': 1766, 'obtain': 1767, 'obviou': 1768, 'occas': 1769, 'occasion': 1770, 'occur': 1771, 'odd': 1772, 'offens': 1773, 'offens_cigarett': 1774, 'offer': 1775, 'offic': 1776, 'offici': 1777, 'oil': 1778, 'older': 1779, 'oldest': 1780, 'oliv': 1781, 'omg': 1782, 'on': 1783, 'ongo': 1784, 'ongo_cockroach': 1785, 'onion': 1786, 'onlin': 1787, 'onsit': 1788, 'open': 1789, 'oper': 1790, 'opinion': 1791, 'opportun': 1792, 'oppos': 1793, 'opposit': 1794, 'opt': 1795, 'option': 1796, 'oral': 1797, 'oral_surgeon': 1798, 'orang': 1799, 'order': 1800, 'oregon': 1801, 'organ': 1802, 'orient': 1803, 'origin': 1804, 'out': 1805, 'outcom': 1806, 'outdat': 1807, 'outdoor': 1808, 'outgo': 1809, 'outlet': 1810, 'outrag': 1811, 'outstand': 1812, 'overcharg': 1813, 'overcook': 1814, 'overhaul': 1815, 'overli': 1816, 'overlook': 1817, 'overnight': 1818, 'overnight_oat': 1819, 'overpow': 1820, 'overpr': 1821, 'overwhelm': 1822, 'own': 1823, 'owner': 1824, 'ownership': 1825, 'pace': 1826, 'pack': 1827, 'packag': 1828, 'pad': 1829, 'page': 1830, 'paid': 1831, 'pain': 1832, 'painless': 1833, 'paint': 1834, 'pair': 1835, 'pan': 1836, 'pancak': 1837, 'pandem': 1838, 'panic': 1839, 'paper': 1840, 'paperwork': 1841, 'par': 1842, 'parent': 1843, 'park': 1844, 'part': 1845, 'parti': 1846, 'partial': 1847, 'partner': 1848, 'pass': 1849, 'passabl': 1850, 'passeng': 1851, 'passion': 1852, 'past': 1853, 'pasta': 1854, 'pastri': 1855, 'pat': 1856, 'patienc': 1857, 'patient': 1858, 'patio': 1859, 'patron': 1860, 'patti': 1861, 'pay': 1862, 'payment': 1863, 'peac': 1864, 'peanut': 1865, 'peanut_butter': 1866, 'peep': 1867, 'pen': 1868, 'penni': 1869, 'pepper': 1870, 'percent': 1871, 'perfect': 1872, 'perfectionist': 1873, 'perfectli': 1874, 'perform': 1875, 'period': 1876, 'perk': 1877, 'perman': 1878, 'perman_beg': 1879, 'perman_disabl': 1880, 'permiss': 1881, 'permiss_iron': 1882, 'permit': 1883, 'persist': 1884, 'person': 1885, 'personnel': 1886, 'perspect': 1887, 'pet': 1888, 'peter': 1889, 'phase': 1890, 'phenomen': 1891, 'phone': 1892, 'photo': 1893, 'physic': 1894, 'physician': 1895, 'pic': 1896, 'pick': 1897, 'picki': 1898, 'picki_eater': 1899, 'pickl': 1900, 'pickup': 1901, 'picnic': 1902, 'pictur': 1903, 'pie': 1904, 'piec': 1905, 'pilot': 1906, 'pinch': 1907, 'pineappl': 1908, 'pink': 1909, 'pink_lemonad': 1910, 'pipe': 1911, 'pit': 1912, 'pizza': 1913, 'placement': 1914, 'plain': 1915, 'plan': 1916, 'planet': 1917, 'plant': 1918, 'plastic': 1919, 'plate': 1920, 'play': 1921, 'playground': 1922, 'plaza': 1923, 'pleas': 1924, 'pleasant': 1925, 'pleasantli': 1926, 'pleasur': 1927, 'plenti': 1928, 'plug': 1929, 'plug_promo': 1930, 'pocket': 1931, 'point': 1932, 'polici': 1933, 'polish': 1934, 'polit': 1935, 'pool': 1936, 'poor': 1937, 'poorli': 1938, 'pop': 1939, 'popular': 1940, 'pork': 1941, 'port': 1942, 'portion': 1943, 'posit': 1944, 'possibl': 1945, 'post': 1946, 'pot': 1947, 'potato': 1948, 'potenti': 1949, 'pour': 1950, 'power': 1951, 'ppl': 1952, 'practic': 1953, 'prais': 1954, 'prawn': 1955, 'pray': 1956, 'pre': 1957, 'precaut': 1958, 'preciou': 1959, 'precis': 1960, 'prefer': 1961, 'premis': 1962, 'premis_clock': 1963, 'premium': 1964, 'prep': 1965, 'prep_amd': 1966, 'prepar': 1967, 'presenc': 1968, 'present': 1969, 'preserv': 1970, 'presid': 1971, 'press': 1972, 'press_button': 1973, 'pressur': 1974, 'pretenti': 1975, 'pretti': 1976, 'prevent': 1977, 'previou': 1978, 'previous': 1979, 'price': 1980, 'pricey': 1981, 'pricier': 1982, 'pride': 1983, 'primari': 1984, 'primarili': 1985, 'prime': 1986, 'print': 1987, 'prior': 1988, 'prioriti': 1989, 'privaci': 1990, 'privat': 1991, 'prize': 1992, 'pro': 1993, 'problem': 1994, 'procedur': 1995, 'proceed': 1996, 'process': 1997, 'produc': 1998, 'product': 1999, 'profesion': 2000, 'profess': 2001, 'profession': 2002, 'proffesion': 2003, 'profici': 2004, 'profil': 2005, 'program': 2006, 'progress': 2007, 'project': 2008, 'promis': 2009, 'promo': 2010, 'promot': 2011, 'prompt': 2012, 'promptli': 2013, 'proof': 2014, 'proper': 2015, 'properli': 2016, 'properti': 2017, 'protect': 2018, 'protein': 2019, 'protocol': 2020, 'proud': 2021, 'prove': 2022, 'provid': 2023, 'pub': 2024, 'pub_categori': 2025, 'public': 2026, 'pull': 2027, 'pump': 2028, 'pumpkin': 2029, 'punch': 2030, 'punctual': 2031, 'puppi': 2032, 'purchas': 2033, 'pure': 2034, 'pure_gold': 2035, 'purpos': 2036, 'push': 2037, 'pushi': 2038, 'put': 2039, 'quaint': 2040, 'qualifi': 2041, 'qualiti': 2042, 'quantiti': 2043, 'quarantin': 2044, 'queen': 2045, 'quesadilla': 2046, 'quesadilla_shirt': 2047, 'question': 2048, 'queue': 2049, 'quick': 2050, 'quicker': 2051, 'quickli': 2052, 'quiet': 2053, 'quit': 2054, 'quot': 2055, 'rack': 2056, 'radiu': 2057, 'rain': 2058, 'raini': 2059, 'rais': 2060, 'ran': 2061, 'ranch': 2062, 'random': 2063, 'randomli': 2064, 'rang': 2065, 'rare': 2066, 'rat': 2067, 'rate': 2068, 'ratio': 2069, 'ratio_desir': 2070, 'rave': 2071, 'raw': 2072, 'ray': 2073, 'reach': 2074, 'read': 2075, 'readi': 2076, 'real': 2077, 'realist': 2078, 'realiz': 2079, 'rear': 2080, 'reason': 2081, 'reassur': 2082, 'reccomend': 2083, 'receipt': 2084, 'receiv': 2085, 'recent': 2086, 'recept': 2087, 'receptionist': 2088, 'reciev': 2089, 'recip': 2090, 'recogn': 2091, 'recomend': 2092, 'record': 2093, 'recov': 2094, 'recreat': 2095, 'recreat_bldg': 2096, 'rectifi': 2097, 'red': 2098, 'reduc': 2099, 'refer': 2100, 'referr': 2101, 'refil': 2102, 'refin': 2103, 'reflect': 2104, 'refresh': 2105, 'refund': 2106, 'refus': 2107, 'regist': 2108, 'registr': 2109, 'regret': 2110, 'regul': 2111, 'regular': 2112, 'regularli': 2113, 'reject': 2114, 'rel': 2115, 'rel_smelli': 2116, 'relat': 2117, 'relax': 2118, 'reli': 2119, 'reliabl': 2120, 'relief': 2121, 'reliev': 2122, 'reloc': 2123, 'reluct': 2124, 'remain': 2125, 'remark': 2126, 'rememb': 2127, 'remind': 2128, 'remodel': 2129, 'remov': 2130, 'renew': 2131, 'renov': 2132, 'rent': 2133, 'rental': 2134, 'renter': 2135, 'rep': 2136, 'repair': 2137, 'repeat': 2138, 'replac': 2139, 'repli': 2140, 'report': 2141, 'repres': 2142, 'reput': 2143, 'request': 2144, 'requir': 2145, 'reschedul': 2146, 'rescu': 2147, 'research': 2148, 'reserv': 2149, 'reset': 2150, 'resid': 2151, 'residenti': 2152, 'resist': 2153, 'resist_delect': 2154, 'resolv': 2155, 'resourc': 2156, 'respect': 2157, 'respond': 2158, 'respons': 2159, 'rest': 2160, 'restaur': 2161, 'restor': 2162, 'restraunt': 2163, 'restrict': 2164, 'restroom': 2165, 'result': 2166, 'retail': 2167, 'retain': 2168, 'retriev': 2169, 'return': 2170, 'review': 2171, 'reward': 2172, 'rib': 2173, 'rice': 2174, 'rich': 2175, 'rid': 2176, 'ride': 2177, 'ridicul': 2178, 'ring': 2179, 'rip': 2180, 'risk': 2181, 'roach': 2182, 'road': 2183, 'roam': 2184, 'roam_hilari': 2185, 'roast': 2186, 'rob': 2187, 'robert': 2188, 'robin': 2189, 'rock': 2190, 'roll': 2191, 'romant': 2192, 'roof': 2193, 'room': 2194, 'root': 2195, 'rosa': 2196, 'rose': 2197, 'rotten': 2198, 'rough': 2199, 'rough_edg': 2200, 'roughli': 2201, 'roughli_squar': 2202, 'round': 2203, 'rout': 2204, 'routin': 2205, 'row': 2206, 'rubber': 2207, 'rubber_band': 2208, 'rude': 2209, 'rudest': 2210, 'ruin': 2211, 'rule': 2212, 'run': 2213, 'rush': 2214, 'ryan': 2215, 'sacramento': 2216, 'sad': 2217, 'sadli': 2218, 'safe': 2219, 'safer': 2220, 'safeti': 2221, 'salad': 2222, 'sale': 2223, 'salmon': 2224, 'salsa': 2225, 'salt': 2226, 'salti': 2227, 'salut': 2228, 'sam': 2229, 'sampl': 2230, 'san': 2231, 'sandi': 2232, 'sandwich': 2233, 'sanit': 2234, 'santa': 2235, 'santa_rosa': 2236, 'sat': 2237, 'satisfact': 2238, 'satisfactori': 2239, 'satisfi': 2240, 'saturday': 2241, 'sauc': 2242, 'save': 2243, 'saver': 2244, 'savori': 2245, 'scale': 2246, 'scam': 2247, 'scan': 2248, 'scare': 2249, 'scene': 2250, 'schedul': 2251, 'school': 2252, 'scooter': 2253, 'score': 2254, 'scratch': 2255, 'scream': 2256, 'screen': 2257, 'screw': 2258, 'script': 2259, 'sea': 2260, 'seafood': 2261, 'seamless': 2262, 'search': 2263, 'season': 2264, 'seat': 2265, 'second': 2266, 'secret': 2267, 'section': 2268, 'secur': 2269, 'seek': 2270, 'select': 2271, 'sell': 2272, 'seller': 2273, 'semi': 2274, 'send': 2275, 'senior': 2276, 'sens': 2277, 'sensit': 2278, 'separ': 2279, 'septemb': 2280, 'seri': 2281, 'serv': 2282, 'server': 2283, 'session': 2284, 'set': 2285, 'settl': 2286, 'setup': 2287, 'sever': 2288, 'sevic': 2289, 'shabbi': 2290, 'shade': 2291, 'shadi': 2292, 'shake': 2293, 'shame': 2294, 'shape': 2295, 'share': 2296, 'sharp': 2297, 'she': 2298, 'sheet': 2299, 'shelf': 2300, 'shelv': 2301, 'shi': 2302, 'shift': 2303, 'ship': 2304, 'shirt': 2305, 'shirt_hat': 2306, 'shock': 2307, 'shoe': 2308, 'shoot': 2309, 'shop': 2310, 'short': 2311, 'shortli': 2312, 'shot': 2313, 'shoulder': 2314, 'shouldn': 2315, 'shout': 2316, 'show': 2317, 'shower': 2318, 'shown': 2319, 'shred': 2320, 'shrimp': 2321, 'shut': 2322, 'sick': 2323, 'side': 2324, 'sidewalk': 2325, 'sidewalk_drug': 2326, 'sight': 2327, 'sign': 2328, 'signatur': 2329, 'signific': 2330, 'significantli': 2331, 'silver': 2332, 'silver_lake': 2333, 'similar': 2334, 'simpl': 2335, 'simpli': 2336, 'sincer': 2337, 'sing': 2338, 'sing_prais': 2339, 'singl': 2340, 'sip': 2341, 'sister': 2342, 'sit': 2343, 'site': 2344, 'situat': 2345, 'size': 2346, 'skeptic': 2347, 'sketchi': 2348, 'skill': 2349, 'skin': 2350, 'skin_fat': 2351, 'skip': 2352, 'slam': 2353, 'sleep': 2354, 'slice': 2355, 'slide': 2356, 'slight': 2357, 'slightli': 2358, 'slot': 2359, 'slow': 2360, 'slower': 2361, 'slowli': 2362, 'small': 2363, 'smaller': 2364, 'smart': 2365, 'smell': 2366, 'smelli': 2367, 'smile': 2368, 'smith': 2369, 'smoke': 2370, 'smooth': 2371, 'smoother': 2372, 'smoothli': 2373, 'snack': 2374, 'snd': 2375, 'socal': 2376, 'soccer': 2377, 'sociabl': 2378, 'social': 2379, 'social_media': 2380, 'soda': 2381, 'soft': 2382, 'soggi': 2383, 'sold': 2384, 'solid': 2385, 'solo': 2386, 'solut': 2387, 'solv': 2388, 'son': 2389, 'soo': 2390, 'sooner': 2391, 'sooo': 2392, 'soooo': 2393, 'sooooo': 2394, 'sort': 2395, 'soul': 2396, 'sound': 2397, 'soup': 2398, 'sour': 2399, 'sourc': 2400, 'south': 2401, 'southern': 2402, 'space': 2403, 'spaciou': 2404, 'spanish': 2405, 'spare': 2406, 'speak': 2407, 'special': 2408, 'specialist': 2409, 'specialti': 2410, 'specif': 2411, 'spectacular': 2412, 'speechless': 2413, 'speed': 2414, 'speedi': 2415, 'spend': 2416, 'spent': 2417, 'spice': 2418, 'spici': 2419, 'spill': 2420, 'spinach': 2421, 'spirit': 2422, 'splash': 2423, 'split': 2424, 'spoil': 2425, 'spoke': 2426, 'spoken': 2427, 'spoon': 2428, 'sport': 2429, 'spot': 2430, 'spotless': 2431, 'spout': 2432, 'spray': 2433, 'spread': 2434, 'spring': 2435, 'sprout': 2436, 'squar': 2437, 'squar_inch': 2438, 'squeez': 2439, 'staf': 2440, 'staff': 2441, 'stage': 2442, 'stair': 2443, 'stair_steep': 2444, 'stale': 2445, 'stall': 2446, 'stand': 2447, 'standard': 2448, 'standout': 2449, 'standout_flood': 2450, 'star': 2451, 'starbuck': 2452, 'stare': 2453, 'start': 2454, 'starter': 2455, 'starter_kit': 2456, 'starv': 2457, 'starv_settl': 2458, 'starv_youll': 2459, 'state': 2460, 'station': 2461, 'statu': 2462, 'stay': 2463, 'steak': 2464, 'steal': 2465, 'steam': 2466, 'steel': 2467, 'steel_urin': 2468, 'steep': 2469, 'steer': 2470, 'stellar': 2471, 'step': 2472, 'stephani': 2473, 'steve': 2474, 'steven': 2475, 'stew': 2476, 'stew_stew': 2477, 'stick': 2478, 'sticker': 2479, 'sticki': 2480, 'stock': 2481, 'stolen': 2482, 'stomach': 2483, 'stone': 2484, 'stood': 2485, 'stop': 2486, 'storag': 2487, 'store': 2488, 'stori': 2489, 'straight': 2490, 'straightforward': 2491, 'strang': 2492, 'stranger': 2493, 'stranger_exagger': 2494, 'strategi': 2495, 'strawberri': 2496, 'streamlin': 2497, 'street': 2498, 'stress': 2499, 'strip': 2500, 'strip_mall': 2501, 'strong': 2502, 'strongli': 2503, 'structur': 2504, 'struggl': 2505, 'stuck': 2506, 'student': 2507, 'studi': 2508, 'stuf': 2509, 'stuf_mushroom': 2510, 'stuff': 2511, 'stumbl': 2512, 'stupid': 2513, 'style': 2514, 'subject': 2515, 'subject_toe': 2516, 'submit': 2517, 'subpar': 2518, 'substitut': 2519, 'succeed': 2520, 'success': 2521, 'suck': 2522, 'suffer': 2523, 'sugar': 2524, 'suggest': 2525, 'suit': 2526, 'suitabl': 2527, 'summer': 2528, 'sun': 2529, 'sunday': 2530, 'sunset': 2531, 'superb': 2532, 'superior': 2533, 'supervis': 2534, 'supervisor': 2535, 'suppli': 2536, 'supplier': 2537, 'support': 2538, 'suppos': 2539, 'supris': 2540, 'sure': 2541, 'surfac': 2542, 'surfac_declin': 2543, 'surfac_led': 2544, 'surgeon': 2545, 'surgeri': 2546, 'surpass': 2547, 'surpris': 2548, 'surprisingli': 2549, 'surround': 2550, 'surviv': 2551, 'suv': 2552, 'swap': 2553, 'swap_rotten': 2554, 'sweet': 2555, 'sweetest': 2556, 'sweetest_disorgan': 2557, 'switch': 2558, 'system': 2559, 'tabl': 2560, 'taco': 2561, 'tactic': 2562, 'tactic_univers': 2563, 'tad': 2564, 'tag': 2565, 'take': 2566, 'takeout': 2567, 'talent': 2568, 'talk': 2569, 'tall': 2570, 'tamal': 2571, 'tank': 2572, 'tap': 2573, 'tapa': 2574, 'tape': 2575, 'tape_elbow': 2576, 'tape_judgement': 2577, 'target': 2578, 'task': 2579, 'tast': 2580, 'tasteless': 2581, 'tasteless_stale': 2582, 'tasti': 2583, 'taught': 2584, 'tax': 2585, 'tea': 2586, 'teach': 2587, 'team': 2588, 'tear': 2589, 'tear_sociabl': 2590, 'tech': 2591, 'technic': 2592, 'technician': 2593, 'technolog': 2594, 'teenag': 2595, 'teeth': 2596, 'telephon': 2597, 'telephon_confer': 2598, 'tell': 2599, 'temp': 2600, 'temperatur': 2601, 'temporari': 2602, 'temporarili': 2603, 'tempt': 2604, 'ten': 2605, 'tenant': 2606, 'tend': 2607, 'tender': 2608, 'term': 2609, 'terribl': 2610, 'terrif': 2611, 'terrifi': 2612, 'test': 2613, 'texa': 2614, 'text': 2615, 'textur': 2616, 'thai': 2617, 'thank': 2618, 'thanksgiv': 2619, 'thankyou': 2620, 'theme': 2621, 'theyd': 2622, 'theyll': 2623, 'theyr': 2624, 'theyv': 2625, 'thick': 2626, 'thick_hint': 2627, 'thier': 2628, 'thin': 2629, 'thing': 2630, 'think': 2631, 'thirti': 2632, 'tho': 2633, 'thought': 2634, 'thousand': 2635, 'threaten': 2636, 'threw': 2637, 'thrill': 2638, 'throw': 2639, 'throw_debat': 2640, 'thumb': 2641, 'thursday': 2642, 'thx': 2643, 'ticket': 2644, 'tidi': 2645, 'tier': 2646, 'tight': 2647, 'till': 2648, 'tim': 2649, 'timelin': 2650, 'tini': 2651, 'tip': 2652, 'tire': 2653, 'titl': 2654, 'toast': 2655, 'today': 2656, 'toddler': 2657, 'toe': 2658, 'toe_toe': 2659, 'tofu': 2660, 'toilet': 2661, 'told': 2662, 'tom': 2663, 'tomato': 2664, 'tommi': 2665, 'tomorrow': 2666, 'ton': 2667, 'tone': 2668, 'tongu': 2669, 'toni': 2670, 'tonight': 2671, 'tool': 2672, 'tooth': 2673, 'top': 2674, 'tortilla': 2675, 'toss': 2676, 'toss_dough': 2677, 'total': 2678, 'touch': 2679, 'tough': 2680, 'tour': 2681, 'tow': 2682, 'town': 2683, 'toy': 2684, 'track': 2685, 'trade': 2686, 'tradit': 2687, 'traffic': 2688, 'trail': 2689, 'trailer': 2690, 'train': 2691, 'transact': 2692, 'transfer': 2693, 'transit': 2694, 'translat': 2695, 'transpar': 2696, 'transport': 2697, 'trap': 2698, 'trash': 2699, 'travel': 2700, 'tray': 2701, 'treat': 2702, 'treatment': 2703, 'tree': 2704, 'tremend': 2705, 'trendi': 2706, 'trick': 2707, 'tricki': 2708, 'trim': 2709, 'trim_kit': 2710, 'trip': 2711, 'tripl': 2712, 'tripl_tripl': 2713, 'troubl': 2714, 'truck': 2715, 'true': 2716, 'trust': 2717, 'trustworthi': 2718, 'truth': 2719, 'tub': 2720, 'tuck': 2721, 'tuesday': 2722, 'tuna': 2723, 'tune': 2724, 'turn': 2725, 'turnaround': 2726, 'tv': 2727, 'tv_fond': 2728, 'twenti': 2729, 'twist': 2730, 'twist_remark': 2731, 'type': 2732, 'typic': 2733, 'uber': 2734, 'ugli': 2735, 'ultim': 2736, 'unabl': 2737, 'unaccept': 2738, 'unaccept_behavior': 2739, 'unbeat': 2740, 'unbeliev': 2741, 'uncl': 2742, 'uncomfort': 2743, 'understaf': 2744, 'understand': 2745, 'understat': 2746, 'understood': 2747, 'underwhelm': 2748, 'unexpect': 2749, 'unexpectedli': 2750, 'unfamiliar': 2751, 'unfortun': 2752, 'unfriendli': 2753, 'unhappi': 2754, 'unhelp': 2755, 'uniqu': 2756, 'unit': 2757, 'univers': 2758, 'unlik': 2759, 'unnecessari': 2760, 'unpleas': 2761, 'unprofession': 2762, 'unreal': 2763, 'unsaf': 2764, 'unusu': 2765, 'unwind': 2766, 'up': 2767, 'upbeat': 2768, 'upcom': 2769, 'updat': 2770, 'upfront': 2771, 'upgrad': 2772, 'upscal': 2773, 'upsel': 2774, 'upset': 2775, 'upstair': 2776, 'urg': 2777, 'urgenc': 2778, 'urgent': 2779, 'urin': 2780, 'user': 2781, 'usual': 2782, 'util': 2783, 'utmost': 2784, 'vacat': 2785, 'valley': 2786, 'valu': 2787, 'valuabl': 2788, 'van': 2789, 'van_harder': 2790, 'vari': 2791, 'varieti': 2792, 'veg': 2793, 'veg_veg': 2794, 'vega': 2795, 'vegan': 2796, 'veget': 2797, 'vegetarian': 2798, 'veggi': 2799, 'vehicl': 2800, 'vendor': 2801, 'vent': 2802, 'venu': 2803, 'verifi': 2804, 'verifi_intend': 2805, 'verri': 2806, 'version': 2807, 'versu': 2808, 'veteran': 2809, 'vibe': 2810, 'victoria': 2811, 'video': 2812, 'view': 2813, 'virtual': 2814, 'viru': 2815, 'visibl': 2816, 'visit': 2817, 'visitor': 2818, 'visual': 2819, 'voic': 2820, 'voicemail': 2821, 'volum': 2822, 'volum_consid': 2823, 'wait': 2824, 'waiter': 2825, 'waitress': 2826, 'wake': 2827, 'walk': 2828, 'wall': 2829, 'wallet': 2830, 'wanna': 2831, 'want': 2832, 'warehous': 2833, 'warm': 2834, 'warmer': 2835, 'warn': 2836, 'warranti': 2837, 'wash': 2838, 'wasn': 2839, 'wasnt': 2840, 'wast': 2841, 'watch': 2842, 'water': 2843, 'wave': 2844, 'way': 2845, 'weak': 2846, 'wear': 2847, 'weather': 2848, 'web': 2849, 'websit': 2850, 'wed': 2851, 'wednesday': 2852, 'week': 2853, 'weekday': 2854, 'weekend': 2855, 'weekli': 2856, 'weight': 2857, 'weight_gold': 2858, 'weird': 2859, 'welcom': 2860, 'weren': 2861, 'werent': 2862, 'west': 2863, 'wet': 2864, 'weve': 2865, 'what': 2866, 'whatsoev': 2867, 'wheel': 2868, 'whim': 2869, 'white': 2870, 'wide': 2871, 'wife': 2872, 'wifi': 2873, 'wild': 2874, 'willing': 2875, 'win': 2876, 'wind': 2877, 'window': 2878, 'wine': 2879, 'wing': 2880, 'winner': 2881, 'wipe': 2882, 'wire': 2883, 'wisdom': 2884, 'wise': 2885, 'wish': 2886, 'wit': 2887, 'witch': 2888, 'woke': 2889, 'woke_bust': 2890, 'woman': 2891, 'women': 2892, 'won': 2893, 'wonder': 2894, 'wont': 2895, 'wonton': 2896, 'wood': 2897, 'word': 2898, 'wore': 2899, 'worker': 2900, 'workmanship': 2901, 'world': 2902, 'worri': 2903, 'wors': 2904, 'worst': 2905, 'worth': 2906, 'wouldn': 2907, 'wouldnt': 2908, 'wouldv': 2909, 'wow': 2910, 'wrap': 2911, 'write': 2912, 'written': 2913, 'wrong': 2914, 'wth': 2915, 'wth_chile': 2916, 'yard': 2917, 'yea': 2918, 'yeah': 2919, 'year': 2920, 'yell': 2921, 'yellow': 2922, 'yelp': 2923, 'yesterday': 2924, 'york': 2925, 'youll': 2926, 'young': 2927, 'younger': 2928, 'your': 2929, 'youth': 2930, 'youth_lifestyl': 2931, 'youtub': 2932, 'yr': 2933, 'yum': 2934, 'yummi': 2935, 'zone': 2936}\n"
     ]
    }
   ],
   "source": [
    "# Initialize a CountVectorizer to convert text documents into a matrix of word counts\n",
    "vectorizer = CountVectorizer(analyzer=\"word\")\n",
    "\n",
    "# Join tokens in each document into a single string to prepare for vectorization\n",
    "documents = [' '.join(tokens) for tokens in all_tokens_per_doc]\n",
    "\n",
    "# Fit the vectorizer to the documents and transform them into a document-term matrix\n",
    "data_features = vectorizer.fit_transform(documents)\n",
    "\n",
    "# Retrieve the list of unique words gained by the vectorizer\n",
    "vocab = vectorizer.get_feature_names_out()\n",
    "\n",
    "\n",
    "# Create a dictionary mapping each word to its index in the vocabulary\n",
    "vocab_dist = {word: index for index, word in enumerate(vocab)}\n",
    "\n",
    "print(vocab_dist)\n",
    "output_countvec = []\n",
    "\n",
    "# Iterate over each document and its corresponding Google Map ID\n",
    "for doc_index, gmap_id in enumerate(df_review[\"gmap_id\"]):\n",
    "    doc_vector = data_features[doc_index]  # Get the count vector for the current document\n",
    "    \n",
    "    # Zip together the indices and frequencies of the non-zero elements in the count vector\n",
    "    token_counts = zip(doc_vector.indices, doc_vector.data)\n",
    "    \n",
    "    # Format each word index and its frequency as \"index:frequency\"\n",
    "    formatted_counts = [f\"{index}:{frequency}\" for index, frequency in token_counts]\n",
    "    \n",
    "    # Construct the output line with the gmap_id followed by the formatted count vector\n",
    "    output_line = f\"{gmap_id} \" + \", \".join(formatted_counts)\n",
    "    \n",
    "    # Append the formatted line to the output list\n",
    "    output_countvec.append(output_line)"
   ]
  },
  {
   "cell_type": "markdown",
   "metadata": {
    "id": "7cbSKT6PlDEg"
   },
   "source": [
    "The code above processes a collection of text documents to create a numerical representation suitable for text analysis. It uses CountVectorizer to tokenize the documents and generate a document-term matrix, capturing the frequency of each word in each document. The vocabulary of unique words is extracted and written to a file, mapping each word to an index. Additionally, the code generates formatted output for each document, listing the frequency of each word by its index."
   ]
  },
  {
   "cell_type": "markdown",
   "metadata": {
    "id": "sfMYJ0XdlDEh"
   },
   "source": [
    "#### Whatever else <a class=\"anchor\" name=\"whatev1\"></a>"
   ]
  },
  {
   "cell_type": "markdown",
   "metadata": {
    "id": "XmaGJYIJlDEl"
   },
   "source": [
    "<div class=\"alert alert-block alert-success\">\n",
    "    \n",
    "## 5. Writing Output Files <a class=\"anchor\" name=\"write\"></a>"
   ]
  },
  {
   "cell_type": "markdown",
   "metadata": {
    "id": "wjMBqRetlDEl"
   },
   "source": [
    "files need to be generated:\n",
    "* Vocabulary list\n",
    "* Sparse matrix (count_vectors)\n",
    "\n",
    "This is performed in the following sections."
   ]
  },
  {
   "cell_type": "markdown",
   "metadata": {
    "id": "Fc6tQ4ljlDEm"
   },
   "source": [
    "<div class=\"alert alert-block alert-warning\">\n",
    "    \n",
    "### 5.1. Vocabulary List <a class=\"anchor\" name=\"write-vocab\"></a>"
   ]
  },
  {
   "cell_type": "markdown",
   "metadata": {
    "id": "SDlbpGYilDEm"
   },
   "source": [
    "List of vocabulary should also be written to a file, sorted alphabetically, with their reference codes in front of them. This file also refers to the sparse matrix in the next file. For this purpose, ....."
   ]
  },
  {
   "cell_type": "code",
   "execution_count": 10,
   "metadata": {
    "id": "Y6OUXHlxlDEm"
   },
   "outputs": [],
   "source": [
    "with open(\"030_vocab.txt\",'w') as file:\n",
    "    for index,word in enumerate(vocab_dist):\n",
    "        file.write(f\"{word}:{ index}\\n\")"
   ]
  },
  {
   "cell_type": "markdown",
   "metadata": {
    "id": "YkGH81YFlDEn"
   },
   "source": [
    "<div class=\"alert alert-block alert-warning\">\n",
    "    \n",
    "### 5.2. Sparse Matrix <a class=\"anchor\" name=\"write-sparseMat\"></a>"
   ]
  },
  {
   "cell_type": "markdown",
   "metadata": {
    "id": "EtxqUAwmlDEn"
   },
   "source": [
    "For writing sparse matrix for a paper, we firstly calculate the frequency of words for that paper ...."
   ]
  },
  {
   "cell_type": "code",
   "execution_count": 11,
   "metadata": {
    "id": "__n1fdIqlDEn"
   },
   "outputs": [],
   "source": [
    "with open(\"030_countvec.txt\",\"w\") as file:\n",
    "    for line in output_countvec:\n",
    "        file.write(line + \"\\n\")"
   ]
  },
  {
   "cell_type": "markdown",
   "metadata": {
    "id": "mUFQU-QXlDEn"
   },
   "source": [
    "-------------------------------------"
   ]
  },
  {
   "cell_type": "markdown",
   "metadata": {
    "id": "AWjri6x_lDEn"
   },
   "source": [
    "<div class=\"alert alert-block alert-success\">\n",
    "    \n",
    "## 6. Summary <a class=\"anchor\" name=\"summary\"></a>"
   ]
  },
  {
   "cell_type": "markdown",
   "metadata": {
    "id": "RXAprlSblDEn"
   },
   "source": [
    "The provided code successfully accomplishes the objectives of generating vocab.txt and countvect.txt files by systematically filtering the review text and applying a series of well-structured text preprocessing steps. By following a logical sequence—starting with tokenization, then removing context-independent and context-dependent stopwords, followed by stemming, and finally removing rare words—the code effectively refines the dataset to focus on the most informative and meaningful tokens. This step-by-step approach ensures that the resulting vocabulary is both clean and relevant, enhancing the quality of the data for subsequent analysis or modeling tasks. The target of creating a concise and optimized vocabulary, as well as a corresponding count vector, is achieved efficiently and effectively through this methodical preprocessing pipeline."
   ]
  },
  {
   "cell_type": "markdown",
   "metadata": {
    "id": "HFXYKxO8lDEn"
   },
   "source": [
    "-------------------------------------"
   ]
  },
  {
   "cell_type": "markdown",
   "metadata": {
    "id": "HppxDtWNlDEn"
   },
   "source": [
    "<div class=\"alert alert-block alert-success\">\n",
    "    \n",
    "## 7. References <a class=\"anchor\" name=\"Ref\"></a>"
   ]
  },
  {
   "cell_type": "markdown",
   "metadata": {
    "id": "PCkWr-M1lDEo"
   },
   "source": [
    "[1] Pandas dataframe.drop_duplicates(), https://www.geeksforgeeks.org/python-pandas-dataframe-drop_duplicates/, Accessed 13/08/2022.\n",
    "\n"
   ]
  },
  {
   "cell_type": "markdown",
   "metadata": {
    "id": "mp9O-a1UlDEo"
   },
   "source": [
    "## --------------------------------------------------------------------------------------------------------------------------"
   ]
  }
 ],
 "metadata": {
  "colab": {
   "name": "task2_xxxxxxx.ipynb",
   "provenance": []
  },
  "kernelspec": {
   "display_name": "Python 3",
   "language": "python",
   "name": "python3"
  },
  "language_info": {
   "codemirror_mode": {
    "name": "ipython",
    "version": 3
   },
   "file_extension": ".py",
   "mimetype": "text/x-python",
   "name": "python",
   "nbconvert_exporter": "python",
   "pygments_lexer": "ipython3",
   "version": "3.11.4"
  },
  "toc": {
   "base_numbering": 1,
   "nav_menu": {},
   "number_sections": true,
   "sideBar": true,
   "skip_h1_title": false,
   "title_cell": "Table of Contents",
   "title_sidebar": "Contents",
   "toc_cell": false,
   "toc_position": {},
   "toc_section_display": true,
   "toc_window_display": true
  }
 },
 "nbformat": 4,
 "nbformat_minor": 1
}
