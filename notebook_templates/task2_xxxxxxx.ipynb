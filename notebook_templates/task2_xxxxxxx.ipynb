{
 "cells": [
  {
   "cell_type": "markdown",
   "metadata": {
    "id": "S8tinZOUlDER"
   },
   "source": [
    "<div class=\"alert alert-block alert-danger\">\n",
    "\n",
    "# FIT5196 Task 2 in Assessment 1\n",
    "    \n",
    "#### Student Name: xxxxxxx\n",
    "#### Student ID: xxxxxxxxx\n",
    "\n",
    "Date: xxxxxxxx\n",
    "\n",
    "Environment: xxxxxx\n",
    "\n",
    "Libraries used:\n",
    "* os (for interacting with the operating system, included in Python xxxx) \n",
    "* pandas 1.1.0 (for dataframe, installed and imported) \n",
    "* multiprocessing (for performing processes on multi cores, included in Python 3.6.9 package) \n",
    "* itertools (for performing operations on iterables)\n",
    "* nltk 3.5 (Natural Language Toolkit, installed and imported)\n",
    "* nltk.tokenize (for tokenization, installed and imported)\n",
    "* nltk.stem (for stemming the tokens, installed and imported)\n",
    "\n",
    "    </div>"
   ]
  },
  {
   "cell_type": "markdown",
   "metadata": {
    "id": "xnnLnFnLlDEU"
   },
   "source": [
    "<div class=\"alert alert-block alert-info\">\n",
    "    \n",
    "## Table of Contents\n",
    "\n",
    "</div>\n",
    "\n",
    "[1. Introduction](#Intro) <br>\n",
    "[2. Importing Libraries](#libs) <br>\n",
    "[3. Examining Input File](#examine) <br>\n",
    "[4. Loading and Parsing Files](#load) <br>\n",
    "$\\;\\;\\;\\;$[4.1. Tokenization](#tokenize) <br>\n",
    "$\\;\\;\\;\\;$[4.2. Whatever else](#whetev) <br>\n",
    "$\\;\\;\\;\\;$[4.3. Genegrate numerical representation](#whetev1) <br>\n",
    "[5. Writing Output Files](#write) <br>\n",
    "$\\;\\;\\;\\;$[5.1. Vocabulary List](#write-vocab) <br>\n",
    "$\\;\\;\\;\\;$[5.2. Sparse Matrix](#write-sparseMat) <br>\n",
    "[6. Summary](#summary) <br>\n",
    "[7. References](#Ref) <br>"
   ]
  },
  {
   "cell_type": "markdown",
   "metadata": {
    "id": "z8mo6PPRlDEU"
   },
   "source": [
    "<div class=\"alert alert-block alert-success\">\n",
    "    \n",
    "## 1.  Introduction  <a class=\"anchor\" name=\"Intro\"></a>"
   ]
  },
  {
   "cell_type": "markdown",
   "metadata": {
    "id": "ewZrff73lDEV"
   },
   "source": [
    "This script tokenizes the review text extracted from task1 and generates two output files: a vocabulary dictionary of the tokens in a text format and a count vector text file that lists the token indices and their frequencies for each gmap_id."
   ]
  },
  {
   "cell_type": "markdown",
   "metadata": {
    "id": "bSr_kwKclDEV"
   },
   "source": [
    "<div class=\"alert alert-block alert-success\">\n",
    "    \n",
    "## 2.  Importing Libraries  <a class=\"anchor\" name=\"libs\"></a>"
   ]
  },
  {
   "cell_type": "markdown",
   "metadata": {
    "id": "acwZw2NklDEW"
   },
   "source": [
    "In this assessment, any python packages is permitted to be used. The following packages were used to accomplish the related tasks:\n",
    "\n",
    "* **os:** to interact with the operating system, e.g. navigate through folders to read files\n",
    "* **re:** to define and use regular expressions\n",
    "* **pandas:** to work with dataframes\n",
    "* **multiprocessing:** to perform processes on multi cores for fast performance \n",
    "* ..."
   ]
  },
  {
   "cell_type": "code",
   "execution_count": 79,
   "metadata": {
    "id": "qgmGWs8HlDEW"
   },
   "outputs": [],
   "source": [
    "import os\n",
    "import re\n",
    "import langid\n",
    "import pandas as pd\n",
    "import multiprocessing\n",
    "from itertools import chain\n",
    "import nltk\n",
    "from nltk.probability import *\n",
    "from nltk.tokenize import RegexpTokenizer\n",
    "from nltk.tokenize import MWETokenizer\n",
    "from nltk.stem import PorterStemmer\n",
    "from nltk.util import ngrams\n",
    "from sklearn.feature_extraction.text import CountVectorizer"
   ]
  },
  {
   "cell_type": "markdown",
   "metadata": {
    "id": "lwNp0KnWlDEX"
   },
   "source": [
    "-------------------------------------"
   ]
  },
  {
   "cell_type": "markdown",
   "metadata": {
    "collapsed": true,
    "id": "SA7fSJiRlDEY"
   },
   "source": [
    "<div class=\"alert alert-block alert-success\">\n",
    "    \n",
    "## 3.  Examining Input File <a class=\"anchor\" name=\"examine\"></a>"
   ]
  },
  {
   "cell_type": "code",
   "execution_count": 80,
   "metadata": {
    "id": "bPCuEl8smTHW"
   },
   "outputs": [
    {
     "name": "stdout",
     "output_type": "stream",
     "text": [
      "                                  gmap_id  \\\n",
      "0   0x54cde72868493ca5:0x3bed623bec4c43e3   \n",
      "1   0x54d400a3503bf3cb:0x6f54a8d273995ade   \n",
      "2   0x54d4ecda5872a3d3:0x133d4cc056e83ab4   \n",
      "3   0x808327b71461d6bb:0x7e1165558a98f648   \n",
      "4   0x8083ff64283d3aab:0x278c940d94dac24d   \n",
      "5   0x8084481ecb286ce3:0x9621a5cee38c4ec2   \n",
      "6    0x80844820b85359e3:0xff414747a10c915   \n",
      "7   0x8084d14c6ecc3abf:0x8516c9daf203a890   \n",
      "8   0x808506ba36069ef1:0x872c89de33e28e2c   \n",
      "9   0x808515c134667051:0x9a164a19ad59e8ff   \n",
      "10  0x808515d26b90f18f:0x1e763dbe37ae7516   \n",
      "11  0x8085613c0ba3453d:0xafafb2f005ef4730   \n",
      "12  0x8085619759ff8759:0xae65b3fcdfd02e45   \n",
      "13  0x808567674283bbdd:0x1b039c22a6be8de5   \n",
      "14   0x808577a4077796b7:0x74c2df8373dd019   \n",
      "15  0x808577b06c49fbcb:0x3c48448b009b80d3   \n",
      "16  0x808579239e005685:0x85d07736600cdbc6   \n",
      "17  0x80857dcdecda8877:0xc56ed45ede87f983   \n",
      "18  0x808580e9b3089847:0x3a964d5d97defd44   \n",
      "19  0x8085ac3b9e99ebf5:0xfcba33f78ee94975   \n",
      "\n",
      "                                              reviews             earliest  \\\n",
      "0   [{'user_id': '105000072505849868207', 'time': ...  2011-02-04 08:53:51   \n",
      "1   [{'user_id': '117801025993772751929', 'time': ...  2014-12-27 15:01:27   \n",
      "2   [{'user_id': '110831597999913201409', 'time': ...  2016-01-19 10:16:32   \n",
      "3   [{'user_id': '107657303729293182646', 'time': ...  2017-03-19 03:42:30   \n",
      "4   [{'user_id': '102483909621418254915', 'time': ...  2010-11-22 08:52:43   \n",
      "5   [{'user_id': '103560060345361578357', 'time': ...  2013-08-01 09:19:36   \n",
      "6   [{'user_id': '107735448526067964417', 'time': ...  2013-08-13 10:06:50   \n",
      "7   [{'user_id': '110602798780788249509', 'time': ...  2015-08-22 04:29:16   \n",
      "8   [{'user_id': '117907132945489566754', 'time': ...  2011-02-28 03:41:00   \n",
      "9   [{'user_id': '111337015314703849717', 'time': ...  2016-07-17 10:52:08   \n",
      "10  [{'user_id': '109345904128747867524', 'time': ...  2015-04-03 04:54:56   \n",
      "11  [{'user_id': '104842787028508296184', 'time': ...  2016-02-07 21:48:16   \n",
      "12  [{'user_id': '116968081707930145178', 'time': ...  2015-03-13 10:01:12   \n",
      "13  [{'user_id': '110831739193632254097', 'time': ...  2018-07-21 14:27:12   \n",
      "14  [{'user_id': '106791093812668613355', 'time': ...  2019-01-22 10:35:19   \n",
      "15  [{'user_id': '113994618120666216331', 'time': ...  2017-07-12 03:54:30   \n",
      "16  [{'user_id': '104942316924186030230', 'time': ...  2013-01-20 10:39:57   \n",
      "17  [{'user_id': '100911988369194938362', 'time': ...  2008-02-23 11:00:00   \n",
      "18  [{'user_id': '112990815040274497235', 'time': ...  2013-12-02 13:21:58   \n",
      "19  [{'user_id': '100071540331351820457', 'time': ...  2017-09-16 08:55:23   \n",
      "\n",
      "                 latest  \n",
      "0   2021-04-21 20:51:39  \n",
      "1   2021-03-31 00:41:05  \n",
      "2   2021-05-07 14:36:57  \n",
      "3   2021-06-18 00:16:39  \n",
      "4   2021-04-20 00:45:20  \n",
      "5   2021-08-21 08:04:27  \n",
      "6   2021-05-22 07:37:44  \n",
      "7   2021-05-25 03:59:07  \n",
      "8   2021-05-27 11:30:48  \n",
      "9   2019-08-11 15:04:39  \n",
      "10  2021-05-02 14:40:47  \n",
      "11  2021-06-13 03:09:20  \n",
      "12  2021-05-15 04:02:29  \n",
      "13  2021-06-15 15:31:16  \n",
      "14  2021-07-05 15:19:48  \n",
      "15  2018-09-01 13:59:47  \n",
      "16  2021-05-10 08:28:45  \n",
      "17  2021-05-18 13:46:47  \n",
      "18  2021-05-22 10:53:57  \n",
      "19  2021-07-07 02:22:53  \n"
     ]
    }
   ],
   "source": [
    "df = pd.read_json(\"task1_30.json\")\n",
    "df = df.T.reset_index() # Transpose the DataFrame and reset the index to convert JSON keys to columns\n",
    "df.columns = ['gmap_id', 'reviews', 'earliest', 'latest'] # Rename columns for clarity\n",
    "print(df.head(20))\n",
    "# Iterate over each row in the DataFrame\n",
    "for index, row in df.iterrows():\n",
    "    # Filter out reviews where 'review_text' is \"None\"\n",
    "    filtered_reviews = [review for review in row[\"reviews\"] if review.get(\"review_text\") != \"None\"]\n",
    "    df.at[index, \"reviews\"] = filtered_reviews"
   ]
  },
  {
   "cell_type": "markdown",
   "metadata": {},
   "source": [
    "Justification: After reading the json file into a pandas dataframe. I found that the column and rows need to be transposed. Hence I used .T to ahieve that. Only the review contains more than 70 texts review is needed. So I used a list comprehension first to drop the review that is \"None\"."
   ]
  },
  {
   "cell_type": "markdown",
   "metadata": {
    "collapsed": true,
    "id": "ENnHWjoXlDEc"
   },
   "source": [
    "<div class=\"alert alert-block alert-success\">\n",
    "    \n",
    "## 4.  Loading and Parsing File <a class=\"anchor\" name=\"load\"></a>"
   ]
  },
  {
   "cell_type": "markdown",
   "metadata": {
    "id": "N9esGMx8lDEc"
   },
   "source": [
    "In this section, ...."
   ]
  },
  {
   "cell_type": "code",
   "execution_count": 81,
   "metadata": {
    "id": "YsnRR2c4lDEc"
   },
   "outputs": [
    {
     "name": "stdout",
     "output_type": "stream",
     "text": [
      "(176, 4)\n",
      "(124, 5)\n"
     ]
    }
   ],
   "source": [
    "print(df.shape)\n",
    "def extract_reviews(df):\n",
    "    # Filter out rows where the 'reviews' list has fewer than 70 entries and reset the index\n",
    "    df = df[df['reviews'].apply(len) >= 70].reset_index(drop=True)\n",
    "    df['review_text'] = '' # Initialize a new column 'review_text' to store combined review text\n",
    "    for index, row in df.iterrows():\n",
    "        review_texts = [] # Initialize a list to store review texts for the current row\n",
    "         # Iterate over each review in the 'reviews' list of the current row\n",
    "        for review in row['reviews']:\n",
    "            text = review.get('review_text', '').lower()\n",
    "            text = re.sub(r'[^\\x00-\\x7F]+', '', text) # Remove non-ASCII characters\n",
    "            review_texts.append(text)\n",
    "        df.at[index, 'review_text'] = ' '.join(review_texts)\n",
    "    print(df.shape)\n",
    "    return df\n",
    "\n",
    "df_review = extract_reviews(df)"
   ]
  },
  {
   "cell_type": "markdown",
   "metadata": {
    "id": "-uh9oUXAlDEd"
   },
   "source": [
    "After dropping all the review_text which is \"None\", I filtered the review by whose \"reviews\" list has more than 70 elements by applying len() method. After filtering the reviews, I created a new dataframe to store them. After that, a for loop is used to iterate through each row of the new data frame to store the review text to a new column \"review_text\". And then, join the review_text list to a string for further tokenization."
   ]
  },
  {
   "cell_type": "markdown",
   "metadata": {
    "collapsed": true,
    "id": "VIfQCD1VlDEe"
   },
   "source": [
    "<div class=\"alert alert-block alert-warning\">\n",
    "    \n",
    "### 4.1. Tokenization <a class=\"anchor\" name=\"tokenize\"></a>"
   ]
  },
  {
   "cell_type": "markdown",
   "metadata": {
    "id": "gchByyjolDEf"
   },
   "source": [
    "Tokenization is a principal step in text processing and producing unigrams. In this section, ...."
   ]
  },
  {
   "cell_type": "code",
   "execution_count": 82,
   "metadata": {},
   "outputs": [],
   "source": [
    "#Correct version\n",
    "stopwords_list = []\n",
    "with open(r'Student Data/stopwords_en.txt', 'r') as file:\n",
    "    for line in file:\n",
    "        stopwords_list.append(line.strip()) # Read each line, strip whitespace, and add to the stopwords list\n",
    "df_review[\"tokennized_review\"] = None # Initialize a new column 'tokennized_review' with None values to store tokenized and processed reviews\n",
    "\n",
    "for index,row in df_review.iterrows():\n",
    "    # Tokenization\n",
    "    review_text = row[\"review_text\"]\n",
    "    tokenizer = RegexpTokenizer(r\"[a-zA-Z]+\")\n",
    "    unigram_tokens = tokenizer.tokenize(review_text) # Tokenize the review text into words\n",
    "\n",
    "    # Remove tokens less than three\n",
    "    unigram_tokens = [token for token in unigram_tokens if len(token) >= 3]\n",
    "\n",
    "    # Remove independent stop words\n",
    "    stopped_tokens = [w for w in unigram_tokens if w not in stopwords_list]\n",
    "    #Stemming: Reduce tokens to their root form using the Porter stemmer\n",
    "    stemmer = PorterStemmer()\n",
    "    stemed_tokens = [stemmer.stem(token) for token in stopped_tokens]\n",
    "    # Store the processed tokens in the 'tokennized_review' column of the DataFrame\n",
    "    df_review.at[index, \"tokennized_review\"] = stemed_tokens\n",
    "    # print(mwe_tokens)"
   ]
  },
  {
   "cell_type": "markdown",
   "metadata": {
    "id": "ZqZos1q6lDEf"
   },
   "source": [
    "1. Read the stopwords txt and append them to a list called stopwords_lis\n",
    "2. Iterate through the rows of df_reviews\n",
    "3. Task a finished: Tokenize the review_text of each row by RegexpTokenizer\n",
    "- **Justification**: To perform further processing like remove stop words, Stemmentization etc, Words need to be tokenized first.\n",
    "4. Task e finished: Used list comprehension to  filter out the tokens to be length longer than3\n",
    "- **Justification**: Words's Lenth less than 3 are always meanningless words. Remove than at the beginning can help improve efficency of data processing.\n",
    "5. Task b1 finishied: Used list comprehension to filter the unigram_tokens by word not in the stop_word list.\n",
    "- **Justification**: Stop words are considered noise that needs to be removed. Remove them before stemmatization, because if the stopwords are stemmed first, the words would be transformed that not being able to match the stopword list.\n",
    "6. Stemming the remaining tokens to their root forms using the Porter Stemmer.\n",
    "- **Justification**: To identify context dependent stopwords, words need to be stemmed before removing them"
   ]
  },
  {
   "cell_type": "code",
   "execution_count": 83,
   "metadata": {
    "id": "OPBNTTq6lDEg"
   },
   "outputs": [],
   "source": [
    "# Remove context-dependent stopwords\n",
    "word_in_business = {}  # Initialize a dictionary to track the set of businesses in which each word appears\n",
    "total_businesses = df_review.shape[0]  # Get the total number of businesses (documents) in the DataFrame\n",
    "\n",
    "for index, row in df_review.iterrows():\n",
    "    gmap_id = row['gmap_id']  \n",
    "    unique_words = set(row['tokennized_review'])  # Convert the tokenized review into a set of unique words\n",
    "\n",
    "    # Update the dictionary with each word and the set of businesses where it appears\n",
    "    for word in unique_words:\n",
    "        if word not in word_in_business:\n",
    "            word_in_business[word] = set()  # Initialize an empty set for the word if it does not exist in the dictionary\n",
    "        word_in_business[word].add(gmap_id)  # Add the current business ID to the set for the word\n",
    "\n",
    "# Identify context-dependent stopwords that appear in more than 95% of businesses\n",
    "context_dependent_stopwords = [word for word, business_set in word_in_business.items()\n",
    "                                if len(business_set) / total_businesses > 0.95]\n",
    "\n",
    "for index, row in df_review.iterrows():\n",
    "    stopped_tokens = [w for w in row['tokennized_review'] if w not in context_dependent_stopwords]\n",
    "    df_review.at[index, \"tokennized_review\"] = stopped_tokens\n"
   ]
  },
  {
   "cell_type": "markdown",
   "metadata": {},
   "source": [
    "1.Identifying and removing context-dependent stopwords, which are words that appear in more than 95% of businesses.\n",
    "- **Justification**: For example: \"The words \"restaurant\" and \"restaurants\" are treated separately. \"Restaurant\" might appear in 80% of reviews, and \"restaurants\" in 20%. Individually, neither might exceed a frequency threshold (like 95%). Thus, neither is removed as a context-dependent stopword."
   ]
  },
  {
   "cell_type": "code",
   "execution_count": 84,
   "metadata": {},
   "outputs": [],
   "source": [
    "# Remove rare words\n",
    "word_in_business = {}\n",
    "total_businesses = df_review.shape[0]\n",
    "\n",
    "for index, row in df_review.iterrows():\n",
    "    gmap_id = row['gmap_id']\n",
    "    unique_words = set(row['tokennized_review'])\n",
    "\n",
    "    # Update the dictionary with each word and its associated businesses\n",
    "    for word in unique_words:\n",
    "        if word not in word_in_business:\n",
    "            word_in_business[word] = set()\n",
    "        word_in_business[word].add(gmap_id)\n",
    "\n",
    "rare_words = [word for word, business_set in word_in_business.items()\n",
    "                                if len(business_set) / total_businesses < 0.05]\n",
    "\n",
    "# Iterate over each row again to remove rare words from tokenized reviews\n",
    "for index,row in df_review.iterrows():\n",
    "    rared_tokens = [w for w in row['tokennized_review'] if w not in rare_words]\n",
    "    df_review.at[index, \"tokennized_review\"] = rared_tokens\n"
   ]
  },
  {
   "cell_type": "markdown",
   "metadata": {},
   "source": [
    "1. The purpose of this code is to remove rare words from the tokenized reviews. Rare words are defined as those that appear in less than 5% of the businesses in the dataset.\n",
    "- **Justification**: This step should be done after stemmatization. For example,\"running,\" \"ran,\" and \"runs\" all stem to \"run.\" If rare word removal were done before stemming, each form would be treated as a separate entity, potentially missing the fact that collectively they might not be rare."
   ]
  },
  {
   "cell_type": "code",
   "execution_count": 85,
   "metadata": {},
   "outputs": [],
   "source": [
    "# Bigram words\n",
    "# Combine all tokenized reviews into a single list of words\n",
    "all_tokens = sum(df_review[\"tokennized_review\"], [])\n",
    "\n",
    "# Set up bigram association measures and finder\n",
    "bigram_measures = nltk.collocations.BigramAssocMeasures()\n",
    "finder = nltk.collocations.BigramCollocationFinder.from_words(all_tokens)\n",
    "\n",
    "# Select the top 200 bigrams using Pointwise Mutual Information (PMI) as the scoring measure\n",
    "bigram_token = finder.nbest(bigram_measures.pmi, 200) \n",
    "\n",
    "# Initialize a Multi-Word Expression (MWE) tokenizer with the identified bigrams\n",
    "tokenizer = MWETokenizer(bigram_token)\n",
    "\n",
    "for index, row in df_review.iterrows():\n",
    "    # Tokenize the review using the MWE tokenizer to combine bigrams into single tokens\n",
    "    mwe_tokens = tokenizer.tokenize(row[\"tokennized_review\"])\n",
    "    # Update the 'tokennized_review' column with the new tokens including bigrams\n",
    "    df_review.at[index, \"tokennized_review\"] = mwe_tokens  "
   ]
  },
  {
   "cell_type": "markdown",
   "metadata": {},
   "source": [
    "1. Used MWETokenizer with pmi to find the first 200 bigrams and iterate through each row to identify the bigram and add bigram to it.\n",
    "\n",
    "- **Justification**: The Pointwise Mutual Information (PMI) measure used to identify meaningful bigrams relies on the frequency and co-occurrence of words within a text. By removing unimportant or noisy words first, the PMI calculation becomes more accurate and reflective of meaningful word associations. If bigrams were generated earlier, PMI scores could be skewed by the presence of irrelevant or overly common tokens, leading to less meaningful bigrams."
   ]
  },
  {
   "cell_type": "code",
   "execution_count": 86,
   "metadata": {},
   "outputs": [],
   "source": [
    "# Export word count txt file\n",
    "all_tokens_per_doc = [token for token in df_review[\"tokennized_review\"]]"
   ]
  },
  {
   "cell_type": "markdown",
   "metadata": {},
   "source": [
    "1. Sorted the cleaned tokens and write them to test_vocab.txt by desired format."
   ]
  },
  {
   "cell_type": "markdown",
   "metadata": {
    "id": "mVqFfwwMlDEg"
   },
   "source": [
    "At this stage, all reviews for each PID are tokenized and are stored as a value in the new dictionary (separetely for each day).\n",
    "\n",
    "-------------------------------------"
   ]
  },
  {
   "cell_type": "markdown",
   "metadata": {
    "collapsed": true,
    "id": "Ve6IZ2I-lDEg"
   },
   "source": [
    "<div class=\"alert alert-block alert-warning\">\n",
    "    \n",
    "### 4.2. Generate numerical representation<a class=\"anchor\" name=\"bigrams\"></a>"
   ]
  },
  {
   "cell_type": "markdown",
   "metadata": {
    "id": "erGhUY2UlDEg"
   },
   "source": [
    "One of the tasks is to generate the numerical representation for all tokens in abstract.  ....."
   ]
  },
  {
   "cell_type": "code",
   "execution_count": 87,
   "metadata": {
    "id": "sgFFtm6qlDEg"
   },
   "outputs": [
    {
     "name": "stdout",
     "output_type": "stream",
     "text": [
      "{'abil': 0, 'absolut': 1, 'accept': 2, 'access': 3, 'accessori': 4, 'accid': 5, 'accommod': 6, 'account': 7, 'accur': 8, 'acknowledg': 9, 'act': 10, 'action': 11, 'activ': 12, 'actual': 13, 'ad': 14, 'add': 15, 'addict': 16, 'addit': 17, 'address': 18, 'adequ': 19, 'adjust': 20, 'admit': 21, 'admit_purpos': 22, 'ador': 23, 'adult': 24, 'advanc': 25, 'advantag': 26, 'advertis': 27, 'advic': 28, 'advis': 29, 'afford': 30, 'afraid': 31, 'afternoon': 32, 'age': 33, 'agenc': 34, 'agent': 35, 'aggress': 36, 'ago': 37, 'agre': 38, 'ahead': 39, 'air': 40, 'allow': 41, 'alot': 42, 'alright': 43, 'altern': 44, 'amaz': 45, 'amazingli': 46, 'ambianc': 47, 'ambienc': 48, 'amd': 49, 'amd_helpful': 50, 'amen': 51, 'america': 52, 'american': 53, 'amount': 54, 'ampl': 55, 'angel': 56, 'anim': 57, 'annoy': 58, 'answer': 59, 'anticip': 60, 'anxieti': 61, 'anymor': 62, 'anytim': 63, 'apolog': 64, 'apolog_inconveni': 65, 'apologet': 66, 'app': 67, 'appar': 68, 'appear': 69, 'appet': 70, 'appetit': 71, 'appl': 72, 'appli': 73, 'applic': 74, 'appoint': 75, 'appreci': 76, 'approach': 77, 'approv': 78, 'approxim': 79, 'approxim_monthli': 80, 'appt': 81, 'april': 82, 'april_april': 83, 'area': 84, 'aren': 85, 'arent': 86, 'arent_error': 87, 'arent_pocket': 88, 'argu': 89, 'arm': 90, 'arrang': 91, 'arriv': 92, 'art': 93, 'asada': 94, 'asap': 95, 'asian': 96, 'ask': 97, 'aspect': 98, 'ass': 99, 'assess': 100, 'asset': 101, 'assist': 102, 'associ': 103, 'assort': 104, 'assort_scene': 105, 'assum': 106, 'assur': 107, 'ate': 108, 'atmospher': 109, 'attach': 110, 'attach_video': 111, 'attempt': 112, 'attend': 113, 'attent': 114, 'attitud': 115, 'attorney': 116, 'attract': 117, 'authent': 118, 'author': 119, 'author_submit': 120, 'auto': 121, 'automat': 122, 'avail': 123, 'ave': 124, 'averag': 125, 'avocado': 126, 'avoid': 127, 'aw': 128, 'awar': 129, 'awesom': 130, 'awhil': 131, 'awsom': 132, 'babi': 133, 'back': 134, 'bacon': 135, 'bad': 136, 'bag': 137, 'bake': 138, 'balanc': 139, 'ball': 140, 'band': 141, 'bang': 142, 'bang_buck': 143, 'bank': 144, 'bar': 145, 'bare': 146, 'bartend': 147, 'base': 148, 'basic': 149, 'bathroom': 150, 'batteri': 151, 'bay': 152, 'bbq': 153, 'beach': 154, 'bean': 155, 'beat': 156, 'beauti': 157, 'bed': 158, 'beef': 159, 'beer': 160, 'began': 161, 'begin': 162, 'behalf': 163, 'behavior': 164, 'believ': 165, 'bell': 166, 'belli': 167, 'benefit': 168, 'bet': 169, 'beverag': 170, 'bewar': 171, 'big': 172, 'bigger': 173, 'biggest': 174, 'bike': 175, 'bill': 176, 'birthday': 177, 'bit': 178, 'bite': 179, 'black': 180, 'blame': 181, 'bland': 182, 'blast': 183, 'blend': 184, 'bless': 185, 'block': 186, 'blood': 187, 'blow': 188, 'blown': 189, 'blue': 190, 'blvd': 191, 'blvd_nut': 192, 'board': 193, 'bodi': 194, 'bomb': 195, 'bone': 196, 'bonu': 197, 'book': 198, 'booth': 199, 'bore': 200, 'bore_task': 201, 'bother': 202, 'bottl': 203, 'bottom': 204, 'bought': 205, 'bowl': 206, 'box': 207, 'boy': 208, 'boyfriend': 209, 'brand': 210, 'bread': 211, 'break': 212, 'breakfast': 213, 'breath': 214, 'breez': 215, 'brew': 216, 'bright': 217, 'brilliant': 218, 'bring': 219, 'broke': 220, 'broken': 221, 'brother': 222, 'brought': 223, 'brown': 224, 'brunch': 225, 'brush': 226, 'brush_coat': 227, 'brush_shower': 228, 'brush_wave': 229, 'btw': 230, 'buck': 231, 'bud': 232, 'buddi': 233, 'buddi_mine': 234, 'budget': 235, 'bug': 236, 'bug_remedi': 237, 'build': 238, 'built': 239, 'bump': 240, 'bump_bump': 241, 'bun': 242, 'bunch': 243, 'burger': 244, 'burn': 245, 'burnt': 246, 'burrito': 247, 'busi': 248, 'butt': 249, 'butter': 250, 'buy': 251, 'cake': 252, 'cali': 253, 'cali_fav': 254, 'california': 255, 'call': 256, 'calm': 257, 'camera': 258, 'can': 259, 'cancel': 260, 'candi': 261, 'cap': 262, 'cap_cap': 263, 'car': 264, 'caramel': 265, 'card': 266, 'care': 267, 'carn': 268, 'carn_asada': 269, 'carnita': 270, 'carri': 271, 'cart': 272, 'case': 273, 'cash': 274, 'cashier': 275, 'casual': 276, 'cat': 277, 'catch': 278, 'cater': 279, 'caught': 280, 'caus': 281, 'celebr': 282, 'cell': 283, 'cent': 284, 'center': 285, 'central': 286, 'central_coast': 287, 'central_valley': 288, 'chain': 289, 'chair': 290, 'challeng': 291, 'chanc': 292, 'chang': 293, 'charact': 294, 'charg': 295, 'chase': 296, 'chase_asap': 297, 'chat': 298, 'cheap': 299, 'cheaper': 300, 'cheapest': 301, 'cheat': 302, 'check': 303, 'cheer': 304, 'chees': 305, 'chef': 306, 'chewi': 307, 'chicken': 308, 'child': 309, 'children': 310, 'chile': 311, 'chile_lime': 312, 'chili': 313, 'chill': 314, 'chines': 315, 'chip': 316, 'chipotl': 317, 'chocol': 318, 'choic': 319, 'choos': 320, 'chose': 321, 'chosen': 322, 'chri': 323, 'christma': 324, 'cilantro': 325, 'cinnamon': 326, 'citi': 327, 'claim': 328, 'class': 329, 'classi': 330, 'classic': 331, 'clean': 332, 'cleaner': 333, 'cleanli': 334, 'clear': 335, 'clerk': 336, 'client': 337, 'clinic': 338, 'clock': 339, 'close': 340, 'closer': 341, 'closest': 342, 'cloth': 343, 'club': 344, 'clue': 345, 'coast': 346, 'coat': 347, 'coat_tight': 348, 'coat_tongu': 349, 'cocktail': 350, 'coconut': 351, 'code': 352, 'code_enforc': 353, 'coffe': 354, 'coke': 355, 'cold': 356, 'colleagu': 357, 'collect': 358, 'collect_agenc': 359, 'color': 360, 'combin': 361, 'combo': 362, 'come': 363, 'comfort': 364, 'commend': 365, 'comment': 366, 'commerci': 367, 'commit': 368, 'common': 369, 'commun': 370, 'compani': 371, 'companion': 372, 'companion_octob': 373, 'compar': 374, 'comparison': 375, 'comparison_competitor': 376, 'compass': 377, 'compassion': 378, 'compet': 379, 'competit': 380, 'competitor': 381, 'complain': 382, 'complaint': 383, 'complet': 384, 'complex': 385, 'complic': 386, 'complic_mama': 387, 'compliment': 388, 'complimentari': 389, 'complimentari_profil': 390, 'comput': 391, 'con': 392, 'concern': 393, 'condiment': 394, 'condit': 395, 'confid': 396, 'confirm': 397, 'confus': 398, 'connect': 399, 'consid': 400, 'consid_fals': 401, 'consider': 402, 'consist': 403, 'constantli': 404, 'consult': 405, 'consum': 406, 'contact': 407, 'contain': 408, 'content': 409, 'content_condiment': 410, 'content_eventu': 411, 'continu': 412, 'contract': 413, 'control': 414, 'conveni': 415, 'convers': 416, 'cook': 417, 'cooki': 418, 'cooki_dough': 419, 'cool': 420, 'cordial': 421, 'corn': 422, 'corner': 423, 'corpor': 424, 'correct': 425, 'correctli': 426, 'cost': 427, 'costco': 428, 'costum': 429, 'couldn': 430, 'couldnt': 431, 'count': 432, 'counter': 433, 'counti': 434, 'countri': 435, 'coupl': 436, 'coupon': 437, 'court': 438, 'courteou': 439, 'courtesi': 440, 'cover': 441, 'covid': 442, 'cow': 443, 'cowork': 444, 'cozi': 445, 'crack': 446, 'craft': 447, 'crave': 448, 'crazi': 449, 'cream': 450, 'creat': 451, 'creativ': 452, 'credit': 453, 'crew': 454, 'cri': 455, 'crisp': 456, 'crispi': 457, 'crook': 458, 'cross': 459, 'crowd': 460, 'crunch': 461, 'crunchi': 462, 'crust': 463, 'cuisin': 464, 'cultur': 465, 'cultur_languag': 466, 'cup': 467, 'current': 468, 'curri': 469, 'custom': 470, 'cut': 471, 'cute': 472, 'cuz': 473, 'dad': 474, 'daili': 475, 'damag': 476, 'damn': 477, 'daniel': 478, 'dark': 479, 'darn': 480, 'data': 481, 'date': 482, 'daughter': 483, 'david': 484, 'day': 485, 'dead': 486, 'deadlin': 487, 'deal': 488, 'dealer': 489, 'dealership': 490, 'dealt': 491, 'death': 492, 'debit': 493, 'decad': 494, 'decent': 495, 'decid': 496, 'decis': 497, 'decor': 498, 'dedic': 499, 'deduct': 500, 'deep': 501, 'def': 502, 'defin': 503, 'definit': 504, 'degre': 505, 'del': 506, 'delay': 507, 'delic': 508, 'delici': 509, 'delight': 510, 'delish': 511, 'deliv': 512, 'deliveri': 513, 'demand': 514, 'demeanor': 515, 'demeanor_mama': 516, 'deni': 517, 'depart': 518, 'depend': 519, 'dept': 520, 'describ': 521, 'descript': 522, 'desert': 523, 'deserv': 524, 'design': 525, 'design_specialist': 526, 'desir': 527, 'desk': 528, 'desper': 529, 'dessert': 530, 'destroy': 531, 'destroy_admit': 532, 'detail': 533, 'determin': 534, 'develop': 535, 'develop_bump': 536, 'develop_poorli': 537, 'devic': 538, 'diagnos': 539, 'dial': 540, 'diamond': 541, 'didn': 542, 'didnt': 543, 'die': 544, 'diego': 545, 'differ': 546, 'difficult': 547, 'dilig': 548, 'dine': 549, 'dinner': 550, 'dip': 551, 'direct': 552, 'directli': 553, 'dirt': 554, 'dirti': 555, 'disabl': 556, 'disappoint': 557, 'discount': 558, 'discov': 559, 'discuss': 560, 'disgust': 561, 'dish': 562, 'dislik': 563, 'dislik_fake': 564, 'display': 565, 'disrespect': 566, 'dissatisfi': 567, 'distanc': 568, 'divers': 569, 'dmv': 570, 'doctor': 571, 'document': 572, 'doesn': 573, 'doesnt': 574, 'dog': 575, 'doggi': 576, 'dollar': 577, 'don': 578, 'dont': 579, 'door': 580, 'doubl': 581, 'doubt': 582, 'dough': 583, 'downsid': 584, 'downsid_unexpect': 585, 'downtown': 586, 'dozen': 587, 'drain': 588, 'draw': 589, 'dream': 590, 'dress': 591, 'dri': 592, 'drink': 593, 'drive': 594, 'driver': 595, 'drop': 596, 'drove': 597, 'drug': 598, 'drug_addict': 599, 'drug_heck': 600, 'dude': 601, 'due': 602, 'dump': 603, 'dump_station': 604, 'duti': 605, 'duti_seek': 606, 'ear': 607, 'earli': 608, 'earlier': 609, 'earn': 610, 'earth': 611, 'eas': 612, 'easi': 613, 'easier': 614, 'easiest': 615, 'easiest_strang': 616, 'easili': 617, 'east': 618, 'east_coast': 619, 'eat': 620, 'eaten': 621, 'ect': 622, 'ect_weve': 623, 'edg': 624, 'edit': 625, 'educ': 626, 'effect': 627, 'effici': 628, 'effort': 629, 'egg': 630, 'elderli': 631, 'email': 632, 'embarrass': 633, 'emerg': 634, 'employe': 635, 'empti': 636, 'enchilada': 637, 'encount': 638, 'encourag': 639, 'end': 640, 'energi': 641, 'enforc': 642, 'engag': 643, 'engin': 644, 'english': 645, 'enhanc': 646, 'enjoy': 647, 'ensur': 648, 'enter': 649, 'entertain': 650, 'enthusiast': 651, 'enthusiast_dedic': 652, 'entir': 653, 'entranc': 654, 'entre': 655, 'environ': 656, 'epic': 657, 'equal': 658, 'equal_delish': 659, 'equip': 660, 'error': 661, 'error_code': 662, 'essenti': 663, 'establish': 664, 'estim': 665, 'ethic': 666, 'evalu': 667, 'even': 668, 'event': 669, 'eventu': 670, 'everyday': 671, 'everytim': 672, 'exact': 673, 'exam': 674, 'examin': 675, 'exceed': 676, 'excel': 677, 'except': 678, 'excess': 679, 'excess_unnecessari': 680, 'exchang': 681, 'excit': 682, 'excus': 683, 'execut': 684, 'exel': 685, 'exist': 686, 'expect': 687, 'expens': 688, 'experi': 689, 'experienc': 690, 'expert': 691, 'expertis': 692, 'expir': 693, 'explain': 694, 'explan': 695, 'explor': 696, 'express': 697, 'extend': 698, 'extens': 699, 'extens_web': 700, 'extra': 701, 'extraordinari': 702, 'extrem': 703, 'eye': 704, 'fabul': 705, 'face': 706, 'facil': 707, 'fact': 708, 'factor': 709, 'fail': 710, 'fair': 711, 'fairli': 712, 'fake': 713, 'fall': 714, 'fall_bone': 715, 'fals': 716, 'fals_advertis': 717, 'famili': 718, 'familiar': 719, 'familiar_restor': 720, 'famou': 721, 'fan': 722, 'fanci': 723, 'fantast': 724, 'fashion': 725, 'fast': 726, 'faster': 727, 'fastest': 728, 'fat': 729, 'father': 730, 'fault': 731, 'fav': 732, 'favor': 733, 'favorit': 734, 'fear': 735, 'featur': 736, 'fee': 737, 'feed': 738, 'feel': 739, 'fell': 740, 'fellow': 741, 'fellow_vari': 742, 'felt': 743, 'femal': 744, 'fianc': 745, 'field': 746, 'fight': 747, 'figur': 748, 'file': 749, 'fill': 750, 'filter': 751, 'filthi': 752, 'final': 753, 'financi': 754, 'find': 755, 'fine': 756, 'finish': 757, 'fire': 758, 'firm': 759, 'fish': 760, 'fit': 761, 'fix': 762, 'flat': 763, 'flavor': 764, 'flexibl': 765, 'flexibl_realiti': 766, 'fli': 767, 'floor': 768, 'flow': 769, 'focu': 770, 'focus': 771, 'folk': 772, 'follow': 773, 'food': 774, 'fool': 775, 'fool_giant': 776, 'foot': 777, 'forc': 778, 'forev': 779, 'forget': 780, 'forgot': 781, 'form': 782, 'fortun': 783, 'forward': 784, 'found': 785, 'fountain': 786, 'fourth': 787, 'fourth_juli': 788, 'frame': 789, 'francisco': 790, 'freak': 791, 'free': 792, 'freeway': 793, 'freindli': 794, 'french': 795, 'french_toast': 796, 'frequent': 797, 'fresh': 798, 'freshli': 799, 'fri': 800, 'friday': 801, 'friend': 802, 'friendliest': 803, 'front': 804, 'frozen': 805, 'fruit': 806, 'frustrat': 807, 'fulfil': 808, 'full': 809, 'fulli': 810, 'fun': 811, 'function': 812, 'fund': 813, 'funni': 814, 'fur': 815, 'fur_babi': 816, 'futur': 817, 'ga': 818, 'gain': 819, 'gal': 820, 'gal_surround': 821, 'game': 822, 'garag': 823, 'garbag': 824, 'garlic': 825, 'gate': 826, 'gather': 827, 'gaug': 828, 'gave': 829, 'gem': 830, 'gener': 831, 'gentl': 832, 'gentleman': 833, 'gentlemen': 834, 'genuin': 835, 'giant': 836, 'gift': 837, 'girl': 838, 'girlfriend': 839, 'give': 840, 'glad': 841, 'gladli': 842, 'glass': 843, 'glove': 844, 'gluten': 845, 'god': 846, 'gold': 847, 'gold_stuf': 848, 'golden': 849, 'golden_rule': 850, 'gonna': 851, 'goodi': 852, 'googl': 853, 'gorgeou': 854, 'gotta': 855, 'gourmet': 856, 'grab': 857, 'grace': 858, 'graciou': 859, 'grade': 860, 'grand': 861, 'grate': 862, 'greas': 863, 'greasi': 864, 'greatest': 865, 'greatli': 866, 'green': 867, 'greet': 868, 'grew': 869, 'grill': 870, 'gross': 871, 'ground': 872, 'group': 873, 'grow': 874, 'guacamol': 875, 'guarante': 876, 'guard': 877, 'guess': 878, 'guest': 879, 'guid': 880, 'guidanc': 881, 'guy': 882, 'hadn': 883, 'hair': 884, 'half': 885, 'hamburg': 886, 'hand': 887, 'handi': 888, 'handl': 889, 'hang': 890, 'happen': 891, 'happi': 892, 'happier': 893, 'happili': 894, 'hard': 895, 'hasn': 896, 'hassl': 897, 'hate': 898, 'haven': 899, 'havent': 900, 'he': 901, 'head': 902, 'headach': 903, 'health': 904, 'healthi': 905, 'hear': 906, 'heard': 907, 'heart': 908, 'hearti': 909, 'heat': 910, 'heaven': 911, 'heavenli': 912, 'heavi': 913, 'heavi_lift': 914, 'heck': 915, 'hectic': 916, 'held': 917, 'hell': 918, 'hella': 919, 'hella_freak': 920, 'help': 921, 'helpful': 922, 'hesit': 923, 'hey': 924, 'hidden': 925, 'hidden_gem': 926, 'high': 927, 'higher': 928, 'highest': 929, 'highli': 930, 'highlight': 931, 'hill': 932, 'hip': 933, 'hip_hip': 934, 'hire': 935, 'histori': 936, 'hit': 937, 'hold': 938, 'hole': 939, 'hole_wall': 940, 'holiday': 941, 'home': 942, 'homeless': 943, 'homemad': 944, 'honest': 945, 'honesti': 946, 'honesti_superior': 947, 'honestli': 948, 'honor': 949, 'hood': 950, 'hood_crook': 951, 'hook': 952, 'hope': 953, 'horribl': 954, 'hospit': 955, 'host': 956, 'hot': 957, 'hotel': 958, 'hour': 959, 'hous': 960, 'hr': 961, 'huge': 962, 'human': 963, 'humbl': 964, 'humor': 965, 'hundr': 966, 'hung': 967, 'hungri': 968, 'hunt': 969, 'hurri': 970, 'hurt': 971, 'husband': 972, 'hype': 973, 'ice': 974, 'idea': 975, 'ideal': 976, 'identifi': 977, 'identifi_sourc': 978, 'ignor': 979, 'ill': 980, 'imagin': 981, 'immedi': 982, 'impati': 983, 'import': 984, 'importantli': 985, 'imposs': 986, 'impress': 987, 'improv': 988, 'in': 989, 'in_approxim': 990, 'inch': 991, 'includ': 992, 'incompet': 993, 'inconsist': 994, 'inconveni': 995, 'incorrect': 996, 'increas': 997, 'incred': 998, 'individu': 999, 'indoor': 1000, 'industri': 1001, 'inexpens': 1002, 'info': 1003, 'inform': 1004, 'ingredi': 1005, 'initi': 1006, 'injuri': 1007, 'inquir': 1008, 'insan': 1009, 'insid': 1010, 'insist': 1011, 'insist_shave': 1012, 'inspect': 1013, 'instal': 1014, 'instruct': 1015, 'insult': 1016, 'insur': 1017, 'integr': 1018, 'intens': 1019, 'interact': 1020, 'interest': 1021, 'interior': 1022, 'intern': 1023, 'internet': 1024, 'introduc': 1025, 'inventori': 1026, 'invest': 1027, 'invest_sake': 1028, 'invit': 1029, 'involv': 1030, 'isn': 1031, 'isnt': 1032, 'issu': 1033, 'item': 1034, 'ive': 1035, 'jack': 1036, 'jame': 1037, 'jerk': 1038, 'job': 1039, 'joe': 1040, 'john': 1041, 'join': 1042, 'joint': 1043, 'joke': 1044, 'jose': 1045, 'josh': 1046, 'joy': 1047, 'juic': 1048, 'juici': 1049, 'juli': 1050, 'jump': 1051, 'june': 1052, 'keep': 1053, 'key': 1054, 'kick': 1055, 'kick_ass': 1056, 'kick_butt': 1057, 'kid': 1058, 'kill': 1059, 'kill_appetit': 1060, 'kind': 1061, 'kinda': 1062, 'kindli': 1063, 'king': 1064, 'kitchen': 1065, 'knew': 1066, 'knock': 1067, 'know': 1068, 'knowledg': 1069, 'kudo': 1070, 'lab': 1071, 'labor': 1072, 'labor_complic': 1073, 'lack': 1074, 'ladi': 1075, 'laid': 1076, 'lake': 1077, 'land': 1078, 'languag': 1079, 'larg': 1080, 'larger': 1081, 'late': 1082, 'latest': 1083, 'latest_technolog': 1084, 'laugh': 1085, 'law': 1086, 'lazi': 1087, 'lead': 1088, 'leak': 1089, 'learn': 1090, 'leas': 1091, 'leav': 1092, 'left': 1093, 'leftov': 1094, 'leg': 1095, 'legal': 1096, 'legit': 1097, 'lemon': 1098, 'length': 1099, 'let': 1100, 'letter': 1101, 'lettuc': 1102, 'lettuc_tomato': 1103, 'level': 1104, 'licens': 1105, 'lie': 1106, 'life': 1107, 'lifetim': 1108, 'lifetim_transpar': 1109, 'lift': 1110, 'lift_accessori': 1111, 'lift_remark': 1112, 'light': 1113, 'like': 1114, 'lil': 1115, 'lime': 1116, 'limit': 1117, 'line': 1118, 'list': 1119, 'listen': 1120, 'lit': 1121, 'liter': 1122, 'live': 1123, 'lo': 1124, 'lo_angel': 1125, 'load': 1126, 'loan': 1127, 'lobbi': 1128, 'local': 1129, 'locat': 1130, 'lock': 1131, 'lol': 1132, 'long': 1133, 'longer': 1134, 'look': 1135, 'loop': 1136, 'loop_seamless': 1137, 'loos': 1138, 'lose': 1139, 'loss': 1140, 'lost': 1141, 'lot': 1142, 'loud': 1143, 'lousi': 1144, 'love': 1145, 'lover': 1146, 'low': 1147, 'lower': 1148, 'lowest': 1149, 'lowest_humor': 1150, 'loyal': 1151, 'luck': 1152, 'lucki': 1153, 'luckili': 1154, 'lui': 1155, 'lunch': 1156, 'machin': 1157, 'mad': 1158, 'made': 1159, 'magic': 1160, 'magic_gather': 1161, 'magnific': 1162, 'mail': 1163, 'main': 1164, 'maintain': 1165, 'mainten': 1166, 'major': 1167, 'make': 1168, 'mall': 1169, 'mama': 1170, 'mama_mama': 1171, 'man': 1172, 'manag': 1173, 'mango': 1174, 'manner': 1175, 'map': 1176, 'march': 1177, 'mari': 1178, 'mark': 1179, 'market': 1180, 'mask': 1181, 'massiv': 1182, 'massiv_remodel': 1183, 'master': 1184, 'master_craft': 1185, 'match': 1186, 'matter': 1187, 'mayo': 1188, 'mcdonald': 1189, 'mcdonald_ect': 1190, 'meal': 1191, 'mean': 1192, 'meant': 1193, 'meant_arrang': 1194, 'meant_fellow': 1195, 'measur': 1196, 'meat': 1197, 'mechan': 1198, 'med': 1199, 'medic': 1200, 'mediocr': 1201, 'medium': 1202, 'medium_rare': 1203, 'meet': 1204, 'melt': 1205, 'melt_mouth': 1206, 'member': 1207, 'memor': 1208, 'memori': 1209, 'men': 1210, 'mention': 1211, 'menu': 1212, 'merced': 1213, 'mess': 1214, 'messag': 1215, 'met': 1216, 'metal': 1217, 'metal_admit': 1218, 'method': 1219, 'mexican': 1220, 'michael': 1221, 'mid': 1222, 'middl': 1223, 'midnight': 1224, 'mike': 1225, 'mile': 1226, 'militari': 1227, 'milk': 1228, 'million': 1229, 'min': 1230, 'mind': 1231, 'mine': 1232, 'mini': 1233, 'mini_split': 1234, 'minim': 1235, 'minimum': 1236, 'minor': 1237, 'mint': 1238, 'minu': 1239, 'minu_score': 1240, 'minut': 1241, 'miss': 1242, 'mistak': 1243, 'mix': 1244, 'mobil': 1245, 'model': 1246, 'modern': 1247, 'mom': 1248, 'moment': 1249, 'monday': 1250, 'money': 1251, 'monitor': 1252, 'month': 1253, 'monthli': 1254, 'mood': 1255, 'morn': 1256, 'mother': 1257, 'mouth': 1258, 'move': 1259, 'movi': 1260, 'movi_score': 1261, 'multipl': 1262, 'mushroom': 1263, 'music': 1264, 'nacho': 1265, 'nail': 1266, 'name': 1267, 'napkin': 1268, 'napkin_condiment': 1269, 'nasti': 1270, 'natur': 1271, 'navig': 1272, 'nearbi': 1273, 'neat': 1274, 'neck': 1275, 'need': 1276, 'needless': 1277, 'neg': 1278, 'negoti': 1279, 'neighbor': 1280, 'neighbor_quit': 1281, 'neighborhood': 1282, 'nerv': 1283, 'nerv_blame': 1284, 'nerv_caught': 1285, 'nerv_rack': 1286, 'nervou': 1287, 'news': 1288, 'news_greas': 1289, 'nicest': 1290, 'night': 1291, 'nightmar': 1292, 'noisi': 1293, 'noodl': 1294, 'noon': 1295, 'normal': 1296, 'north': 1297, 'nose': 1298, 'notch': 1299, 'note': 1300, 'notic': 1301, 'notifi': 1302, 'number': 1303, 'numer': 1304, 'nurs': 1305, 'nut': 1306, 'obtain': 1307, 'obviou': 1308, 'occas': 1309, 'occasion': 1310, 'octob': 1311, 'octob_hurt': 1312, 'odd': 1313, 'offer': 1314, 'offic': 1315, 'offici': 1316, 'offici_joy': 1317, 'oil': 1318, 'older': 1319, 'omg': 1320, 'onion': 1321, 'onion_ring': 1322, 'onlin': 1323, 'open': 1324, 'oper': 1325, 'opinion': 1326, 'opportun': 1327, 'opposit': 1328, 'option': 1329, 'orang': 1330, 'orang_counti': 1331, 'order': 1332, 'organ': 1333, 'orient': 1334, 'origin': 1335, 'outcom': 1336, 'outdoor': 1337, 'outlet': 1338, 'outrag': 1339, 'outstand': 1340, 'overcharg': 1341, 'overcook': 1342, 'overli': 1343, 'overnight': 1344, 'overpr': 1345, 'overwhelm': 1346, 'owe': 1347, 'own': 1348, 'owner': 1349, 'ownership': 1350, 'pack': 1351, 'packag': 1352, 'pad': 1353, 'paid': 1354, 'pain': 1355, 'painless': 1356, 'paint': 1357, 'pair': 1358, 'pandem': 1359, 'paper': 1360, 'paperwork': 1361, 'par': 1362, 'parent': 1363, 'park': 1364, 'part': 1365, 'parti': 1366, 'partner': 1367, 'partner_butt': 1368, 'partner_task': 1369, 'pass': 1370, 'passion': 1371, 'past': 1372, 'path': 1373, 'pathet': 1374, 'patienc': 1375, 'patient': 1376, 'patio': 1377, 'patron': 1378, 'pay': 1379, 'payment': 1380, 'peac': 1381, 'peak': 1382, 'penni': 1383, 'peopl': 1384, 'pepper': 1385, 'perfect': 1386, 'perfectli': 1387, 'perform': 1388, 'period': 1389, 'person': 1390, 'personnel': 1391, 'pet': 1392, 'phenomen': 1393, 'phone': 1394, 'photo': 1395, 'physic': 1396, 'pick': 1397, 'picki': 1398, 'picki_grew': 1399, 'pickl': 1400, 'pickup': 1401, 'pictur': 1402, 'piec': 1403, 'pinch': 1404, 'pinch_nerv': 1405, 'pink': 1406, 'pipe': 1407, 'pizza': 1408, 'plain': 1409, 'plan': 1410, 'plant': 1411, 'plastic': 1412, 'plastic_contain': 1413, 'plate': 1414, 'play': 1415, 'plaza': 1416, 'pleas': 1417, 'pleasant': 1418, 'pleasantli': 1419, 'pleasantli_surpris': 1420, 'pleasur': 1421, 'plenti': 1422, 'pocket': 1423, 'pocket_visibl': 1424, 'point': 1425, 'polici': 1426, 'polit': 1427, 'poor': 1428, 'poorli': 1429, 'pop': 1430, 'popular': 1431, 'pork': 1432, 'pork_belli': 1433, 'portion': 1434, 'posit': 1435, 'possibl': 1436, 'post': 1437, 'pot': 1438, 'potato': 1439, 'potenti': 1440, 'pound': 1441, 'pound_pound': 1442, 'pour': 1443, 'power': 1444, 'ppl': 1445, 'practic': 1446, 'pre': 1447, 'precaut': 1448, 'prefer': 1449, 'premium': 1450, 'prepar': 1451, 'prescrib': 1452, 'prescript': 1453, 'present': 1454, 'press': 1455, 'press_freak': 1456, 'pressur': 1457, 'pretti': 1458, 'prevent': 1459, 'previou': 1460, 'previous': 1461, 'price': 1462, 'pricey': 1463, 'prici': 1464, 'pride': 1465, 'primari': 1466, 'print': 1467, 'prior': 1468, 'privat': 1469, 'pro': 1470, 'problem': 1471, 'procedur': 1472, 'proceed': 1473, 'process': 1474, 'produc': 1475, 'product': 1476, 'profession': 1477, 'profil': 1478, 'profit': 1479, 'profit_comparison': 1480, 'program': 1481, 'progress': 1482, 'project': 1483, 'promis': 1484, 'promot': 1485, 'prompt': 1486, 'promptli': 1487, 'proof': 1488, 'proof_ownership': 1489, 'proper': 1490, 'properli': 1491, 'properti': 1492, 'protect': 1493, 'protein': 1494, 'protein_destroy': 1495, 'protocol': 1496, 'provid': 1497, 'public': 1498, 'pull': 1499, 'pump': 1500, 'punctual': 1501, 'pup': 1502, 'puppi': 1503, 'purchas': 1504, 'pure': 1505, 'purpos': 1506, 'push': 1507, 'pushi': 1508, 'put': 1509, 'qualifi': 1510, 'qualiti': 1511, 'quarter': 1512, 'quesadilla': 1513, 'question': 1514, 'quick': 1515, 'quicker': 1516, 'quickli': 1517, 'quiet': 1518, 'quit': 1519, 'quot': 1520, 'race': 1521, 'rack': 1522, 'rain': 1523, 'rais': 1524, 'ran': 1525, 'ranch': 1526, 'rang': 1527, 'rapid': 1528, 'rapid_aggress': 1529, 'rapid_avail': 1530, 'rare': 1531, 'rate': 1532, 'rave': 1533, 'raw': 1534, 'ray': 1535, 'reach': 1536, 'read': 1537, 'readi': 1538, 'real': 1539, 'realiti': 1540, 'realiti_movi': 1541, 'realiz': 1542, 'rear': 1543, 'reason': 1544, 'reassur': 1545, 'recal': 1546, 'reccomend': 1547, 'receipt': 1548, 'receiv': 1549, 'recent': 1550, 'recept': 1551, 'receptionist': 1552, 'recip': 1553, 'recogn': 1554, 'recomend': 1555, 'recommend': 1556, 'record': 1557, 'red': 1558, 'reduc': 1559, 'refer': 1560, 'referr': 1561, 'referr_bonu': 1562, 'refil': 1563, 'refresh': 1564, 'refund': 1565, 'refus': 1566, 'regist': 1567, 'regret': 1568, 'regular': 1569, 'regularli': 1570, 'relat': 1571, 'relationship': 1572, 'relationship_qualifi': 1573, 'relax': 1574, 'reli': 1575, 'reli_loyal': 1576, 'reliabl': 1577, 'relief': 1578, 'reliev': 1579, 'remain': 1580, 'remark': 1581, 'remedi': 1582, 'remedi_relationship': 1583, 'rememb': 1584, 'remind': 1585, 'remodel': 1586, 'remov': 1587, 'renov': 1588, 'renov_modern': 1589, 'renov_senior': 1590, 'rent': 1591, 'rental': 1592, 'rep': 1593, 'repair': 1594, 'repeat': 1595, 'repeatedli': 1596, 'replac': 1597, 'repli': 1598, 'report': 1599, 'repres': 1600, 'request': 1601, 'requir': 1602, 'research': 1603, 'reserv': 1604, 'resid': 1605, 'resid_sourc': 1606, 'resolv': 1607, 'respect': 1608, 'respond': 1609, 'respons': 1610, 'rest': 1611, 'restaur': 1612, 'restor': 1613, 'restroom': 1614, 'result': 1615, 'retail': 1616, 'retir': 1617, 'return': 1618, 'review': 1619, 'reward': 1620, 'rib': 1621, 'rice': 1622, 'rich': 1623, 'ride': 1624, 'ridicul': 1625, 'ring': 1626, 'rip': 1627, 'risk': 1628, 'road': 1629, 'roast': 1630, 'rock': 1631, 'roll': 1632, 'room': 1633, 'root': 1634, 'rough': 1635, 'rough_can': 1636, 'rough_impati': 1637, 'roughli': 1638, 'round': 1639, 'routin': 1640, 'row': 1641, 'rude': 1642, 'ruin': 1643, 'rule': 1644, 'run': 1645, 'runner': 1646, 'runner_roughli': 1647, 'rush': 1648, 'sad': 1649, 'sadli': 1650, 'safe': 1651, 'safeti': 1652, 'safeti_protocol': 1653, 'sake': 1654, 'salad': 1655, 'sale': 1656, 'salmon': 1657, 'salsa': 1658, 'salt': 1659, 'salt_caramel': 1660, 'salt_pepper': 1661, 'salti': 1662, 'sampl': 1663, 'san': 1664, 'sandwich': 1665, 'sanit': 1666, 'sanitari': 1667, 'sanitari_filthi': 1668, 'santa': 1669, 'sat': 1670, 'satisfact': 1671, 'satisfi': 1672, 'saturday': 1673, 'sauc': 1674, 'sausag': 1675, 'save': 1676, 'savori': 1677, 'savori_sociabl': 1678, 'scam': 1679, 'scare': 1680, 'scare_death': 1681, 'scari': 1682, 'scene': 1683, 'schedul': 1684, 'school': 1685, 'score': 1686, 'scott': 1687, 'scratch': 1688, 'screen': 1689, 'screw': 1690, 'seafood': 1691, 'seamless': 1692, 'search': 1693, 'season': 1694, 'seat': 1695, 'second': 1696, 'secret': 1697, 'section': 1698, 'secur': 1699, 'seek': 1700, 'select': 1701, 'sell': 1702, 'send': 1703, 'senior': 1704, 'sens': 1705, 'sens_humor': 1706, 'separ': 1707, 'serv': 1708, 'server': 1709, 'set': 1710, 'settl': 1711, 'setup': 1712, 'sevic': 1713, 'shade': 1714, 'shadi': 1715, 'shadi_behavior': 1716, 'shake': 1717, 'shame': 1718, 'shape': 1719, 'share': 1720, 'shave': 1721, 'she': 1722, 'shell': 1723, 'shelter': 1724, 'shelter_desert': 1725, 'shift': 1726, 'shine': 1727, 'ship': 1728, 'shirt': 1729, 'shock': 1730, 'shoe': 1731, 'shop': 1732, 'short': 1733, 'shortli': 1734, 'shot': 1735, 'shouldn': 1736, 'shout': 1737, 'show': 1738, 'shower': 1739, 'shower_renov': 1740, 'shower_shower': 1741, 'shrimp': 1742, 'shut': 1743, 'sick': 1744, 'side': 1745, 'sign': 1746, 'signific': 1747, 'silver': 1748, 'similar': 1749, 'simpl': 1750, 'simpli': 1751, 'sincer': 1752, 'singl': 1753, 'sister': 1754, 'sit': 1755, 'site': 1756, 'situat': 1757, 'size': 1758, 'skill': 1759, 'skin': 1760, 'skin_shirt': 1761, 'skip': 1762, 'slam': 1763, 'sleep': 1764, 'slice': 1765, 'slightli': 1766, 'slip': 1767, 'slow': 1768, 'small': 1769, 'smaller': 1770, 'smart': 1771, 'smell': 1772, 'smh': 1773, 'smh_crook': 1774, 'smile': 1775, 'smoke': 1776, 'smooth': 1777, 'smoothli': 1778, 'snack': 1779, 'soak': 1780, 'soak_enchilada': 1781, 'sociabl': 1782, 'social': 1783, 'social_distanc': 1784, 'soda': 1785, 'soft': 1786, 'soggi': 1787, 'sold': 1788, 'solid': 1789, 'solut': 1790, 'solv': 1791, 'son': 1792, 'soo': 1793, 'sooner': 1794, 'sooo': 1795, 'soooo': 1796, 'sort': 1797, 'soul': 1798, 'sound': 1799, 'soup': 1800, 'sour': 1801, 'sourc': 1802, 'south': 1803, 'southern': 1804, 'southern_california': 1805, 'soy': 1806, 'space': 1807, 'spaciou': 1808, 'spanish': 1809, 'spare': 1810, 'speak': 1811, 'special': 1812, 'specialist': 1813, 'specialti': 1814, 'specif': 1815, 'spectacular': 1816, 'speed': 1817, 'speedi': 1818, 'speedi_youll': 1819, 'spend': 1820, 'spent': 1821, 'spice': 1822, 'spici': 1823, 'spill': 1824, 'spill_spill': 1825, 'spirit': 1826, 'split': 1827, 'spoke': 1828, 'spoken': 1829, 'sport': 1830, 'spot': 1831, 'spring': 1832, 'squar': 1833, 'squar_foot': 1834, 'squeez': 1835, 'stack': 1836, 'stack_gain': 1837, 'staf': 1838, 'staff': 1839, 'stale': 1840, 'stall': 1841, 'stand': 1842, 'standard': 1843, 'stapl': 1844, 'star': 1845, 'start': 1846, 'state': 1847, 'station': 1848, 'statu': 1849, 'stay': 1850, 'steak': 1851, 'steal': 1852, 'steam': 1853, 'steam_death': 1854, 'steep': 1855, 'steep_pot': 1856, 'stellar': 1857, 'step': 1858, 'stick': 1859, 'stock': 1860, 'stolen': 1861, 'stolen_debit': 1862, 'stomach': 1863, 'stood': 1864, 'stop': 1865, 'store': 1866, 'stori': 1867, 'straight': 1868, 'strang': 1869, 'strawberri': 1870, 'street': 1871, 'stress': 1872, 'strip': 1873, 'strip_mall': 1874, 'strong': 1875, 'strongli': 1876, 'struggl': 1877, 'stuck': 1878, 'student': 1879, 'stuf': 1880, 'stuff': 1881, 'stumbl': 1882, 'stupid': 1883, 'style': 1884, 'submit': 1885, 'success': 1886, 'suck': 1887, 'sudden': 1888, 'suffer': 1889, 'sugar': 1890, 'sugar_coat': 1891, 'suggest': 1892, 'suit': 1893, 'summer': 1894, 'sun': 1895, 'sunday': 1896, 'sunni': 1897, 'super': 1898, 'superb': 1899, 'superior': 1900, 'supervisor': 1901, 'supper': 1902, 'suppli': 1903, 'support': 1904, 'suppos': 1905, 'supposedli': 1906, 'sure': 1907, 'sure_bore': 1908, 'surgeri': 1909, 'surpris': 1910, 'surprisingli': 1911, 'surround': 1912, 'survey': 1913, 'sweet': 1914, 'sweetest': 1915, 'switch': 1916, 'system': 1917, 'tabl': 1918, 'taco': 1919, 'tag': 1920, 'take': 1921, 'takeout': 1922, 'takeout_leftov': 1923, 'talent': 1924, 'talk': 1925, 'tank': 1926, 'tank_gaug': 1927, 'tap': 1928, 'task': 1929, 'task_commend': 1930, 'tast': 1931, 'tasteless': 1932, 'tasti': 1933, 'tax': 1934, 'tea': 1935, 'teach': 1936, 'team': 1937, 'tear': 1938, 'tear_flow': 1939, 'tech': 1940, 'technic': 1941, 'technician': 1942, 'technolog': 1943, 'teeth': 1944, 'tell': 1945, 'temperatur': 1946, 'ten': 1947, 'tend': 1948, 'tender': 1949, 'term': 1950, 'termin': 1951, 'terribl': 1952, 'terrif': 1953, 'test': 1954, 'texa': 1955, 'text': 1956, 'textur': 1957, 'textur_soak': 1958, 'thank': 1959, 'thanksgiv': 1960, 'theyr': 1961, 'theyv': 1962, 'thick': 1963, 'thier': 1964, 'thier_crook': 1965, 'thier_focu': 1966, 'thin': 1967, 'thin_crust': 1968, 'thing': 1969, 'think': 1970, 'think_runner': 1971, 'tho': 1972, 'thought': 1973, 'thousand': 1974, 'threaten': 1975, 'threw': 1976, 'thrill': 1977, 'throw': 1978, 'thumb': 1979, 'thursday': 1980, 'ticket': 1981, 'tie': 1982, 'tight': 1983, 'til': 1984, 'till': 1985, 'timer': 1986, 'tini': 1987, 'tip': 1988, 'tire': 1989, 'titl': 1990, 'toast': 1991, 'today': 1992, 'toilet': 1993, 'told': 1994, 'tomato': 1995, 'tomato_pathet': 1996, 'tomorrow': 1997, 'ton': 1998, 'tongu': 1999, 'tonight': 2000, 'tool': 2001, 'tooth': 2002, 'top': 2003, 'tortilla': 2004, 'total': 2005, 'touch': 2006, 'tough': 2007, 'tourist': 2008, 'tourist_trap': 2009, 'towel': 2010, 'towel_greas': 2011, 'town': 2012, 'track': 2013, 'trade': 2014, 'tradit': 2015, 'traffic': 2016, 'train': 2017, 'transact': 2018, 'transfer': 2019, 'transit': 2020, 'transit_van': 2021, 'transpar': 2022, 'trap': 2023, 'trash': 2024, 'travel': 2025, 'treat': 2026, 'treatment': 2027, 'tree': 2028, 'tremend': 2029, 'trick': 2030, 'trip': 2031, 'troubl': 2032, 'truck': 2033, 'true': 2034, 'trust': 2035, 'trustworthi': 2036, 'truth': 2037, 'tuck': 2038, 'tuck_squar': 2039, 'tuesday': 2040, 'tune': 2041, 'turn': 2042, 'type': 2043, 'typic': 2044, 'ultim': 2045, 'ultim_buddi': 2046, 'unabl': 2047, 'unbeliev': 2048, 'uncomfort': 2049, 'understaf': 2050, 'understand': 2051, 'understood': 2052, 'unexpect': 2053, 'unfortun': 2054, 'unfortun_chosen': 2055, 'unfriendli': 2056, 'unhappi': 2057, 'unhelp': 2058, 'uniqu': 2059, 'unit': 2060, 'unlik': 2061, 'unlik_competitor': 2062, 'unnecessari': 2063, 'unorgan': 2064, 'unpleas': 2065, 'unprofession': 2066, 'up': 2067, 'upbeat': 2068, 'updat': 2069, 'upfront': 2070, 'upgrad': 2071, 'upsel': 2072, 'upset': 2073, 'usual': 2074, 'utmost': 2075, 'vacat': 2076, 'vacuum': 2077, 'valley': 2078, 'valu': 2079, 'van': 2080, 'vari': 2081, 'vari_greatli': 2082, 'varieti': 2083, 'vega': 2084, 'vegan': 2085, 'veget': 2086, 'vegetarian': 2087, 'veggi': 2088, 'vehicl': 2089, 'venu': 2090, 'verifi': 2091, 'version': 2092, 'version_round': 2093, 'vet': 2094, 'veteran': 2095, 'vibe': 2096, 'video': 2097, 'view': 2098, 'viru': 2099, 'visibl': 2100, 'visit': 2101, 'voic': 2102, 'voic_mail': 2103, 'waist': 2104, 'wait': 2105, 'waiter': 2106, 'waitress': 2107, 'walk': 2108, 'wall': 2109, 'walmart': 2110, 'wanna': 2111, 'want': 2112, 'warm': 2113, 'warmli': 2114, 'warn': 2115, 'warranti': 2116, 'wash': 2117, 'wasn': 2118, 'wasnt': 2119, 'wast': 2120, 'watch': 2121, 'water': 2122, 'wave': 2123, 'way': 2124, 'weak': 2125, 'wear': 2126, 'weather': 2127, 'web': 2128, 'web_applic': 2129, 'websit': 2130, 'wed': 2131, 'wednesday': 2132, 'week': 2133, 'weekday': 2134, 'weekend': 2135, 'weekli': 2136, 'weird': 2137, 'welcom': 2138, 'weren': 2139, 'werent': 2140, 'west': 2141, 'wet': 2142, 'weve': 2143, 'what': 2144, 'whatsoev': 2145, 'wheel': 2146, 'white': 2147, 'wide': 2148, 'wife': 2149, 'wifi': 2150, 'wifi_competitor': 2151, 'win': 2152, 'window': 2153, 'windshield': 2154, 'windshield_sevic': 2155, 'wine': 2156, 'wing': 2157, 'winter': 2158, 'wipe': 2159, 'wire': 2160, 'wise': 2161, 'wish': 2162, 'wit': 2163, 'woman': 2164, 'women': 2165, 'won': 2166, 'wonder': 2167, 'wont': 2168, 'wood': 2169, 'wood_lake': 2170, 'word': 2171, 'wore': 2172, 'wore_mask': 2173, 'work': 2174, 'worker': 2175, 'workout': 2176, 'world': 2177, 'worri': 2178, 'wors': 2179, 'worst': 2180, 'worth': 2181, 'worthi': 2182, 'wouldn': 2183, 'wouldnt': 2184, 'wouldv': 2185, 'wound': 2186, 'wow': 2187, 'wrap': 2188, 'write': 2189, 'written': 2190, 'wrong': 2191, 'yard': 2192, 'yeah': 2193, 'year': 2194, 'yell': 2195, 'yellow': 2196, 'yelp': 2197, 'yesterday': 2198, 'youll': 2199, 'young': 2200, 'younger': 2201, 'younger_lil': 2202, 'your': 2203, 'yr': 2204, 'yum': 2205, 'yummi': 2206, 'zone': 2207}\n"
     ]
    }
   ],
   "source": [
    "# Initialize a CountVectorizer to convert text documents into a matrix of word counts\n",
    "vectorizer = CountVectorizer(analyzer=\"word\")\n",
    "\n",
    "# Join tokens in each document into a single string to prepare for vectorization\n",
    "documents = [' '.join(tokens) for tokens in all_tokens_per_doc]\n",
    "\n",
    "# Fit the vectorizer to the documents and transform them into a document-term matrix\n",
    "data_features = vectorizer.fit_transform(documents)\n",
    "\n",
    "# Retrieve the list of unique words gained by the vectorizer\n",
    "vocab = vectorizer.get_feature_names_out()\n",
    "\n",
    "\n",
    "# Create a dictionary mapping each word to its index in the vocabulary\n",
    "vocab_dist = {word: index for index, word in enumerate(vocab)}\n",
    "\n",
    "print(vocab_dist)\n",
    "output_countvec = []\n",
    "\n",
    "# Iterate over each document and its corresponding Google Map ID\n",
    "for doc_index, gmap_id in enumerate(df_review[\"gmap_id\"]):\n",
    "    doc_vector = data_features[doc_index]  # Get the count vector for the current document\n",
    "    \n",
    "    # Zip together the indices and frequencies of the non-zero elements in the count vector\n",
    "    token_counts = zip(doc_vector.indices, doc_vector.data)\n",
    "    \n",
    "    # Format each word index and its frequency as \"index:frequency\"\n",
    "    formatted_counts = [f\"{index}:{frequency}\" for index, frequency in token_counts]\n",
    "    \n",
    "    # Construct the output line with the gmap_id followed by the formatted count vector\n",
    "    output_line = f\"{gmap_id} \" + \", \".join(formatted_counts)\n",
    "    \n",
    "    # Append the formatted line to the output list\n",
    "    output_countvec.append(output_line)"
   ]
  },
  {
   "cell_type": "markdown",
   "metadata": {
    "id": "7cbSKT6PlDEg"
   },
   "source": [
    "The code above processes a collection of text documents to create a numerical representation suitable for text analysis. It uses CountVectorizer to tokenize the documents and generate a document-term matrix, capturing the frequency of each word in each document. The vocabulary of unique words is extracted and written to a file, mapping each word to an index. Additionally, the code generates formatted output for each document, listing the frequency of each word by its index."
   ]
  },
  {
   "cell_type": "markdown",
   "metadata": {
    "id": "aO1PJO-dlDEh"
   },
   "source": [
    "At this stage, we have a dictionary of tokenized words, whose keys are indicative of....\n",
    "\n",
    "-------------------------------------"
   ]
  },
  {
   "cell_type": "markdown",
   "metadata": {
    "id": "sfMYJ0XdlDEh"
   },
   "source": [
    "#### Whatever else <a class=\"anchor\" name=\"whatev1\"></a>"
   ]
  },
  {
   "cell_type": "markdown",
   "metadata": {
    "id": "XmaGJYIJlDEl"
   },
   "source": [
    "<div class=\"alert alert-block alert-success\">\n",
    "    \n",
    "## 5. Writing Output Files <a class=\"anchor\" name=\"write\"></a>"
   ]
  },
  {
   "cell_type": "markdown",
   "metadata": {
    "id": "wjMBqRetlDEl"
   },
   "source": [
    "files need to be generated:\n",
    "* Vocabulary list\n",
    "* Sparse matrix (count_vectors)\n",
    "\n",
    "This is performed in the following sections."
   ]
  },
  {
   "cell_type": "markdown",
   "metadata": {
    "id": "Fc6tQ4ljlDEm"
   },
   "source": [
    "<div class=\"alert alert-block alert-warning\">\n",
    "    \n",
    "### 5.1. Vocabulary List <a class=\"anchor\" name=\"write-vocab\"></a>"
   ]
  },
  {
   "cell_type": "markdown",
   "metadata": {
    "id": "SDlbpGYilDEm"
   },
   "source": [
    "List of vocabulary should also be written to a file, sorted alphabetically, with their reference codes in front of them. This file also refers to the sparse matrix in the next file. For this purpose, ....."
   ]
  },
  {
   "cell_type": "code",
   "execution_count": 89,
   "metadata": {
    "id": "Y6OUXHlxlDEm"
   },
   "outputs": [],
   "source": [
    "with open(\"test_vocab.txt\",'w') as file:\n",
    "    for index,word in enumerate(vocab_dist):\n",
    "        file.write(f\"{word}:{ index}\\n\")"
   ]
  },
  {
   "cell_type": "markdown",
   "metadata": {
    "id": "YkGH81YFlDEn"
   },
   "source": [
    "<div class=\"alert alert-block alert-warning\">\n",
    "    \n",
    "### 5.2. Sparse Matrix <a class=\"anchor\" name=\"write-sparseMat\"></a>"
   ]
  },
  {
   "cell_type": "markdown",
   "metadata": {
    "id": "EtxqUAwmlDEn"
   },
   "source": [
    "For writing sparse matrix for a paper, we firstly calculate the frequency of words for that paper ...."
   ]
  },
  {
   "cell_type": "code",
   "execution_count": 90,
   "metadata": {
    "id": "__n1fdIqlDEn"
   },
   "outputs": [],
   "source": [
    "with open(\"countvec_test.txt\",\"w\") as file:\n",
    "    for line in output_countvec:\n",
    "        file.write(line + \"\\n\")"
   ]
  },
  {
   "cell_type": "markdown",
   "metadata": {
    "id": "mUFQU-QXlDEn"
   },
   "source": [
    "-------------------------------------"
   ]
  },
  {
   "cell_type": "markdown",
   "metadata": {
    "id": "AWjri6x_lDEn"
   },
   "source": [
    "<div class=\"alert alert-block alert-success\">\n",
    "    \n",
    "## 6. Summary <a class=\"anchor\" name=\"summary\"></a>"
   ]
  },
  {
   "cell_type": "markdown",
   "metadata": {
    "id": "RXAprlSblDEn"
   },
   "source": [
    "The provided code successfully accomplishes the objectives of generating vocab.txt and countvect.txt files by systematically filtering the review text and applying a series of well-structured text preprocessing steps. By following a logical sequence—starting with tokenization, then removing context-independent and context-dependent stopwords, followed by stemming, and finally removing rare words—the code effectively refines the dataset to focus on the most informative and meaningful tokens. This step-by-step approach ensures that the resulting vocabulary is both clean and relevant, enhancing the quality of the data for subsequent analysis or modeling tasks. The target of creating a concise and optimized vocabulary, as well as a corresponding count vector, is achieved efficiently and effectively through this methodical preprocessing pipeline."
   ]
  },
  {
   "cell_type": "markdown",
   "metadata": {
    "id": "HFXYKxO8lDEn"
   },
   "source": [
    "-------------------------------------"
   ]
  },
  {
   "cell_type": "markdown",
   "metadata": {
    "id": "HppxDtWNlDEn"
   },
   "source": [
    "<div class=\"alert alert-block alert-success\">\n",
    "    \n",
    "## 7. References <a class=\"anchor\" name=\"Ref\"></a>"
   ]
  },
  {
   "cell_type": "markdown",
   "metadata": {
    "id": "PCkWr-M1lDEo"
   },
   "source": [
    "[1] Pandas dataframe.drop_duplicates(), https://www.geeksforgeeks.org/python-pandas-dataframe-drop_duplicates/, Accessed 13/08/2022.\n",
    "\n"
   ]
  },
  {
   "cell_type": "markdown",
   "metadata": {
    "id": "mp9O-a1UlDEo"
   },
   "source": [
    "## --------------------------------------------------------------------------------------------------------------------------"
   ]
  }
 ],
 "metadata": {
  "colab": {
   "name": "task2_xxxxxxx.ipynb",
   "provenance": []
  },
  "kernelspec": {
   "display_name": "Python 3",
   "language": "python",
   "name": "python3"
  },
  "language_info": {
   "codemirror_mode": {
    "name": "ipython",
    "version": 3
   },
   "file_extension": ".py",
   "mimetype": "text/x-python",
   "name": "python",
   "nbconvert_exporter": "python",
   "pygments_lexer": "ipython3",
   "version": "3.11.4"
  },
  "toc": {
   "base_numbering": 1,
   "nav_menu": {},
   "number_sections": true,
   "sideBar": true,
   "skip_h1_title": false,
   "title_cell": "Table of Contents",
   "title_sidebar": "Contents",
   "toc_cell": false,
   "toc_position": {},
   "toc_section_display": true,
   "toc_window_display": true
  }
 },
 "nbformat": 4,
 "nbformat_minor": 1
}
