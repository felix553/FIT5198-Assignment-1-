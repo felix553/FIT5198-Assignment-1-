{
 "cells": [
  {
   "cell_type": "markdown",
   "metadata": {
    "id": "S8tinZOUlDER"
   },
   "source": [
    "<div class=\"alert alert-block alert-danger\">\n",
    "\n",
    "# FIT5196 Task 2 in Assessment 1\n",
    "    \n",
    "#### Student Name: xxxxxxx\n",
    "#### Student ID: xxxxxxxxx\n",
    "\n",
    "Date: xxxxxxxx\n",
    "\n",
    "Environment: xxxxxx\n",
    "\n",
    "Libraries used:\n",
    "* os (for interacting with the operating system, included in Python xxxx) \n",
    "* pandas 1.1.0 (for dataframe, installed and imported) \n",
    "* multiprocessing (for performing processes on multi cores, included in Python 3.6.9 package) \n",
    "* itertools (for performing operations on iterables)\n",
    "* nltk 3.5 (Natural Language Toolkit, installed and imported)\n",
    "* nltk.tokenize (for tokenization, installed and imported)\n",
    "* nltk.stem (for stemming the tokens, installed and imported)\n",
    "\n",
    "    </div>"
   ]
  },
  {
   "cell_type": "markdown",
   "metadata": {
    "id": "xnnLnFnLlDEU"
   },
   "source": [
    "<div class=\"alert alert-block alert-info\">\n",
    "    \n",
    "## Table of Contents\n",
    "\n",
    "</div>\n",
    "\n",
    "[1. Introduction](#Intro) <br>\n",
    "[2. Importing Libraries](#libs) <br>\n",
    "[3. Examining Input File](#examine) <br>\n",
    "[4. Loading and Parsing Files](#load) <br>\n",
    "$\\;\\;\\;\\;$[4.1. Tokenization](#tokenize) <br>\n",
    "$\\;\\;\\;\\;$[4.2. Whatever else](#whetev) <br>\n",
    "$\\;\\;\\;\\;$[4.3. Genegrate numerical representation](#whetev1) <br>\n",
    "[5. Writing Output Files](#write) <br>\n",
    "$\\;\\;\\;\\;$[5.1. Vocabulary List](#write-vocab) <br>\n",
    "$\\;\\;\\;\\;$[5.2. Sparse Matrix](#write-sparseMat) <br>\n",
    "[6. Summary](#summary) <br>\n",
    "[7. References](#Ref) <br>"
   ]
  },
  {
   "cell_type": "markdown",
   "metadata": {
    "id": "z8mo6PPRlDEU"
   },
   "source": [
    "<div class=\"alert alert-block alert-success\">\n",
    "    \n",
    "## 1.  Introduction  <a class=\"anchor\" name=\"Intro\"></a>"
   ]
  },
  {
   "cell_type": "markdown",
   "metadata": {
    "id": "ewZrff73lDEV"
   },
   "source": [
    "This assessment concerns textual data and the aim is to extract data, process them, and transform them into a proper format. The dataset provided is in the format of a PDF file containing ...."
   ]
  },
  {
   "cell_type": "code",
   "execution_count": null,
   "metadata": {},
   "outputs": [],
   "source": []
  },
  {
   "cell_type": "markdown",
   "metadata": {
    "id": "bSr_kwKclDEV"
   },
   "source": [
    "<div class=\"alert alert-block alert-success\">\n",
    "    \n",
    "## 2.  Importing Libraries  <a class=\"anchor\" name=\"libs\"></a>"
   ]
  },
  {
   "cell_type": "markdown",
   "metadata": {
    "id": "acwZw2NklDEW"
   },
   "source": [
    "In this assessment, any python packages is permitted to be used. The following packages were used to accomplish the related tasks:\n",
    "\n",
    "* **os:** to interact with the operating system, e.g. navigate through folders to read files\n",
    "* **re:** to define and use regular expressions\n",
    "* **pandas:** to work with dataframes\n",
    "* **multiprocessing:** to perform processes on multi cores for fast performance \n",
    "* ..."
   ]
  },
  {
   "cell_type": "code",
   "execution_count": 120,
   "metadata": {
    "id": "qgmGWs8HlDEW"
   },
   "outputs": [],
   "source": [
    "import os\n",
    "import re\n",
    "import langid\n",
    "import pandas as pd\n",
    "import multiprocessing\n",
    "from itertools import chain\n",
    "import nltk\n",
    "from nltk.probability import *\n",
    "from nltk.tokenize import RegexpTokenizer\n",
    "from nltk.tokenize import MWETokenizer\n",
    "from nltk.stem import PorterStemmer\n",
    "from nltk.util import ngrams\n",
    "from sklearn.feature_extraction.text import CountVectorizer"
   ]
  },
  {
   "cell_type": "markdown",
   "metadata": {
    "id": "lwNp0KnWlDEX"
   },
   "source": [
    "-------------------------------------"
   ]
  },
  {
   "cell_type": "markdown",
   "metadata": {
    "collapsed": true,
    "id": "SA7fSJiRlDEY"
   },
   "source": [
    "<div class=\"alert alert-block alert-success\">\n",
    "    \n",
    "## 3.  Examining Input File <a class=\"anchor\" name=\"examine\"></a>"
   ]
  },
  {
   "cell_type": "code",
   "execution_count": 121,
   "metadata": {
    "id": "bPCuEl8smTHW"
   },
   "outputs": [
    {
     "name": "stdout",
     "output_type": "stream",
     "text": [
      "                                  0x5490148aca2c3e9d:0xf5573bee4e65e43c  \\\n",
      "reviews               [{'user_id': '116224981347936201404', 'time': ...   \n",
      "earliest review date                                2015-02-18 04:11:32   \n",
      "latest review date                                  2021-05-16 13:40:40   \n",
      "\n",
      "                                  0x54d067024d499153:0x5957bba66f2cf917  \\\n",
      "reviews               [{'user_id': '101841141703065914959', 'time': ...   \n",
      "earliest review date                                2019-09-10 04:30:03   \n",
      "latest review date                                  2021-06-22 03:11:41   \n",
      "\n",
      "                                  0x54d15a8c9fadd0c5:0x6f3dabf2061ca13f  \\\n",
      "reviews               [{'user_id': '117474486532753329289', 'time': ...   \n",
      "earliest review date                                2011-02-04 10:15:09   \n",
      "latest review date                                  2021-05-13 07:26:56   \n",
      "\n",
      "                                  0x80803548ec1ed4e7:0x82301f8f5a243561  \\\n",
      "reviews               [{'user_id': '114379335207252591536', 'time': ...   \n",
      "earliest review date                                2012-10-19 07:46:12   \n",
      "latest review date                                  2020-10-02 10:11:20   \n",
      "\n",
      "                                  0x80843588fed19c55:0xeaed4339ca3a5967  \\\n",
      "reviews               [{'user_id': '105759461613667378610', 'time': ...   \n",
      "earliest review date                                2020-02-22 15:41:31   \n",
      "latest review date                                  2021-06-12 13:36:21   \n",
      "\n",
      "                                  0x80843810081ce52d:0xed9e63802f656fe7  \\\n",
      "reviews               [{'user_id': '115950312026745775978', 'time': ...   \n",
      "earliest review date                                2016-06-02 01:48:07   \n",
      "latest review date                                  2021-06-01 10:54:07   \n",
      "\n",
      "                                  0x808447fe73cd23ab:0x9a8fd8436f9d84d5  \\\n",
      "reviews               [{'user_id': '106049530697733367125', 'time': ...   \n",
      "earliest review date                                2006-03-13 11:00:00   \n",
      "latest review date                                  2018-03-26 01:40:43   \n",
      "\n",
      "                                  0x808449d77b0212b5:0x8f32f8ff844d7e15  \\\n",
      "reviews               [{'user_id': '113820792697653426348', 'time': ...   \n",
      "earliest review date                                2013-07-04 05:49:23   \n",
      "latest review date                                  2021-05-27 05:13:07   \n",
      "\n",
      "                                  0x8085060f89b7ac43:0xb0db1097221c151e  \\\n",
      "reviews               [{'user_id': '110528677426487009216', 'time': ...   \n",
      "earliest review date                                2013-06-03 12:37:09   \n",
      "latest review date                                  2021-05-24 11:43:17   \n",
      "\n",
      "                                  0x808517fb689abafd:0xd662d905045592e0  ...  \\\n",
      "reviews               [{'user_id': '111430634690906206153', 'time': ...  ...   \n",
      "earliest review date                                2016-05-03 08:01:25  ...   \n",
      "latest review date                                  2020-08-04 12:20:07  ...   \n",
      "\n",
      "                                  0x80deaa39f686f483:0x7cb8ee6a449ff97e  \\\n",
      "reviews               [{'user_id': '112833904162615286559', 'time': ...   \n",
      "earliest review date                                2011-08-27 14:36:55   \n",
      "latest review date                                  2021-06-12 14:44:21   \n",
      "\n",
      "                                  0x80e824fcd467d273:0xf5aad94f5647834c  \\\n",
      "reviews               [{'user_id': '103664237700857188772', 'time': ...   \n",
      "earliest review date                                2018-05-06 04:00:08   \n",
      "latest review date                                  2021-06-04 06:20:49   \n",
      "\n",
      "                                  0x80e84e82981f4e89:0xcab221ce7ab37574  \\\n",
      "reviews               [{'user_id': '103910573221034514730', 'time': ...   \n",
      "earliest review date                                2011-09-29 02:27:47   \n",
      "latest review date                                  2021-06-27 14:48:36   \n",
      "\n",
      "                                   0x80e9135871fada9d:0x2c7d17b75b94179  \\\n",
      "reviews               [{'user_id': '110645578854310382686', 'time': ...   \n",
      "earliest review date                                2013-11-20 14:40:08   \n",
      "latest review date                                  2021-05-08 09:13:27   \n",
      "\n",
      "                                  0x80ea40ee4abef035:0x5805ef1a1b3299cd  \\\n",
      "reviews               [{'user_id': '116280669284768069226', 'time': ...   \n",
      "earliest review date                                2016-12-06 15:07:28   \n",
      "latest review date                                  2021-08-14 11:15:53   \n",
      "\n",
      "                                  0x80ea421ce86f0497:0x5b5afa077475a774  \\\n",
      "reviews               [{'user_id': '103797776218183309010', 'time': ...   \n",
      "earliest review date                                2018-06-13 06:20:50   \n",
      "latest review date                                  2021-08-13 01:09:46   \n",
      "\n",
      "                                  0x80ea4300f599d8e5:0x7329ab3d671425c1  \\\n",
      "reviews               [{'user_id': '111582663216344120542', 'time': ...   \n",
      "earliest review date                                2015-08-06 01:57:31   \n",
      "latest review date                                  2021-05-07 06:17:01   \n",
      "\n",
      "                                  0x80ea6a91eafe7acd:0x6d9ba9785af38ee0  \\\n",
      "reviews               [{'user_id': '113360487904663433097', 'time': ...   \n",
      "earliest review date                                2014-03-26 09:10:09   \n",
      "latest review date                                  2021-05-19 14:29:08   \n",
      "\n",
      "                                  0x80eb2d286a214de3:0xbf9b24250923ebdc  \\\n",
      "reviews               [{'user_id': '109821846748069485296', 'time': ...   \n",
      "earliest review date                                2017-05-23 03:51:38   \n",
      "latest review date                                  2021-05-26 22:32:14   \n",
      "\n",
      "                                  0x80ecc56bd86d4b75:0xa9e2a577ebba1dde  \n",
      "reviews               [{'user_id': '109185948016235277915', 'time': ...  \n",
      "earliest review date                                2013-08-25 01:46:47  \n",
      "latest review date                                  2021-06-09 07:25:32  \n",
      "\n",
      "[3 rows x 176 columns]\n",
      "                                   gmap_id  \\\n",
      "0    0x5490148aca2c3e9d:0xf5573bee4e65e43c   \n",
      "1    0x54d067024d499153:0x5957bba66f2cf917   \n",
      "2    0x54d15a8c9fadd0c5:0x6f3dabf2061ca13f   \n",
      "3    0x80803548ec1ed4e7:0x82301f8f5a243561   \n",
      "4    0x80843588fed19c55:0xeaed4339ca3a5967   \n",
      "..                                     ...   \n",
      "171  0x80ea421ce86f0497:0x5b5afa077475a774   \n",
      "172  0x80ea4300f599d8e5:0x7329ab3d671425c1   \n",
      "173  0x80ea6a91eafe7acd:0x6d9ba9785af38ee0   \n",
      "174  0x80eb2d286a214de3:0xbf9b24250923ebdc   \n",
      "175  0x80ecc56bd86d4b75:0xa9e2a577ebba1dde   \n",
      "\n",
      "                                               reviews             earliest  \\\n",
      "0    [{'user_id': '116224981347936201404', 'time': ...  2015-02-18 04:11:32   \n",
      "1    [{'user_id': '101841141703065914959', 'time': ...  2019-09-10 04:30:03   \n",
      "2    [{'user_id': '117474486532753329289', 'time': ...  2011-02-04 10:15:09   \n",
      "3    [{'user_id': '114379335207252591536', 'time': ...  2012-10-19 07:46:12   \n",
      "4    [{'user_id': '105759461613667378610', 'time': ...  2020-02-22 15:41:31   \n",
      "..                                                 ...                  ...   \n",
      "171  [{'user_id': '103797776218183309010', 'time': ...  2018-06-13 06:20:50   \n",
      "172  [{'user_id': '111582663216344120542', 'time': ...  2015-08-06 01:57:31   \n",
      "173  [{'user_id': '113360487904663433097', 'time': ...  2014-03-26 09:10:09   \n",
      "174  [{'user_id': '109821846748069485296', 'time': ...  2017-05-23 03:51:38   \n",
      "175  [{'user_id': '109185948016235277915', 'time': ...  2013-08-25 01:46:47   \n",
      "\n",
      "                  latest  \n",
      "0    2021-05-16 13:40:40  \n",
      "1    2021-06-22 03:11:41  \n",
      "2    2021-05-13 07:26:56  \n",
      "3    2020-10-02 10:11:20  \n",
      "4    2021-06-12 13:36:21  \n",
      "..                   ...  \n",
      "171  2021-08-13 01:09:46  \n",
      "172  2021-05-07 06:17:01  \n",
      "173  2021-05-19 14:29:08  \n",
      "174  2021-05-26 22:32:14  \n",
      "175  2021-06-09 07:25:32  \n",
      "\n",
      "[176 rows x 4 columns]\n",
      "\n"
     ]
    }
   ],
   "source": [
    "df = pd.read_json(\"task1_30.json\")\n",
    "print(df)\n",
    "df = df.T.reset_index() \n",
    "df.columns = ['gmap_id', 'reviews', 'earliest', 'latest'] \n",
    "print(df)\n",
    "for index, row in df.iterrows():\n",
    "    filtered_reviews = [review for review in row[\"reviews\"] if review.get(\"review_text\") != \"None\"]\n",
    "    df.at[index, \"reviews\"] = filtered_reviews\n",
    "print()"
   ]
  },
  {
   "cell_type": "markdown",
   "metadata": {},
   "source": [
    "Justification: After reading the json file into a pandas dataframe. I found that the column and rows need to be transposed. Hence I used .T to ahieve that. Only the review contains more than 70 texts review is needed. So I used a list comprehension first to drop the review that is \"None\"."
   ]
  },
  {
   "cell_type": "markdown",
   "metadata": {},
   "source": []
  },
  {
   "cell_type": "markdown",
   "metadata": {
    "collapsed": true,
    "id": "ENnHWjoXlDEc"
   },
   "source": [
    "<div class=\"alert alert-block alert-success\">\n",
    "    \n",
    "## 4.  Loading and Parsing File <a class=\"anchor\" name=\"load\"></a>"
   ]
  },
  {
   "cell_type": "markdown",
   "metadata": {
    "id": "N9esGMx8lDEc"
   },
   "source": [
    "In this section, ...."
   ]
  },
  {
   "cell_type": "code",
   "execution_count": 122,
   "metadata": {
    "id": "YsnRR2c4lDEc"
   },
   "outputs": [
    {
     "name": "stdout",
     "output_type": "stream",
     "text": [
      "(176, 4)\n",
      "(78, 5)\n"
     ]
    }
   ],
   "source": [
    "print(df.shape)\n",
    "def extract_reviews(df):\n",
    "    df = df[df['reviews'].apply(len) >= 70].reset_index(drop=True)\n",
    "    df['review_text'] = ''\n",
    "    for index, row in df.iterrows():\n",
    "        review_texts = []\n",
    "        for review in row['reviews']:\n",
    "            text = review.get('review_text', '').lower()\n",
    "            # text = re.sub(r'[^\\x00-\\x7F]+', '', text)\n",
    "            review_texts.append(text)\n",
    "        df.at[index, 'review_text'] = ' '.join(review_texts)\n",
    "    print(df.shape)\n",
    "    return df\n",
    "\n",
    "df_review = extract_reviews(df)"
   ]
  },
  {
   "cell_type": "markdown",
   "metadata": {
    "id": "-uh9oUXAlDEd"
   },
   "source": [
    "After dropping all the review_text which is \"None\", I filtered the review by whose \"reviews\" list has more than 70 elements by applying len() method. After filtering the reviews, I created a new dataframe to store them. After that, a for loop is used to iterate through each row of the new data frame to store the review text to a new column \"review_text\". And then, join the review_text list to a string for further tokenization."
   ]
  },
  {
   "cell_type": "markdown",
   "metadata": {
    "collapsed": true,
    "id": "VIfQCD1VlDEe"
   },
   "source": [
    "<div class=\"alert alert-block alert-warning\">\n",
    "    \n",
    "### 4.1. Tokenization <a class=\"anchor\" name=\"tokenize\"></a>"
   ]
  },
  {
   "cell_type": "markdown",
   "metadata": {
    "id": "gchByyjolDEf"
   },
   "source": [
    "Tokenization is a principal step in text processing and producing unigrams. In this section, ...."
   ]
  },
  {
   "cell_type": "code",
   "execution_count": 123,
   "metadata": {},
   "outputs": [],
   "source": [
    "#Correct version\n",
    "stopwords_list = []\n",
    "with open(r'Student Data/stopwords_en.txt', 'r') as file:\n",
    "    for line in file:\n",
    "        stopwords_list.append(line.strip())\n",
    "df_review[\"tokennized_review\"] = None\n",
    "for index,row in df_review.iterrows():\n",
    "    # Tokenization\n",
    "    review_text = row[\"review_text\"]\n",
    "    tokenizer = RegexpTokenizer(r\"[a-zA-Z]+\")\n",
    "    unigram_tokens = tokenizer.tokenize(review_text)\n",
    "\n",
    "    # Remove tokens less than three\n",
    "    unigram_tokens = [token for token in unigram_tokens if len(token) >= 3]\n",
    "\n",
    "    # Remove independent stop words\n",
    "    stopped_tokens = [w for w in unigram_tokens if w not in stopwords_list]\n",
    "    #Stemming\n",
    "    stemmer = PorterStemmer()\n",
    "    stemed_tokens = [stemmer.stem(token) for token in stopped_tokens]\n",
    "    df_review.at[index, \"tokennized_review\"] = stemed_tokens\n",
    "    # print(mwe_tokens)"
   ]
  },
  {
   "cell_type": "markdown",
   "metadata": {
    "id": "ZqZos1q6lDEf"
   },
   "source": [
    "1. Read the stopwords txt and append them to a list called stopwords_lis\n",
    "2. Iterate through the rows of df_reviews\n",
    "3. Task a finished: Tokenize the review_text of each row by RegexpTokenizer\n",
    "Justification: To perform further processing like remove stop words, Stemmentization etc, Words need to be tokenized first.\n",
    "4. Task e finished: Used list comprehension to  filter out the tokens to be length longer than3\n",
    "Justification: Words's Lenth less than 3 are always meanningless words. Remove than at the beginning can help improve efficency of data processing.\n",
    "5. Task b1 finishied: Used list comprehension to filter the unigram_tokens by word not in the stop_word list.\n",
    "Justification: Stop words are considered noise that needs to be removed. Remove them before stemmatization, because if the stopwords are stemmed first, the words would be transformed that not being able to match the stopword list.\n",
    "6. Stemming the remaining tokens to their root forms using the Porter Stemmer.\n",
    "Justification: To identify context dependent stopwords, words need to be stemmed before removing them\n",
    "\n",
    "Explanation on result:"
   ]
  },
  {
   "cell_type": "code",
   "execution_count": 124,
   "metadata": {
    "id": "OPBNTTq6lDEg"
   },
   "outputs": [],
   "source": [
    "# Remove context dependent stopwords\n",
    "word_in_business = {}\n",
    "total_businesses = df_review.shape[0]\n",
    "\n",
    "for index, row in df_review.iterrows():\n",
    "    gmap_id = row['gmap_id']\n",
    "    unique_words = set(row['tokennized_review'])\n",
    "    for word in unique_words:\n",
    "        if word not in word_in_business:\n",
    "            word_in_business[word] = set()\n",
    "        word_in_business[word].add(gmap_id)\n",
    "\n",
    "context_dependent_stopwords = [word for word, business_set in word_in_business.items()\n",
    "                                if len(business_set) / total_businesses > 0.95]\n",
    "\n",
    "for index,row in df_review.iterrows():\n",
    "    stopped_tokens = [w for w in row['tokennized_review'] if w not in context_dependent_stopwords]\n",
    "    df_review.at[index, \"tokennized_review\"] = stopped_tokens\n"
   ]
  },
  {
   "cell_type": "markdown",
   "metadata": {},
   "source": [
    "1.Identifying and removing context-dependent stopwords, which are words that appear in more than 95% of businesses.\n",
    "Justification: For example: \"The words \"restaurant\" and \"restaurants\" are treated separately. \"Restaurant\" might appear in 80% of reviews, and \"restaurants\" in 20%. Individually, neither might exceed a frequency threshold (like 95%). Thus, neither is removed as a context-dependent stopword.\n",
    "\n",
    "Explanation on result:"
   ]
  },
  {
   "cell_type": "code",
   "execution_count": 125,
   "metadata": {},
   "outputs": [],
   "source": [
    "# Remove rare words\n",
    "word_in_business = {}\n",
    "total_businesses = df_review.shape[0]\n",
    "\n",
    "for index, row in df_review.iterrows():\n",
    "    gmap_id = row['gmap_id']\n",
    "    unique_words = set(row['tokennized_review'])\n",
    "    for word in unique_words:\n",
    "        if word not in word_in_business:\n",
    "            word_in_business[word] = set()\n",
    "        word_in_business[word].add(gmap_id)\n",
    "\n",
    "rare_words = [word for word, business_set in word_in_business.items()\n",
    "                                if len(business_set) / total_businesses < 0.05]\n",
    "\n",
    "for index,row in df_review.iterrows():\n",
    "    rared_tokens = [w for w in row['tokennized_review'] if w not in rare_words]\n",
    "    df_review.at[index, \"tokennized_review\"] = rared_tokens\n"
   ]
  },
  {
   "cell_type": "markdown",
   "metadata": {},
   "source": [
    "1. The purpose of this code is to remove rare words from the tokenized reviews. Rare words are defined as those that appear in less than 5% of the businesses in the dataset.\n",
    "Justification: This step should be done after stemmatization. For example,\"running,\" \"ran,\" and \"runs\" all stem to \"run.\" If rare word removal were done before stemming, each form would be treated as a separate entity, potentially missing the fact that collectively they might not be rare."
   ]
  },
  {
   "cell_type": "code",
   "execution_count": 126,
   "metadata": {},
   "outputs": [],
   "source": [
    "# Bigram words\n",
    "all_tokens = sum(df_review[\"tokennized_review\"], [])\n",
    "bigram_measures = nltk.collocations.BigramAssocMeasures()\n",
    "finder = nltk.collocations.BigramCollocationFinder.from_words(all_tokens)\n",
    "bigram_token = finder.nbest(bigram_measures.pmi, 200)  # Get the top 200 bigrams\n",
    "tokenizer = MWETokenizer(bigram_token)\n",
    "for index, row in df_review.iterrows():\n",
    "    mwe_tokens = tokenizer.tokenize(row[\"tokennized_review\"])\n",
    "    df_review.at[index, \"tokennized_review\"] = mwe_tokens  \n",
    "# print(df_review.head())"
   ]
  },
  {
   "cell_type": "markdown",
   "metadata": {},
   "source": [
    "1. Used MWETokenizer with pmi to find the first 200 bigrams and iterate through each row to identify the bigram and add bigram to it.\n",
    "\n",
    "Justification: "
   ]
  },
  {
   "cell_type": "code",
   "execution_count": 127,
   "metadata": {},
   "outputs": [],
   "source": [
    "# Export word count txt file\n",
    "all_tokens = sum(df_review[\"tokennized_review\"], [])\n",
    "all_tokens_per_doc = [token for token in df_review[\"tokennized_review\"]]\n",
    "\n",
    "unique_vocab = set(all_tokens)\n",
    "sorted_unique_vocab = sorted(unique_vocab)\n",
    "with open(\"test_vocab.txt\",'w') as file:\n",
    "    for index,word in enumerate(sorted_unique_vocab):\n",
    "        file.write(f\"{word}:{index}\\n\")"
   ]
  },
  {
   "cell_type": "markdown",
   "metadata": {},
   "source": []
  },
  {
   "cell_type": "markdown",
   "metadata": {
    "id": "mVqFfwwMlDEg"
   },
   "source": [
    "At this stage, all reviews for each PID are tokenized and are stored as a value in the new dictionary (separetely for each day).\n",
    "\n",
    "-------------------------------------"
   ]
  },
  {
   "cell_type": "markdown",
   "metadata": {
    "id": "NglwwiJRnPZd"
   },
   "source": [
    "<div class=\"alert alert-block alert-warning\">\n",
    "    \n",
    "### 4.2. Whatever else <a class=\"anchor\" name=\"whetev\"></a>"
   ]
  },
  {
   "cell_type": "markdown",
   "metadata": {
    "collapsed": true,
    "id": "Ve6IZ2I-lDEg"
   },
   "source": [
    "<div class=\"alert alert-block alert-warning\">\n",
    "    \n",
    "### 4.3. Generate numerical representation<a class=\"anchor\" name=\"bigrams\"></a>"
   ]
  },
  {
   "cell_type": "markdown",
   "metadata": {
    "id": "erGhUY2UlDEg"
   },
   "source": [
    "One of the tasks is to generate the numerical representation for all tokens in abstract.  ....."
   ]
  },
  {
   "cell_type": "code",
   "execution_count": 129,
   "metadata": {
    "id": "sgFFtm6qlDEg"
   },
   "outputs": [],
   "source": [
    "#some code\n",
    "vectorizer = CountVectorizer(analyzer=\"word\")\n",
    "documents = [' '.join(tokens) for tokens in all_tokens_per_doc]\n",
    "\n",
    "data_features = vectorizer.fit_transform(documents)\n",
    "\n",
    "vocab = vectorizer.get_feature_names_out()\n",
    "vocab_dist = {word: index for index, word in enumerate(vocab)}\n",
    "output_countvec = []\n",
    "for doc_index, gmap_id in enumerate(df_review[\"gmap_id\"]):\n",
    "    doc_vector = data_features[doc_index]\n",
    "    token_counts = zip(doc_vector.indices, doc_vector.data)\n",
    "    formatted_counts = [f\"{index}:{frequency}\" for index,frequency in token_counts] \n",
    "    output_line = f\"{gmap_id} \" + \", \".join(formatted_counts)\n",
    "    output_countvec.append(output_line)\n",
    "\n",
    "with open(\"countvec_test.txt\",\"w\") as file:\n",
    "    for line in output_countvec:\n",
    "        file.write(line + \"\\n\")"
   ]
  },
  {
   "cell_type": "markdown",
   "metadata": {
    "id": "7cbSKT6PlDEg"
   },
   "source": [
    "Random descriptions and justification ..."
   ]
  },
  {
   "cell_type": "markdown",
   "metadata": {
    "id": "aO1PJO-dlDEh"
   },
   "source": [
    "At this stage, we have a dictionary of tokenized words, whose keys are indicative of....\n",
    "\n",
    "-------------------------------------"
   ]
  },
  {
   "cell_type": "markdown",
   "metadata": {
    "id": "sfMYJ0XdlDEh"
   },
   "source": [
    "#### Whatever else <a class=\"anchor\" name=\"whatev1\"></a>"
   ]
  },
  {
   "cell_type": "markdown",
   "metadata": {
    "id": "XmaGJYIJlDEl"
   },
   "source": [
    "<div class=\"alert alert-block alert-success\">\n",
    "    \n",
    "## 5. Writing Output Files <a class=\"anchor\" name=\"write\"></a>"
   ]
  },
  {
   "cell_type": "markdown",
   "metadata": {
    "id": "wjMBqRetlDEl"
   },
   "source": [
    "files need to be generated:\n",
    "* Vocabulary list\n",
    "* Sparse matrix (count_vectors)\n",
    "\n",
    "This is performed in the following sections."
   ]
  },
  {
   "cell_type": "markdown",
   "metadata": {
    "id": "Fc6tQ4ljlDEm"
   },
   "source": [
    "<div class=\"alert alert-block alert-warning\">\n",
    "    \n",
    "### 5.1. Vocabulary List <a class=\"anchor\" name=\"write-vocab\"></a>"
   ]
  },
  {
   "cell_type": "markdown",
   "metadata": {
    "id": "SDlbpGYilDEm"
   },
   "source": [
    "List of vocabulary should also be written to a file, sorted alphabetically, with their reference codes in front of them. This file also refers to the sparse matrix in the next file. For this purpose, ....."
   ]
  },
  {
   "cell_type": "code",
   "execution_count": null,
   "metadata": {
    "id": "Y6OUXHlxlDEm"
   },
   "outputs": [],
   "source": [
    "#some code"
   ]
  },
  {
   "cell_type": "markdown",
   "metadata": {
    "id": "YkGH81YFlDEn"
   },
   "source": [
    "<div class=\"alert alert-block alert-warning\">\n",
    "    \n",
    "### 5.2. Sparse Matrix <a class=\"anchor\" name=\"write-sparseMat\"></a>"
   ]
  },
  {
   "cell_type": "markdown",
   "metadata": {
    "id": "EtxqUAwmlDEn"
   },
   "source": [
    "For writing sparse matrix for a paper, we firstly calculate the frequency of words for that paper ...."
   ]
  },
  {
   "cell_type": "code",
   "execution_count": null,
   "metadata": {
    "id": "__n1fdIqlDEn"
   },
   "outputs": [],
   "source": [
    "#some code"
   ]
  },
  {
   "cell_type": "markdown",
   "metadata": {
    "id": "mUFQU-QXlDEn"
   },
   "source": [
    "-------------------------------------"
   ]
  },
  {
   "cell_type": "markdown",
   "metadata": {
    "id": "AWjri6x_lDEn"
   },
   "source": [
    "<div class=\"alert alert-block alert-success\">\n",
    "    \n",
    "## 6. Summary <a class=\"anchor\" name=\"summary\"></a>"
   ]
  },
  {
   "cell_type": "markdown",
   "metadata": {
    "id": "RXAprlSblDEn"
   },
   "source": [
    "....."
   ]
  },
  {
   "cell_type": "markdown",
   "metadata": {
    "id": "HFXYKxO8lDEn"
   },
   "source": [
    "-------------------------------------"
   ]
  },
  {
   "cell_type": "markdown",
   "metadata": {
    "id": "HppxDtWNlDEn"
   },
   "source": [
    "<div class=\"alert alert-block alert-success\">\n",
    "    \n",
    "## 7. References <a class=\"anchor\" name=\"Ref\"></a>"
   ]
  },
  {
   "cell_type": "markdown",
   "metadata": {
    "id": "PCkWr-M1lDEo"
   },
   "source": [
    "[1] Pandas dataframe.drop_duplicates(), https://www.geeksforgeeks.org/python-pandas-dataframe-drop_duplicates/, Accessed 13/08/2022.\n",
    "\n"
   ]
  },
  {
   "cell_type": "markdown",
   "metadata": {
    "id": "mp9O-a1UlDEo"
   },
   "source": [
    "## --------------------------------------------------------------------------------------------------------------------------"
   ]
  }
 ],
 "metadata": {
  "colab": {
   "name": "task2_xxxxxxx.ipynb",
   "provenance": []
  },
  "kernelspec": {
   "display_name": "Python 3",
   "language": "python",
   "name": "python3"
  },
  "language_info": {
   "codemirror_mode": {
    "name": "ipython",
    "version": 3
   },
   "file_extension": ".py",
   "mimetype": "text/x-python",
   "name": "python",
   "nbconvert_exporter": "python",
   "pygments_lexer": "ipython3",
   "version": "3.11.4"
  },
  "toc": {
   "base_numbering": 1,
   "nav_menu": {},
   "number_sections": true,
   "sideBar": true,
   "skip_h1_title": false,
   "title_cell": "Table of Contents",
   "title_sidebar": "Contents",
   "toc_cell": false,
   "toc_position": {},
   "toc_section_display": true,
   "toc_window_display": true
  }
 },
 "nbformat": 4,
 "nbformat_minor": 1
}
